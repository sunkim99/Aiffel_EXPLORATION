{
 "cells": [
  {
   "cell_type": "code",
   "execution_count": 11,
   "id": "d26abb0b",
   "metadata": {},
   "outputs": [
    {
     "name": "stdout",
     "output_type": "stream",
     "text": [
      "1\n",
      "2\n",
      "3\n",
      "5\n",
      "8\n",
      "13\n",
      "21\n",
      "34\n",
      "55\n",
      "89\n",
      "144\n",
      "233\n",
      "377\n",
      "610\n",
      "987\n",
      "1597\n",
      "2584\n",
      "4181\n",
      "6765\n",
      "10946\n",
      "3\n"
     ]
    },
    {
     "data": {
      "text/plain": [
       "3"
      ]
     },
     "execution_count": 11,
     "metadata": {},
     "output_type": "execute_result"
    }
   ],
   "source": [
    "def FibonaChicken(n):\n",
    "    if n < 2 :\n",
    "        return 1\n",
    "    else :\n",
    "        return FibonaChicken(n-2) +FibonaChicken(n-1)\n",
    "    \n",
    "\n",
    "n = 1\n",
    "while n <= 20:\n",
    "    print(FibonaChicken(n))\n",
    "    n = n + 1\n",
    "   \n",
    "\n",
    "n = int(input())\n",
    "FibonaChicken(n)"
   ]
  },
  {
   "cell_type": "code",
   "execution_count": null,
   "id": "60c938e9",
   "metadata": {},
   "outputs": [],
   "source": []
  },
  {
   "cell_type": "code",
   "execution_count": null,
   "id": "e2d0f510",
   "metadata": {},
   "outputs": [],
   "source": []
  }
 ],
 "metadata": {
  "kernelspec": {
   "display_name": "Python 3 (ipykernel)",
   "language": "python",
   "name": "python3"
  },
  "language_info": {
   "codemirror_mode": {
    "name": "ipython",
    "version": 3
   },
   "file_extension": ".py",
   "mimetype": "text/x-python",
   "name": "python",
   "nbconvert_exporter": "python",
   "pygments_lexer": "ipython3",
   "version": "3.8.13"
  }
 },
 "nbformat": 4,
 "nbformat_minor": 5
}
