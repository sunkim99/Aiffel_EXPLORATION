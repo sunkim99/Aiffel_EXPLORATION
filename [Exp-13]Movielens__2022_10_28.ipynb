{
 "cells": [
  {
   "cell_type": "markdown",
   "id": "e2b52fc9",
   "metadata": {},
   "source": [
    "# 13. 아이유팬이 좋아할 만한 다른 아티스트 찾기"
   ]
  },
  {
   "cell_type": "markdown",
   "id": "59c973f6",
   "metadata": {},
   "source": [
    "## 13-9. 프로젝트 - Movielens 영화 추천 실습"
   ]
  },
  {
   "cell_type": "markdown",
   "id": "23afda32",
   "metadata": {},
   "source": [
    "#### 라이브러리 버전 확인"
   ]
  },
  {
   "cell_type": "code",
   "execution_count": 1,
   "id": "cc0a5077",
   "metadata": {},
   "outputs": [
    {
     "name": "stdout",
     "output_type": "stream",
     "text": [
      "1.21.4\n",
      "1.7.1\n",
      "0.4.8\n"
     ]
    }
   ],
   "source": [
    "import numpy as np\n",
    "import scipy\n",
    "import implicit\n",
    "\n",
    "\n",
    "\n",
    "print(np.__version__)\n",
    "print(scipy.__version__)\n",
    "print(implicit.__version__)"
   ]
  },
  {
   "cell_type": "markdown",
   "id": "ad311cec",
   "metadata": {},
   "source": [
    "별점을 시청횟수로 해석해서 생각하겠습니다.\n",
    "\n",
    "또한 유저가 3점 미만으로 준 데이터는 선호하지 않는다고 가정하고 제외하겠습니다."
   ]
  },
  {
   "cell_type": "markdown",
   "id": "585a9603",
   "metadata": {},
   "source": [
    "### 1) 데이터 준비와 전처리"
   ]
  },
  {
   "cell_type": "code",
   "execution_count": 2,
   "id": "bf834871",
   "metadata": {},
   "outputs": [
    {
     "data": {
      "text/html": [
       "<div>\n",
       "<style scoped>\n",
       "    .dataframe tbody tr th:only-of-type {\n",
       "        vertical-align: middle;\n",
       "    }\n",
       "\n",
       "    .dataframe tbody tr th {\n",
       "        vertical-align: top;\n",
       "    }\n",
       "\n",
       "    .dataframe thead th {\n",
       "        text-align: right;\n",
       "    }\n",
       "</style>\n",
       "<table border=\"1\" class=\"dataframe\">\n",
       "  <thead>\n",
       "    <tr style=\"text-align: right;\">\n",
       "      <th></th>\n",
       "      <th>user_id</th>\n",
       "      <th>movie_id</th>\n",
       "      <th>ratings</th>\n",
       "      <th>timestamp</th>\n",
       "    </tr>\n",
       "  </thead>\n",
       "  <tbody>\n",
       "    <tr>\n",
       "      <th>0</th>\n",
       "      <td>1</td>\n",
       "      <td>1193</td>\n",
       "      <td>5</td>\n",
       "      <td>978300760</td>\n",
       "    </tr>\n",
       "    <tr>\n",
       "      <th>1</th>\n",
       "      <td>1</td>\n",
       "      <td>661</td>\n",
       "      <td>3</td>\n",
       "      <td>978302109</td>\n",
       "    </tr>\n",
       "    <tr>\n",
       "      <th>2</th>\n",
       "      <td>1</td>\n",
       "      <td>914</td>\n",
       "      <td>3</td>\n",
       "      <td>978301968</td>\n",
       "    </tr>\n",
       "    <tr>\n",
       "      <th>3</th>\n",
       "      <td>1</td>\n",
       "      <td>3408</td>\n",
       "      <td>4</td>\n",
       "      <td>978300275</td>\n",
       "    </tr>\n",
       "    <tr>\n",
       "      <th>4</th>\n",
       "      <td>1</td>\n",
       "      <td>2355</td>\n",
       "      <td>5</td>\n",
       "      <td>978824291</td>\n",
       "    </tr>\n",
       "  </tbody>\n",
       "</table>\n",
       "</div>"
      ],
      "text/plain": [
       "   user_id  movie_id  ratings  timestamp\n",
       "0        1      1193        5  978300760\n",
       "1        1       661        3  978302109\n",
       "2        1       914        3  978301968\n",
       "3        1      3408        4  978300275\n",
       "4        1      2355        5  978824291"
      ]
     },
     "execution_count": 2,
     "metadata": {},
     "output_type": "execute_result"
    }
   ],
   "source": [
    "import pandas as pd\n",
    "import os\n",
    "\n",
    "rating_file_path=os.getenv('HOME') + '/aiffel/recommendata_iu/data/ml-1m/ratings.dat'\n",
    "ratings_cols = ['user_id', 'movie_id', 'ratings', 'timestamp']\n",
    "ratings = pd.read_csv(rating_file_path, sep='::', names=ratings_cols, engine='python', encoding = \"ISO-8859-1\")\n",
    "orginal_data_size = len(ratings)\n",
    "ratings.head()"
   ]
  },
  {
   "cell_type": "code",
   "execution_count": 3,
   "id": "00029f05",
   "metadata": {},
   "outputs": [
    {
     "name": "stdout",
     "output_type": "stream",
     "text": [
      "orginal_data_size: 1000209, filtered_data_size: 836478\n",
      "Ratio of Remaining Data is 83.63%\n"
     ]
    }
   ],
   "source": [
    "# 3점 이상만 남깁니다.\n",
    "ratings = ratings[ratings['ratings']>=3]\n",
    "filtered_data_size = len(ratings)\n",
    "\n",
    "print(f'orginal_data_size: {orginal_data_size}, filtered_data_size: {filtered_data_size}')\n",
    "print(f'Ratio of Remaining Data is {filtered_data_size / orginal_data_size:.2%}')"
   ]
  },
  {
   "cell_type": "code",
   "execution_count": 4,
   "id": "9b4516d3",
   "metadata": {},
   "outputs": [],
   "source": [
    "# ratings 컬럼의 이름을 counts로 바꿉니다.\n",
    "ratings.rename(columns={'ratings':'counts'}, inplace=True)"
   ]
  },
  {
   "cell_type": "code",
   "execution_count": 5,
   "id": "0540ed62",
   "metadata": {},
   "outputs": [
    {
     "data": {
      "text/plain": [
       "0          5\n",
       "1          3\n",
       "2          3\n",
       "3          4\n",
       "4          5\n",
       "          ..\n",
       "1000203    3\n",
       "1000205    5\n",
       "1000206    5\n",
       "1000207    4\n",
       "1000208    4\n",
       "Name: counts, Length: 836478, dtype: int64"
      ]
     },
     "execution_count": 5,
     "metadata": {},
     "output_type": "execute_result"
    }
   ],
   "source": [
    "ratings['counts']"
   ]
  },
  {
   "cell_type": "code",
   "execution_count": 6,
   "id": "b94fe5cf",
   "metadata": {},
   "outputs": [
    {
     "data": {
      "text/html": [
       "<div>\n",
       "<style scoped>\n",
       "    .dataframe tbody tr th:only-of-type {\n",
       "        vertical-align: middle;\n",
       "    }\n",
       "\n",
       "    .dataframe tbody tr th {\n",
       "        vertical-align: top;\n",
       "    }\n",
       "\n",
       "    .dataframe thead th {\n",
       "        text-align: right;\n",
       "    }\n",
       "</style>\n",
       "<table border=\"1\" class=\"dataframe\">\n",
       "  <thead>\n",
       "    <tr style=\"text-align: right;\">\n",
       "      <th></th>\n",
       "      <th>movie_id</th>\n",
       "      <th>title</th>\n",
       "      <th>genre</th>\n",
       "    </tr>\n",
       "  </thead>\n",
       "  <tbody>\n",
       "    <tr>\n",
       "      <th>0</th>\n",
       "      <td>1</td>\n",
       "      <td>Toy Story (1995)</td>\n",
       "      <td>Animation|Children's|Comedy</td>\n",
       "    </tr>\n",
       "    <tr>\n",
       "      <th>1</th>\n",
       "      <td>2</td>\n",
       "      <td>Jumanji (1995)</td>\n",
       "      <td>Adventure|Children's|Fantasy</td>\n",
       "    </tr>\n",
       "    <tr>\n",
       "      <th>2</th>\n",
       "      <td>3</td>\n",
       "      <td>Grumpier Old Men (1995)</td>\n",
       "      <td>Comedy|Romance</td>\n",
       "    </tr>\n",
       "    <tr>\n",
       "      <th>3</th>\n",
       "      <td>4</td>\n",
       "      <td>Waiting to Exhale (1995)</td>\n",
       "      <td>Comedy|Drama</td>\n",
       "    </tr>\n",
       "    <tr>\n",
       "      <th>4</th>\n",
       "      <td>5</td>\n",
       "      <td>Father of the Bride Part II (1995)</td>\n",
       "      <td>Comedy</td>\n",
       "    </tr>\n",
       "  </tbody>\n",
       "</table>\n",
       "</div>"
      ],
      "text/plain": [
       "   movie_id                               title                         genre\n",
       "0         1                    Toy Story (1995)   Animation|Children's|Comedy\n",
       "1         2                      Jumanji (1995)  Adventure|Children's|Fantasy\n",
       "2         3             Grumpier Old Men (1995)                Comedy|Romance\n",
       "3         4            Waiting to Exhale (1995)                  Comedy|Drama\n",
       "4         5  Father of the Bride Part II (1995)                        Comedy"
      ]
     },
     "execution_count": 6,
     "metadata": {},
     "output_type": "execute_result"
    }
   ],
   "source": [
    "# 영화 제목을 보기 위해 메타 데이터를 읽어옵니다.\n",
    "movie_file_path=os.getenv('HOME') + '/aiffel/recommendata_iu/data/ml-1m/movies.dat'\n",
    "cols = ['movie_id', 'title', 'genre'] \n",
    "movies = pd.read_csv(movie_file_path, sep='::', names=cols, engine='python', encoding='ISO-8859-1')\n",
    "movies.head()"
   ]
  },
  {
   "cell_type": "code",
   "execution_count": 7,
   "id": "2f4b0481",
   "metadata": {
    "scrolled": false
   },
   "outputs": [
    {
     "data": {
      "text/plain": [
       "array([\"Animation|Children's|Comedy\", \"Adventure|Children's|Fantasy\",\n",
       "       'Comedy|Romance', 'Comedy|Drama', 'Comedy',\n",
       "       'Action|Crime|Thriller', \"Adventure|Children's\", 'Action',\n",
       "       'Action|Adventure|Thriller', 'Comedy|Drama|Romance',\n",
       "       'Comedy|Horror', \"Animation|Children's\", 'Drama',\n",
       "       'Action|Adventure|Romance', 'Drama|Thriller', 'Drama|Romance',\n",
       "       'Thriller', 'Action|Comedy|Drama', 'Crime|Drama|Thriller',\n",
       "       'Drama|Sci-Fi', 'Romance', 'Adventure|Sci-Fi', 'Adventure|Romance',\n",
       "       \"Children's|Comedy|Drama\", 'Documentary', 'Drama|War',\n",
       "       'Action|Crime|Drama', 'Action|Adventure', 'Crime|Thriller',\n",
       "       \"Animation|Children's|Musical|Romance\", 'Action|Drama|Thriller',\n",
       "       \"Children's|Comedy\", 'Drama|Mystery', 'Sci-Fi|Thriller',\n",
       "       'Action|Comedy|Crime|Horror|Thriller', 'Drama|Musical',\n",
       "       'Crime|Drama|Romance', 'Adventure|Drama', 'Action|Thriller',\n",
       "       \"Adventure|Children's|Comedy|Musical\", 'Action|Drama|War',\n",
       "       'Action|Adventure|Crime', 'Crime', 'Drama|Mystery|Romance',\n",
       "       'Action|Drama', 'Drama|Romance|War', 'Horror',\n",
       "       'Action|Adventure|Comedy|Crime', 'Comedy|War',\n",
       "       'Action|Adventure|Mystery|Sci-Fi', 'Drama|Thriller|War',\n",
       "       'Action|Romance|Thriller', 'Crime|Film-Noir|Mystery|Thriller',\n",
       "       'Action|Adventure|Drama|Romance', \"Adventure|Children's|Drama\",\n",
       "       'Action|Sci-Fi|Thriller', 'Action|Adventure|Sci-Fi',\n",
       "       \"Action|Children's\", 'Horror|Sci-Fi', 'Action|Crime|Sci-Fi',\n",
       "       'Western', \"Animation|Children's|Comedy|Romance\",\n",
       "       \"Children's|Drama\", 'Crime|Drama',\n",
       "       'Drama|Fantasy|Romance|Thriller', 'Drama|Horror', 'Comedy|Sci-Fi',\n",
       "       'Mystery|Thriller', \"Adventure|Children's|Comedy|Fantasy|Romance\",\n",
       "       'Action|Adventure|Fantasy|Sci-Fi', 'Drama|Romance|War|Western',\n",
       "       'Action|Crime', 'Crime|Drama|Romance|Thriller',\n",
       "       'Action|Adventure|Western', 'Horror|Thriller',\n",
       "       \"Children's|Comedy|Fantasy\", 'Film-Noir|Thriller',\n",
       "       'Action|Comedy|Musical|Sci-Fi', \"Children's\",\n",
       "       'Drama|Mystery|Thriller', 'Comedy|Romance|War', 'Action|Comedy',\n",
       "       \"Adventure|Children's|Romance\", \"Animation|Children's|Musical\",\n",
       "       'Comedy|Crime|Fantasy', 'Action|Comedy|Western', 'Action|Sci-Fi',\n",
       "       'Action|Adventure|Comedy|Romance', 'Comedy|Crime|Drama',\n",
       "       'Comedy|Thriller', 'Horror|Sci-Fi|Thriller',\n",
       "       'Mystery|Romance|Thriller', 'Comedy|Western', 'Drama|Western',\n",
       "       'Action|Adventure|Crime|Thriller', 'Action|Comedy|War',\n",
       "       'Comedy|Mystery', 'Comedy|Mystery|Romance', 'Comedy|Drama|War',\n",
       "       'Action|Drama|Mystery', 'Comedy|Crime|Horror', 'Film-Noir|Sci-Fi',\n",
       "       'Comedy|Romance|Thriller', \"Action|Adventure|Children's|Sci-Fi\",\n",
       "       \"Children's|Comedy|Musical\", 'Action|Adventure|Comedy',\n",
       "       'Action|Crime|Romance',\n",
       "       \"Action|Adventure|Animation|Children's|Fantasy\",\n",
       "       \"Animation|Children's|Comedy|Musical\", 'Adventure|Drama|Western',\n",
       "       'Action|Adventure|Crime|Drama',\n",
       "       'Action|Adventure|Animation|Horror|Sci-Fi', 'Action|Horror|Sci-Fi',\n",
       "       'War', 'Action|Adventure|Mystery', 'Mystery',\n",
       "       'Action|Adventure|Fantasy',\n",
       "       \"Adventure|Animation|Children's|Comedy|Fantasy\", 'Sci-Fi',\n",
       "       'Documentary|Drama', 'Action|Adventure|Comedy|War',\n",
       "       'Crime|Film-Noir|Thriller', 'Animation',\n",
       "       'Action|Adventure|Romance|Thriller', 'Animation|Sci-Fi',\n",
       "       'Animation|Comedy|Thriller', 'Film-Noir', 'Sci-Fi|War',\n",
       "       'Adventure', 'Comedy|Crime', 'Action|Sci-Fi|War',\n",
       "       'Comedy|Fantasy|Romance|Sci-Fi', 'Fantasy',\n",
       "       'Action|Mystery|Thriller', 'Comedy|Musical',\n",
       "       'Action|Adventure|Sci-Fi|Thriller', \"Children's|Drama|Fantasy\",\n",
       "       'Adventure|War', 'Musical|Romance', 'Comedy|Musical|Romance',\n",
       "       'Comedy|Mystery|Romance|Thriller', 'Film-Noir|Mystery', 'Musical',\n",
       "       \"Adventure|Children's|Drama|Musical\",\n",
       "       'Drama|Mystery|Sci-Fi|Thriller', 'Romance|Thriller',\n",
       "       'Film-Noir|Romance|Thriller', 'Crime|Film-Noir|Mystery',\n",
       "       'Adventure|Comedy', 'Action|Adventure|Romance|War', 'Romance|War',\n",
       "       'Action|Drama|Western', \"Children's|Comedy|Western\",\n",
       "       \"Adventure|Children's|Comedy\", \"Children's|Comedy|Mystery\",\n",
       "       \"Adventure|Children's|Fantasy|Sci-Fi\",\n",
       "       \"Adventure|Animation|Children's|Musical\",\n",
       "       \"Adventure|Children's|Musical\", 'Crime|Film-Noir',\n",
       "       \"Adventure|Children's|Comedy|Fantasy\",\n",
       "       \"Children's|Drama|Fantasy|Sci-Fi\", 'Action|Romance',\n",
       "       'Adventure|Western', 'Comedy|Fantasy', 'Animation|Comedy',\n",
       "       'Crime|Drama|Film-Noir', 'Action|Adventure|Drama|Sci-Fi|War',\n",
       "       'Action|Sci-Fi|Thriller|War', 'Action|Western',\n",
       "       \"Action|Animation|Children's|Sci-Fi|Thriller|War\",\n",
       "       'Action|Adventure|Romance|Sci-Fi|War',\n",
       "       'Action|Horror|Sci-Fi|Thriller',\n",
       "       'Action|Adventure|Comedy|Horror|Sci-Fi', 'Action|Comedy|Musical',\n",
       "       'Mystery|Sci-Fi', 'Film-Noir|Mystery|Thriller',\n",
       "       'Adventure|Comedy|Drama', 'Action|Adventure|Comedy|Horror',\n",
       "       'Action|Drama|Mystery|Romance|Thriller', 'Comedy|Mystery|Thriller',\n",
       "       'Adventure|Animation|Sci-Fi|Thriller', 'Action|Drama|Romance',\n",
       "       'Action|Adventure|Drama', 'Comedy|Drama|Musical',\n",
       "       'Documentary|War', 'Drama|Musical|War', 'Action|Horror',\n",
       "       'Horror|Romance', 'Action|Comedy|Sci-Fi|War', 'Crime|Drama|Sci-Fi',\n",
       "       'Action|Romance|War', 'Action|Comedy|Crime|Drama',\n",
       "       'Action|Drama|Thriller|War', \"Action|Adventure|Children's\",\n",
       "       \"Action|Adventure|Children's|Fantasy\",\n",
       "       \"Adventure|Animation|Children's|Comedy|Musical\",\n",
       "       'Crime|Drama|Mystery', 'Action|Adventure|Comedy|Sci-Fi',\n",
       "       \"Children's|Fantasy\", 'Action|Mystery|Sci-Fi|Thriller',\n",
       "       'Action|Mystery|Romance|Thriller', 'Adventure|Thriller',\n",
       "       'Action|Thriller|War', 'Action|Crime|Mystery',\n",
       "       'Horror|Mystery|Thriller', 'Crime|Horror|Mystery|Thriller',\n",
       "       'Comedy|Drama|Thriller', 'Drama|Sci-Fi|Thriller',\n",
       "       'Drama|Romance|Thriller', 'Action|Adventure|Sci-Fi|War',\n",
       "       'Comedy|Crime|Drama|Mystery', 'Comedy|Crime|Mystery|Thriller',\n",
       "       'Film-Noir|Sci-Fi|Thriller', 'Adventure|Sci-Fi|Thriller',\n",
       "       'Crime|Drama|Mystery|Thriller', 'Comedy|Documentary',\n",
       "       'Documentary|Musical', 'Action|Drama|Sci-Fi|Thriller',\n",
       "       \"Adventure|Animation|Children's|Fantasy\",\n",
       "       'Adventure|Comedy|Romance', 'Mystery|Sci-Fi|Thriller',\n",
       "       'Action|Comedy|Crime', \"Animation|Children's|Fantasy|War\",\n",
       "       'Action|Crime|Drama|Thriller', 'Comedy|Sci-Fi|Western',\n",
       "       \"Children's|Fantasy|Musical\", 'Fantasy|Sci-Fi',\n",
       "       \"Children's|Comedy|Sci-Fi\", \"Action|Adventure|Children's|Comedy\",\n",
       "       \"Adventure|Children's|Drama|Romance\",\n",
       "       \"Adventure|Children's|Sci-Fi\",\n",
       "       \"Adventure|Children's|Comedy|Fantasy|Sci-Fi\",\n",
       "       \"Animation|Children's|Comedy|Musical|Romance\",\n",
       "       \"Children's|Musical\", 'Drama|Fantasy',\n",
       "       \"Animation|Children's|Fantasy|Musical\", 'Adventure|Comedy|Musical',\n",
       "       \"Children's|Sci-Fi\", \"Children's|Horror\", 'Comedy|Fantasy|Romance',\n",
       "       'Comedy|Crime|Thriller', \"Adventure|Animation|Children's|Sci-Fi\",\n",
       "       'Action|Crime|Mystery|Thriller', 'Adventure|Musical',\n",
       "       \"Animation|Children's|Drama|Fantasy\", \"Children's|Fantasy|Sci-Fi\",\n",
       "       'Adventure|Fantasy|Romance', 'Crime|Horror',\n",
       "       'Action|Adventure|Horror', 'Adventure|Fantasy|Sci-Fi',\n",
       "       'Drama|Film-Noir|Thriller', 'Action|Comedy|Fantasy',\n",
       "       'Sci-Fi|Thriller|War', 'Action|Adventure|Sci-Fi|Thriller|War',\n",
       "       'Action|Adventure|Drama|Thriller', 'Crime|Horror|Thriller',\n",
       "       'Animation|Musical', 'Action|War',\n",
       "       'Action|Comedy|Romance|Thriller', 'Comedy|Horror|Thriller',\n",
       "       'Drama|Horror|Thriller', 'Action|Sci-Fi|Thriller|Western',\n",
       "       'Drama|Romance|Sci-Fi', 'Action|Adventure|Horror|Thriller',\n",
       "       'Comedy|Film-Noir|Thriller', 'Comedy|Horror|Musical|Sci-Fi',\n",
       "       'Comedy|Romance|Sci-Fi', 'Action|Comedy|Sci-Fi|Thriller',\n",
       "       'Action|Sci-Fi|Western', 'Comedy|Horror|Musical', 'Crime|Mystery',\n",
       "       'Animation|Mystery', 'Action|Horror|Thriller',\n",
       "       'Action|Drama|Fantasy|Romance', 'Horror|Mystery',\n",
       "       \"Adventure|Animation|Children's\", 'Musical|Romance|War',\n",
       "       'Adventure|Drama|Romance', 'Adventure|Animation|Film-Noir',\n",
       "       'Action|Adventure|Animation', 'Comedy|Drama|Western',\n",
       "       'Adventure|Comedy|Sci-Fi', 'Drama|Romance|Western',\n",
       "       'Comedy|Drama|Sci-Fi', 'Action|Drama|Romance|Thriller',\n",
       "       'Adventure|Romance|Sci-Fi', 'Film-Noir|Horror',\n",
       "       'Crime|Drama|Film-Noir|Thriller', 'Action|Adventure|War',\n",
       "       'Romance|Western', \"Action|Children's|Fantasy\",\n",
       "       'Adventure|Drama|Thriller', 'Adventure|Fantasy', 'Musical|War',\n",
       "       'Adventure|Musical|Romance', 'Action|Romance|Sci-Fi',\n",
       "       'Drama|Film-Noir', 'Comedy|Horror|Sci-Fi',\n",
       "       'Adventure|Drama|Romance|Sci-Fi', 'Adventure|Animation|Sci-Fi',\n",
       "       'Adventure|Crime|Sci-Fi|Thriller'], dtype=object)"
      ]
     },
     "execution_count": 7,
     "metadata": {},
     "output_type": "execute_result"
    }
   ],
   "source": [
    "movies['genre'].unique()"
   ]
  },
  {
   "cell_type": "markdown",
   "id": "3609d77f",
   "metadata": {},
   "source": [
    "### 2) 분석해 봅시다.\n",
    "ratings에 있는 유니크한 영화 개수\n",
    "\n",
    "ratings에 있는 유니크한 사용자 수\n",
    "\n",
    "가장 인기 있는 영화 30개(인기순)"
   ]
  },
  {
   "cell_type": "code",
   "execution_count": 8,
   "id": "b978614d",
   "metadata": {},
   "outputs": [
    {
     "data": {
      "text/plain": [
       "3628"
      ]
     },
     "execution_count": 8,
     "metadata": {},
     "output_type": "execute_result"
    }
   ],
   "source": [
    "# ratings에 있는 유니크한 영화 개수\n",
    "ratings['movie_id'].nunique()"
   ]
  },
  {
   "cell_type": "code",
   "execution_count": 9,
   "id": "b7a88148",
   "metadata": {},
   "outputs": [
    {
     "data": {
      "text/plain": [
       "6039"
      ]
     },
     "execution_count": 9,
     "metadata": {},
     "output_type": "execute_result"
    }
   ],
   "source": [
    "# ratings에 있는 유니크한 사용자 수\n",
    "ratings['user_id'].nunique()"
   ]
  },
  {
   "cell_type": "code",
   "execution_count": 10,
   "id": "9ad23ae1",
   "metadata": {},
   "outputs": [
    {
     "data": {
      "text/html": [
       "<div>\n",
       "<style scoped>\n",
       "    .dataframe tbody tr th:only-of-type {\n",
       "        vertical-align: middle;\n",
       "    }\n",
       "\n",
       "    .dataframe tbody tr th {\n",
       "        vertical-align: top;\n",
       "    }\n",
       "\n",
       "    .dataframe thead th {\n",
       "        text-align: right;\n",
       "    }\n",
       "</style>\n",
       "<table border=\"1\" class=\"dataframe\">\n",
       "  <thead>\n",
       "    <tr style=\"text-align: right;\">\n",
       "      <th></th>\n",
       "      <th>user_id</th>\n",
       "      <th>movie_id</th>\n",
       "      <th>counts</th>\n",
       "      <th>timestamp</th>\n",
       "      <th>title</th>\n",
       "      <th>genre</th>\n",
       "    </tr>\n",
       "  </thead>\n",
       "  <tbody>\n",
       "    <tr>\n",
       "      <th>0</th>\n",
       "      <td>1</td>\n",
       "      <td>1193</td>\n",
       "      <td>5</td>\n",
       "      <td>978300760</td>\n",
       "      <td>One Flew Over the Cuckoo's Nest (1975)</td>\n",
       "      <td>Drama</td>\n",
       "    </tr>\n",
       "    <tr>\n",
       "      <th>1</th>\n",
       "      <td>2</td>\n",
       "      <td>1193</td>\n",
       "      <td>5</td>\n",
       "      <td>978298413</td>\n",
       "      <td>One Flew Over the Cuckoo's Nest (1975)</td>\n",
       "      <td>Drama</td>\n",
       "    </tr>\n",
       "    <tr>\n",
       "      <th>2</th>\n",
       "      <td>12</td>\n",
       "      <td>1193</td>\n",
       "      <td>4</td>\n",
       "      <td>978220179</td>\n",
       "      <td>One Flew Over the Cuckoo's Nest (1975)</td>\n",
       "      <td>Drama</td>\n",
       "    </tr>\n",
       "    <tr>\n",
       "      <th>3</th>\n",
       "      <td>15</td>\n",
       "      <td>1193</td>\n",
       "      <td>4</td>\n",
       "      <td>978199279</td>\n",
       "      <td>One Flew Over the Cuckoo's Nest (1975)</td>\n",
       "      <td>Drama</td>\n",
       "    </tr>\n",
       "    <tr>\n",
       "      <th>4</th>\n",
       "      <td>17</td>\n",
       "      <td>1193</td>\n",
       "      <td>5</td>\n",
       "      <td>978158471</td>\n",
       "      <td>One Flew Over the Cuckoo's Nest (1975)</td>\n",
       "      <td>Drama</td>\n",
       "    </tr>\n",
       "    <tr>\n",
       "      <th>...</th>\n",
       "      <td>...</td>\n",
       "      <td>...</td>\n",
       "      <td>...</td>\n",
       "      <td>...</td>\n",
       "      <td>...</td>\n",
       "      <td>...</td>\n",
       "    </tr>\n",
       "    <tr>\n",
       "      <th>836473</th>\n",
       "      <td>5851</td>\n",
       "      <td>3607</td>\n",
       "      <td>5</td>\n",
       "      <td>957756608</td>\n",
       "      <td>One Little Indian (1973)</td>\n",
       "      <td>Comedy|Drama|Western</td>\n",
       "    </tr>\n",
       "    <tr>\n",
       "      <th>836474</th>\n",
       "      <td>5854</td>\n",
       "      <td>3026</td>\n",
       "      <td>4</td>\n",
       "      <td>958346883</td>\n",
       "      <td>Slaughterhouse (1987)</td>\n",
       "      <td>Horror</td>\n",
       "    </tr>\n",
       "    <tr>\n",
       "      <th>836475</th>\n",
       "      <td>5854</td>\n",
       "      <td>690</td>\n",
       "      <td>3</td>\n",
       "      <td>957744257</td>\n",
       "      <td>Promise, The (Versprechen, Das) (1994)</td>\n",
       "      <td>Romance</td>\n",
       "    </tr>\n",
       "    <tr>\n",
       "      <th>836476</th>\n",
       "      <td>5938</td>\n",
       "      <td>2909</td>\n",
       "      <td>4</td>\n",
       "      <td>957273353</td>\n",
       "      <td>Five Wives, Three Secretaries and Me (1998)</td>\n",
       "      <td>Documentary</td>\n",
       "    </tr>\n",
       "    <tr>\n",
       "      <th>836477</th>\n",
       "      <td>5948</td>\n",
       "      <td>1360</td>\n",
       "      <td>5</td>\n",
       "      <td>1016563709</td>\n",
       "      <td>Identification of a Woman (Identificazione di ...</td>\n",
       "      <td>Drama</td>\n",
       "    </tr>\n",
       "  </tbody>\n",
       "</table>\n",
       "<p>836478 rows × 6 columns</p>\n",
       "</div>"
      ],
      "text/plain": [
       "        user_id  movie_id  counts   timestamp  \\\n",
       "0             1      1193       5   978300760   \n",
       "1             2      1193       5   978298413   \n",
       "2            12      1193       4   978220179   \n",
       "3            15      1193       4   978199279   \n",
       "4            17      1193       5   978158471   \n",
       "...         ...       ...     ...         ...   \n",
       "836473     5851      3607       5   957756608   \n",
       "836474     5854      3026       4   958346883   \n",
       "836475     5854       690       3   957744257   \n",
       "836476     5938      2909       4   957273353   \n",
       "836477     5948      1360       5  1016563709   \n",
       "\n",
       "                                                    title  \\\n",
       "0                  One Flew Over the Cuckoo's Nest (1975)   \n",
       "1                  One Flew Over the Cuckoo's Nest (1975)   \n",
       "2                  One Flew Over the Cuckoo's Nest (1975)   \n",
       "3                  One Flew Over the Cuckoo's Nest (1975)   \n",
       "4                  One Flew Over the Cuckoo's Nest (1975)   \n",
       "...                                                   ...   \n",
       "836473                           One Little Indian (1973)   \n",
       "836474                              Slaughterhouse (1987)   \n",
       "836475             Promise, The (Versprechen, Das) (1994)   \n",
       "836476        Five Wives, Three Secretaries and Me (1998)   \n",
       "836477  Identification of a Woman (Identificazione di ...   \n",
       "\n",
       "                       genre  \n",
       "0                      Drama  \n",
       "1                      Drama  \n",
       "2                      Drama  \n",
       "3                      Drama  \n",
       "4                      Drama  \n",
       "...                      ...  \n",
       "836473  Comedy|Drama|Western  \n",
       "836474                Horror  \n",
       "836475               Romance  \n",
       "836476           Documentary  \n",
       "836477                 Drama  \n",
       "\n",
       "[836478 rows x 6 columns]"
      ]
     },
     "execution_count": 10,
     "metadata": {},
     "output_type": "execute_result"
    }
   ],
   "source": [
    "# movies와 ratings 합쳐주기\n",
    "movie_df = pd.merge(ratings, movies, on='movie_id')\n",
    "movie_df"
   ]
  },
  {
   "cell_type": "code",
   "execution_count": 11,
   "id": "d8a36e5c",
   "metadata": {},
   "outputs": [
    {
     "data": {
      "text/html": [
       "<div>\n",
       "<style scoped>\n",
       "    .dataframe tbody tr th:only-of-type {\n",
       "        vertical-align: middle;\n",
       "    }\n",
       "\n",
       "    .dataframe tbody tr th {\n",
       "        vertical-align: top;\n",
       "    }\n",
       "\n",
       "    .dataframe thead th {\n",
       "        text-align: right;\n",
       "    }\n",
       "</style>\n",
       "<table border=\"1\" class=\"dataframe\">\n",
       "  <thead>\n",
       "    <tr style=\"text-align: right;\">\n",
       "      <th></th>\n",
       "      <th>user_id</th>\n",
       "      <th>movie_id</th>\n",
       "      <th>counts</th>\n",
       "      <th>timestamp</th>\n",
       "      <th>title</th>\n",
       "      <th>genre</th>\n",
       "    </tr>\n",
       "  </thead>\n",
       "  <tbody>\n",
       "    <tr>\n",
       "      <th>0</th>\n",
       "      <td>1</td>\n",
       "      <td>1193</td>\n",
       "      <td>5</td>\n",
       "      <td>978300760</td>\n",
       "      <td>One Flew Over the Cuckoo's Nest (1975)</td>\n",
       "      <td>Drama</td>\n",
       "    </tr>\n",
       "    <tr>\n",
       "      <th>1</th>\n",
       "      <td>2</td>\n",
       "      <td>1193</td>\n",
       "      <td>5</td>\n",
       "      <td>978298413</td>\n",
       "      <td>One Flew Over the Cuckoo's Nest (1975)</td>\n",
       "      <td>Drama</td>\n",
       "    </tr>\n",
       "    <tr>\n",
       "      <th>2</th>\n",
       "      <td>12</td>\n",
       "      <td>1193</td>\n",
       "      <td>4</td>\n",
       "      <td>978220179</td>\n",
       "      <td>One Flew Over the Cuckoo's Nest (1975)</td>\n",
       "      <td>Drama</td>\n",
       "    </tr>\n",
       "    <tr>\n",
       "      <th>3</th>\n",
       "      <td>15</td>\n",
       "      <td>1193</td>\n",
       "      <td>4</td>\n",
       "      <td>978199279</td>\n",
       "      <td>One Flew Over the Cuckoo's Nest (1975)</td>\n",
       "      <td>Drama</td>\n",
       "    </tr>\n",
       "    <tr>\n",
       "      <th>4</th>\n",
       "      <td>17</td>\n",
       "      <td>1193</td>\n",
       "      <td>5</td>\n",
       "      <td>978158471</td>\n",
       "      <td>One Flew Over the Cuckoo's Nest (1975)</td>\n",
       "      <td>Drama</td>\n",
       "    </tr>\n",
       "    <tr>\n",
       "      <th>5</th>\n",
       "      <td>18</td>\n",
       "      <td>1193</td>\n",
       "      <td>4</td>\n",
       "      <td>978156168</td>\n",
       "      <td>One Flew Over the Cuckoo's Nest (1975)</td>\n",
       "      <td>Drama</td>\n",
       "    </tr>\n",
       "    <tr>\n",
       "      <th>6</th>\n",
       "      <td>19</td>\n",
       "      <td>1193</td>\n",
       "      <td>5</td>\n",
       "      <td>982730936</td>\n",
       "      <td>One Flew Over the Cuckoo's Nest (1975)</td>\n",
       "      <td>Drama</td>\n",
       "    </tr>\n",
       "    <tr>\n",
       "      <th>7</th>\n",
       "      <td>24</td>\n",
       "      <td>1193</td>\n",
       "      <td>5</td>\n",
       "      <td>978136709</td>\n",
       "      <td>One Flew Over the Cuckoo's Nest (1975)</td>\n",
       "      <td>Drama</td>\n",
       "    </tr>\n",
       "    <tr>\n",
       "      <th>8</th>\n",
       "      <td>28</td>\n",
       "      <td>1193</td>\n",
       "      <td>3</td>\n",
       "      <td>978125194</td>\n",
       "      <td>One Flew Over the Cuckoo's Nest (1975)</td>\n",
       "      <td>Drama</td>\n",
       "    </tr>\n",
       "    <tr>\n",
       "      <th>9</th>\n",
       "      <td>33</td>\n",
       "      <td>1193</td>\n",
       "      <td>5</td>\n",
       "      <td>978557765</td>\n",
       "      <td>One Flew Over the Cuckoo's Nest (1975)</td>\n",
       "      <td>Drama</td>\n",
       "    </tr>\n",
       "  </tbody>\n",
       "</table>\n",
       "</div>"
      ],
      "text/plain": [
       "   user_id  movie_id  counts  timestamp  \\\n",
       "0        1      1193       5  978300760   \n",
       "1        2      1193       5  978298413   \n",
       "2       12      1193       4  978220179   \n",
       "3       15      1193       4  978199279   \n",
       "4       17      1193       5  978158471   \n",
       "5       18      1193       4  978156168   \n",
       "6       19      1193       5  982730936   \n",
       "7       24      1193       5  978136709   \n",
       "8       28      1193       3  978125194   \n",
       "9       33      1193       5  978557765   \n",
       "\n",
       "                                    title  genre  \n",
       "0  One Flew Over the Cuckoo's Nest (1975)  Drama  \n",
       "1  One Flew Over the Cuckoo's Nest (1975)  Drama  \n",
       "2  One Flew Over the Cuckoo's Nest (1975)  Drama  \n",
       "3  One Flew Over the Cuckoo's Nest (1975)  Drama  \n",
       "4  One Flew Over the Cuckoo's Nest (1975)  Drama  \n",
       "5  One Flew Over the Cuckoo's Nest (1975)  Drama  \n",
       "6  One Flew Over the Cuckoo's Nest (1975)  Drama  \n",
       "7  One Flew Over the Cuckoo's Nest (1975)  Drama  \n",
       "8  One Flew Over the Cuckoo's Nest (1975)  Drama  \n",
       "9  One Flew Over the Cuckoo's Nest (1975)  Drama  "
      ]
     },
     "execution_count": 11,
     "metadata": {},
     "output_type": "execute_result"
    }
   ],
   "source": [
    "# movie_df['title'] = movie_df['title'].str.lower() # 영화제목 소문자로 바꿔주기\n",
    "movie_df.head(10)"
   ]
  },
  {
   "cell_type": "code",
   "execution_count": 12,
   "id": "8a354d18",
   "metadata": {
    "scrolled": false
   },
   "outputs": [
    {
     "data": {
      "text/plain": [
       "title\n",
       "American Beauty (1999)                                   3211\n",
       "Star Wars: Episode IV - A New Hope (1977)                2910\n",
       "Star Wars: Episode V - The Empire Strikes Back (1980)    2885\n",
       "Star Wars: Episode VI - Return of the Jedi (1983)        2716\n",
       "Saving Private Ryan (1998)                               2561\n",
       "Terminator 2: Judgment Day (1991)                        2509\n",
       "Silence of the Lambs, The (1991)                         2498\n",
       "Raiders of the Lost Ark (1981)                           2473\n",
       "Back to the Future (1985)                                2460\n",
       "Matrix, The (1999)                                       2434\n",
       "Jurassic Park (1993)                                     2413\n",
       "Sixth Sense, The (1999)                                  2385\n",
       "Fargo (1996)                                             2371\n",
       "Braveheart (1995)                                        2314\n",
       "Men in Black (1997)                                      2297\n",
       "Schindler's List (1993)                                  2257\n",
       "Princess Bride, The (1987)                               2252\n",
       "Shakespeare in Love (1998)                               2213\n",
       "L.A. Confidential (1997)                                 2210\n",
       "Shawshank Redemption, The (1994)                         2194\n",
       "Godfather, The (1972)                                    2167\n",
       "Groundhog Day (1993)                                     2121\n",
       "E.T. the Extra-Terrestrial (1982)                        2102\n",
       "Being John Malkovich (1999)                              2066\n",
       "Ghostbusters (1984)                                      2051\n",
       "Pulp Fiction (1994)                                      2030\n",
       "Forrest Gump (1994)                                      2022\n",
       "Terminator, The (1984)                                   2019\n",
       "Toy Story (1995)                                         2000\n",
       "Fugitive, The (1993)                                     1941\n",
       "Name: user_id, dtype: int64"
      ]
     },
     "execution_count": 12,
     "metadata": {},
     "output_type": "execute_result"
    }
   ],
   "source": [
    "# 가장 인기 있는 영화 30개(인기순)\n",
    "movie_count = movie_df.groupby('title')['user_id'].count()\n",
    "movie_count.sort_values(ascending=False).head(30)"
   ]
  },
  {
   "cell_type": "code",
   "execution_count": 13,
   "id": "e2a4e030",
   "metadata": {},
   "outputs": [
    {
     "data": {
      "text/plain": [
       "count    6039.000000\n",
       "mean      138.512668\n",
       "std       156.241599\n",
       "min         1.000000\n",
       "25%        38.000000\n",
       "50%        81.000000\n",
       "75%       177.000000\n",
       "max      1968.000000\n",
       "Name: title, dtype: float64"
      ]
     },
     "execution_count": 13,
     "metadata": {},
     "output_type": "execute_result"
    }
   ],
   "source": [
    "# 유저별 몇 명의 아티스트를 듣고 있는지에 대한 통계\n",
    "user_count = movie_df.groupby('user_id')['title'].count()\n",
    "user_count.describe()"
   ]
  },
  {
   "cell_type": "code",
   "execution_count": 14,
   "id": "cc869cac",
   "metadata": {},
   "outputs": [
    {
     "data": {
      "text/plain": [
       "count    6039.000000\n",
       "mean        4.055970\n",
       "std         0.432143\n",
       "min         3.000000\n",
       "25%         4.000000\n",
       "50%         4.000000\n",
       "75%         4.000000\n",
       "max         5.000000\n",
       "Name: counts, dtype: float64"
      ]
     },
     "execution_count": 14,
     "metadata": {},
     "output_type": "execute_result"
    }
   ],
   "source": [
    "# 유저별 play횟수 중앙값에 대한 통계\n",
    "user_median = movie_df.groupby('user_id')['counts'].median()\n",
    "user_median.describe()"
   ]
  },
  {
   "cell_type": "markdown",
   "id": "9c9a8861",
   "metadata": {},
   "source": [
    "### 3) 내가 선호하는 영화를 5가지 골라서 ratings에 추가해 줍시다.\n"
   ]
  },
  {
   "cell_type": "code",
   "execution_count": 15,
   "id": "52975144",
   "metadata": {},
   "outputs": [
    {
     "data": {
      "text/html": [
       "<div>\n",
       "<style scoped>\n",
       "    .dataframe tbody tr th:only-of-type {\n",
       "        vertical-align: middle;\n",
       "    }\n",
       "\n",
       "    .dataframe tbody tr th {\n",
       "        vertical-align: top;\n",
       "    }\n",
       "\n",
       "    .dataframe thead th {\n",
       "        text-align: right;\n",
       "    }\n",
       "</style>\n",
       "<table border=\"1\" class=\"dataframe\">\n",
       "  <thead>\n",
       "    <tr style=\"text-align: right;\">\n",
       "      <th></th>\n",
       "      <th>user_id</th>\n",
       "      <th>movie_id</th>\n",
       "      <th>counts</th>\n",
       "      <th>timestamp</th>\n",
       "      <th>title</th>\n",
       "      <th>genre</th>\n",
       "    </tr>\n",
       "  </thead>\n",
       "  <tbody>\n",
       "    <tr>\n",
       "      <th>59058</th>\n",
       "      <td>2</td>\n",
       "      <td>648</td>\n",
       "      <td>4</td>\n",
       "      <td>978299913</td>\n",
       "      <td>Mission: Impossible (1996)</td>\n",
       "      <td>Action|Adventure|Mystery</td>\n",
       "    </tr>\n",
       "  </tbody>\n",
       "</table>\n",
       "</div>"
      ],
      "text/plain": [
       "       user_id  movie_id  counts  timestamp                       title  \\\n",
       "59058        2       648       4  978299913  Mission: Impossible (1996)   \n",
       "\n",
       "                          genre  \n",
       "59058  Action|Adventure|Mystery  "
      ]
     },
     "execution_count": 15,
     "metadata": {},
     "output_type": "execute_result"
    }
   ],
   "source": [
    "movie_df[movie_df['title'].str.lower().str.contains('mission')].head(1)"
   ]
  },
  {
   "cell_type": "code",
   "execution_count": 16,
   "id": "ace58583",
   "metadata": {},
   "outputs": [
    {
     "data": {
      "text/html": [
       "<div>\n",
       "<style scoped>\n",
       "    .dataframe tbody tr th:only-of-type {\n",
       "        vertical-align: middle;\n",
       "    }\n",
       "\n",
       "    .dataframe tbody tr th {\n",
       "        vertical-align: top;\n",
       "    }\n",
       "\n",
       "    .dataframe thead th {\n",
       "        text-align: right;\n",
       "    }\n",
       "</style>\n",
       "<table border=\"1\" class=\"dataframe\">\n",
       "  <thead>\n",
       "    <tr style=\"text-align: right;\">\n",
       "      <th></th>\n",
       "      <th>user_id</th>\n",
       "      <th>movie_id</th>\n",
       "      <th>counts</th>\n",
       "      <th>timestamp</th>\n",
       "      <th>title</th>\n",
       "      <th>genre</th>\n",
       "    </tr>\n",
       "  </thead>\n",
       "  <tbody>\n",
       "    <tr>\n",
       "      <th>38620</th>\n",
       "      <td>1</td>\n",
       "      <td>1</td>\n",
       "      <td>5</td>\n",
       "      <td>978824268</td>\n",
       "      <td>Toy Story (1995)</td>\n",
       "      <td>Animation|Children's|Comedy</td>\n",
       "    </tr>\n",
       "  </tbody>\n",
       "</table>\n",
       "</div>"
      ],
      "text/plain": [
       "       user_id  movie_id  counts  timestamp             title  \\\n",
       "38620        1         1       5  978824268  Toy Story (1995)   \n",
       "\n",
       "                             genre  \n",
       "38620  Animation|Children's|Comedy  "
      ]
     },
     "execution_count": 16,
     "metadata": {},
     "output_type": "execute_result"
    }
   ],
   "source": [
    "movie_df[movie_df['title'].str.lower().str.contains('toy story')].head(1)"
   ]
  },
  {
   "cell_type": "code",
   "execution_count": 17,
   "id": "db5a01af",
   "metadata": {},
   "outputs": [
    {
     "data": {
      "text/html": [
       "<div>\n",
       "<style scoped>\n",
       "    .dataframe tbody tr th:only-of-type {\n",
       "        vertical-align: middle;\n",
       "    }\n",
       "\n",
       "    .dataframe tbody tr th {\n",
       "        vertical-align: top;\n",
       "    }\n",
       "\n",
       "    .dataframe thead th {\n",
       "        text-align: right;\n",
       "    }\n",
       "</style>\n",
       "<table border=\"1\" class=\"dataframe\">\n",
       "  <thead>\n",
       "    <tr style=\"text-align: right;\">\n",
       "      <th></th>\n",
       "      <th>user_id</th>\n",
       "      <th>movie_id</th>\n",
       "      <th>counts</th>\n",
       "      <th>timestamp</th>\n",
       "      <th>title</th>\n",
       "      <th>genre</th>\n",
       "    </tr>\n",
       "  </thead>\n",
       "  <tbody>\n",
       "    <tr>\n",
       "      <th>221579</th>\n",
       "      <td>5</td>\n",
       "      <td>1704</td>\n",
       "      <td>3</td>\n",
       "      <td>978244517</td>\n",
       "      <td>Good Will Hunting (1997)</td>\n",
       "      <td>Drama</td>\n",
       "    </tr>\n",
       "  </tbody>\n",
       "</table>\n",
       "</div>"
      ],
      "text/plain": [
       "        user_id  movie_id  counts  timestamp                     title  genre\n",
       "221579        5      1704       3  978244517  Good Will Hunting (1997)  Drama"
      ]
     },
     "execution_count": 17,
     "metadata": {},
     "output_type": "execute_result"
    }
   ],
   "source": [
    "movie_df[movie_df['title'].str.lower().str.contains('good will')].head(1)"
   ]
  },
  {
   "cell_type": "code",
   "execution_count": 18,
   "id": "8407d8dd",
   "metadata": {},
   "outputs": [
    {
     "data": {
      "text/html": [
       "<div>\n",
       "<style scoped>\n",
       "    .dataframe tbody tr th:only-of-type {\n",
       "        vertical-align: middle;\n",
       "    }\n",
       "\n",
       "    .dataframe tbody tr th {\n",
       "        vertical-align: top;\n",
       "    }\n",
       "\n",
       "    .dataframe thead th {\n",
       "        text-align: right;\n",
       "    }\n",
       "</style>\n",
       "<table border=\"1\" class=\"dataframe\">\n",
       "  <thead>\n",
       "    <tr style=\"text-align: right;\">\n",
       "      <th></th>\n",
       "      <th>user_id</th>\n",
       "      <th>movie_id</th>\n",
       "      <th>counts</th>\n",
       "      <th>timestamp</th>\n",
       "      <th>title</th>\n",
       "      <th>genre</th>\n",
       "    </tr>\n",
       "  </thead>\n",
       "  <tbody>\n",
       "    <tr>\n",
       "      <th>297546</th>\n",
       "      <td>8</td>\n",
       "      <td>1682</td>\n",
       "      <td>4</td>\n",
       "      <td>978230852</td>\n",
       "      <td>Truman Show, The (1998)</td>\n",
       "      <td>Drama</td>\n",
       "    </tr>\n",
       "  </tbody>\n",
       "</table>\n",
       "</div>"
      ],
      "text/plain": [
       "        user_id  movie_id  counts  timestamp                    title  genre\n",
       "297546        8      1682       4  978230852  Truman Show, The (1998)  Drama"
      ]
     },
     "execution_count": 18,
     "metadata": {},
     "output_type": "execute_result"
    }
   ],
   "source": [
    "movie_df[movie_df['title'].str.lower().str.contains('truman')].head(1)"
   ]
  },
  {
   "cell_type": "code",
   "execution_count": 19,
   "id": "99deacae",
   "metadata": {},
   "outputs": [
    {
     "data": {
      "text/html": [
       "<div>\n",
       "<style scoped>\n",
       "    .dataframe tbody tr th:only-of-type {\n",
       "        vertical-align: middle;\n",
       "    }\n",
       "\n",
       "    .dataframe tbody tr th {\n",
       "        vertical-align: top;\n",
       "    }\n",
       "\n",
       "    .dataframe thead th {\n",
       "        text-align: right;\n",
       "    }\n",
       "</style>\n",
       "<table border=\"1\" class=\"dataframe\">\n",
       "  <thead>\n",
       "    <tr style=\"text-align: right;\">\n",
       "      <th></th>\n",
       "      <th>user_id</th>\n",
       "      <th>movie_id</th>\n",
       "      <th>counts</th>\n",
       "      <th>timestamp</th>\n",
       "      <th>title</th>\n",
       "      <th>genre</th>\n",
       "    </tr>\n",
       "  </thead>\n",
       "  <tbody>\n",
       "    <tr>\n",
       "      <th>29123</th>\n",
       "      <td>1</td>\n",
       "      <td>1721</td>\n",
       "      <td>4</td>\n",
       "      <td>978300055</td>\n",
       "      <td>Titanic (1997)</td>\n",
       "      <td>Drama|Romance</td>\n",
       "    </tr>\n",
       "  </tbody>\n",
       "</table>\n",
       "</div>"
      ],
      "text/plain": [
       "       user_id  movie_id  counts  timestamp           title          genre\n",
       "29123        1      1721       4  978300055  Titanic (1997)  Drama|Romance"
      ]
     },
     "execution_count": 19,
     "metadata": {},
     "output_type": "execute_result"
    }
   ],
   "source": [
    "movie_df[movie_df['title'].str.lower().str.contains('titanic')].head(1)"
   ]
  },
  {
   "cell_type": "code",
   "execution_count": 20,
   "id": "8c541c1d",
   "metadata": {},
   "outputs": [],
   "source": [
    "# movie_df[movie_df['title'].str.lower().str.contains('snow white')].head(1)"
   ]
  },
  {
   "cell_type": "code",
   "execution_count": 21,
   "id": "f914ee55",
   "metadata": {},
   "outputs": [
    {
     "data": {
      "text/html": [
       "<div>\n",
       "<style scoped>\n",
       "    .dataframe tbody tr th:only-of-type {\n",
       "        vertical-align: middle;\n",
       "    }\n",
       "\n",
       "    .dataframe tbody tr th {\n",
       "        vertical-align: top;\n",
       "    }\n",
       "\n",
       "    .dataframe thead th {\n",
       "        text-align: right;\n",
       "    }\n",
       "</style>\n",
       "<table border=\"1\" class=\"dataframe\">\n",
       "  <thead>\n",
       "    <tr style=\"text-align: right;\">\n",
       "      <th></th>\n",
       "      <th>user_id</th>\n",
       "      <th>movie_id</th>\n",
       "      <th>counts</th>\n",
       "      <th>timestamp</th>\n",
       "    </tr>\n",
       "  </thead>\n",
       "  <tbody>\n",
       "    <tr>\n",
       "      <th>1000192</th>\n",
       "      <td>6040</td>\n",
       "      <td>2019</td>\n",
       "      <td>5</td>\n",
       "      <td>956703977.0</td>\n",
       "    </tr>\n",
       "    <tr>\n",
       "      <th>1000193</th>\n",
       "      <td>6040</td>\n",
       "      <td>541</td>\n",
       "      <td>4</td>\n",
       "      <td>956715288.0</td>\n",
       "    </tr>\n",
       "    <tr>\n",
       "      <th>1000194</th>\n",
       "      <td>6040</td>\n",
       "      <td>1077</td>\n",
       "      <td>5</td>\n",
       "      <td>964828799.0</td>\n",
       "    </tr>\n",
       "    <tr>\n",
       "      <th>1000196</th>\n",
       "      <td>6040</td>\n",
       "      <td>549</td>\n",
       "      <td>4</td>\n",
       "      <td>956704746.0</td>\n",
       "    </tr>\n",
       "    <tr>\n",
       "      <th>1000197</th>\n",
       "      <td>6040</td>\n",
       "      <td>2020</td>\n",
       "      <td>3</td>\n",
       "      <td>956715288.0</td>\n",
       "    </tr>\n",
       "    <tr>\n",
       "      <th>1000198</th>\n",
       "      <td>6040</td>\n",
       "      <td>2021</td>\n",
       "      <td>3</td>\n",
       "      <td>956716374.0</td>\n",
       "    </tr>\n",
       "    <tr>\n",
       "      <th>1000199</th>\n",
       "      <td>6040</td>\n",
       "      <td>2022</td>\n",
       "      <td>5</td>\n",
       "      <td>956716207.0</td>\n",
       "    </tr>\n",
       "    <tr>\n",
       "      <th>1000200</th>\n",
       "      <td>6040</td>\n",
       "      <td>2028</td>\n",
       "      <td>5</td>\n",
       "      <td>956704519.0</td>\n",
       "    </tr>\n",
       "    <tr>\n",
       "      <th>1000201</th>\n",
       "      <td>6040</td>\n",
       "      <td>1080</td>\n",
       "      <td>4</td>\n",
       "      <td>957717322.0</td>\n",
       "    </tr>\n",
       "    <tr>\n",
       "      <th>1000202</th>\n",
       "      <td>6040</td>\n",
       "      <td>1089</td>\n",
       "      <td>4</td>\n",
       "      <td>956704996.0</td>\n",
       "    </tr>\n",
       "    <tr>\n",
       "      <th>1000203</th>\n",
       "      <td>6040</td>\n",
       "      <td>1090</td>\n",
       "      <td>3</td>\n",
       "      <td>956715518.0</td>\n",
       "    </tr>\n",
       "    <tr>\n",
       "      <th>1000205</th>\n",
       "      <td>6040</td>\n",
       "      <td>1094</td>\n",
       "      <td>5</td>\n",
       "      <td>956704887.0</td>\n",
       "    </tr>\n",
       "    <tr>\n",
       "      <th>1000206</th>\n",
       "      <td>6040</td>\n",
       "      <td>562</td>\n",
       "      <td>5</td>\n",
       "      <td>956704746.0</td>\n",
       "    </tr>\n",
       "    <tr>\n",
       "      <th>1000207</th>\n",
       "      <td>6040</td>\n",
       "      <td>1096</td>\n",
       "      <td>4</td>\n",
       "      <td>956715648.0</td>\n",
       "    </tr>\n",
       "    <tr>\n",
       "      <th>1000208</th>\n",
       "      <td>6040</td>\n",
       "      <td>1097</td>\n",
       "      <td>4</td>\n",
       "      <td>956715569.0</td>\n",
       "    </tr>\n",
       "    <tr>\n",
       "      <th>0</th>\n",
       "      <td>sun</td>\n",
       "      <td>1</td>\n",
       "      <td>5</td>\n",
       "      <td>NaN</td>\n",
       "    </tr>\n",
       "    <tr>\n",
       "      <th>642</th>\n",
       "      <td>sun</td>\n",
       "      <td>648</td>\n",
       "      <td>5</td>\n",
       "      <td>NaN</td>\n",
       "    </tr>\n",
       "    <tr>\n",
       "      <th>1636</th>\n",
       "      <td>sun</td>\n",
       "      <td>1682</td>\n",
       "      <td>5</td>\n",
       "      <td>NaN</td>\n",
       "    </tr>\n",
       "    <tr>\n",
       "      <th>1656</th>\n",
       "      <td>sun</td>\n",
       "      <td>1704</td>\n",
       "      <td>5</td>\n",
       "      <td>NaN</td>\n",
       "    </tr>\n",
       "    <tr>\n",
       "      <th>1672</th>\n",
       "      <td>sun</td>\n",
       "      <td>1721</td>\n",
       "      <td>5</td>\n",
       "      <td>NaN</td>\n",
       "    </tr>\n",
       "  </tbody>\n",
       "</table>\n",
       "</div>"
      ],
      "text/plain": [
       "        user_id  movie_id  counts    timestamp\n",
       "1000192    6040      2019       5  956703977.0\n",
       "1000193    6040       541       4  956715288.0\n",
       "1000194    6040      1077       5  964828799.0\n",
       "1000196    6040       549       4  956704746.0\n",
       "1000197    6040      2020       3  956715288.0\n",
       "1000198    6040      2021       3  956716374.0\n",
       "1000199    6040      2022       5  956716207.0\n",
       "1000200    6040      2028       5  956704519.0\n",
       "1000201    6040      1080       4  957717322.0\n",
       "1000202    6040      1089       4  956704996.0\n",
       "1000203    6040      1090       3  956715518.0\n",
       "1000205    6040      1094       5  956704887.0\n",
       "1000206    6040       562       5  956704746.0\n",
       "1000207    6040      1096       4  956715648.0\n",
       "1000208    6040      1097       4  956715569.0\n",
       "0           sun         1       5          NaN\n",
       "642         sun       648       5          NaN\n",
       "1636        sun      1682       5          NaN\n",
       "1656        sun      1704       5          NaN\n",
       "1672        sun      1721       5          NaN"
      ]
     },
     "execution_count": 21,
     "metadata": {},
     "output_type": "execute_result"
    }
   ],
   "source": [
    "# 본인이 좋아하시는 아티스트 데이터로 바꿔서 추가하셔도 됩니다! 단, 이름은 꼭 데이터셋에 있는 것과 동일하게 맞춰주세요. \n",
    "\n",
    "my_favorite = ['Mission: Impossible (1996)' , 'Toy Story (1995)' ,'Good Will Hunting (1997)' ,'Truman Show, The (1998)' ,'Titanic (1997)']\n",
    "\n",
    "favorite_movie_id = movies[movies['title'].isin(my_favorite)]\n",
    "\n",
    "my_list = pd.DataFrame({'user_id': ['sun']*5, 'movie_id': favorite_movie_id['movie_id'], 'counts':[5]*5} )\n",
    "\n",
    "if not ratings.isin({'user_id':['sun']})['user_id'].any():  \n",
    "    ratings = ratings.append(my_list)                          \n",
    "\n",
    "ratings.tail(20)  "
   ]
  },
  {
   "cell_type": "code",
   "execution_count": 22,
   "id": "806a4e11",
   "metadata": {},
   "outputs": [
    {
     "data": {
      "text/html": [
       "<div>\n",
       "<style scoped>\n",
       "    .dataframe tbody tr th:only-of-type {\n",
       "        vertical-align: middle;\n",
       "    }\n",
       "\n",
       "    .dataframe tbody tr th {\n",
       "        vertical-align: top;\n",
       "    }\n",
       "\n",
       "    .dataframe thead th {\n",
       "        text-align: right;\n",
       "    }\n",
       "</style>\n",
       "<table border=\"1\" class=\"dataframe\">\n",
       "  <thead>\n",
       "    <tr style=\"text-align: right;\">\n",
       "      <th></th>\n",
       "      <th>movie_id</th>\n",
       "      <th>title</th>\n",
       "      <th>genre</th>\n",
       "    </tr>\n",
       "  </thead>\n",
       "  <tbody>\n",
       "    <tr>\n",
       "      <th>0</th>\n",
       "      <td>1</td>\n",
       "      <td>Toy Story (1995)</td>\n",
       "      <td>Animation|Children's|Comedy</td>\n",
       "    </tr>\n",
       "    <tr>\n",
       "      <th>642</th>\n",
       "      <td>648</td>\n",
       "      <td>Mission: Impossible (1996)</td>\n",
       "      <td>Action|Adventure|Mystery</td>\n",
       "    </tr>\n",
       "    <tr>\n",
       "      <th>1636</th>\n",
       "      <td>1682</td>\n",
       "      <td>Truman Show, The (1998)</td>\n",
       "      <td>Drama</td>\n",
       "    </tr>\n",
       "    <tr>\n",
       "      <th>1656</th>\n",
       "      <td>1704</td>\n",
       "      <td>Good Will Hunting (1997)</td>\n",
       "      <td>Drama</td>\n",
       "    </tr>\n",
       "    <tr>\n",
       "      <th>1672</th>\n",
       "      <td>1721</td>\n",
       "      <td>Titanic (1997)</td>\n",
       "      <td>Drama|Romance</td>\n",
       "    </tr>\n",
       "  </tbody>\n",
       "</table>\n",
       "</div>"
      ],
      "text/plain": [
       "      movie_id                       title                        genre\n",
       "0            1            Toy Story (1995)  Animation|Children's|Comedy\n",
       "642        648  Mission: Impossible (1996)     Action|Adventure|Mystery\n",
       "1636      1682     Truman Show, The (1998)                        Drama\n",
       "1656      1704    Good Will Hunting (1997)                        Drama\n",
       "1672      1721              Titanic (1997)                Drama|Romance"
      ]
     },
     "execution_count": 22,
     "metadata": {},
     "output_type": "execute_result"
    }
   ],
   "source": [
    "favorite_movie_id"
   ]
  },
  {
   "cell_type": "code",
   "execution_count": 23,
   "id": "37b1bc19",
   "metadata": {},
   "outputs": [
    {
     "data": {
      "text/html": [
       "<div>\n",
       "<style scoped>\n",
       "    .dataframe tbody tr th:only-of-type {\n",
       "        vertical-align: middle;\n",
       "    }\n",
       "\n",
       "    .dataframe tbody tr th {\n",
       "        vertical-align: top;\n",
       "    }\n",
       "\n",
       "    .dataframe thead th {\n",
       "        text-align: right;\n",
       "    }\n",
       "</style>\n",
       "<table border=\"1\" class=\"dataframe\">\n",
       "  <thead>\n",
       "    <tr style=\"text-align: right;\">\n",
       "      <th></th>\n",
       "      <th>user_id</th>\n",
       "      <th>movie_id</th>\n",
       "      <th>counts</th>\n",
       "      <th>timestamp</th>\n",
       "      <th>title</th>\n",
       "      <th>genre</th>\n",
       "    </tr>\n",
       "  </thead>\n",
       "  <tbody>\n",
       "    <tr>\n",
       "      <th>0</th>\n",
       "      <td>1</td>\n",
       "      <td>1193</td>\n",
       "      <td>5</td>\n",
       "      <td>9.783008e+08</td>\n",
       "      <td>One Flew Over the Cuckoo's Nest (1975)</td>\n",
       "      <td>Drama</td>\n",
       "    </tr>\n",
       "    <tr>\n",
       "      <th>1</th>\n",
       "      <td>2</td>\n",
       "      <td>1193</td>\n",
       "      <td>5</td>\n",
       "      <td>9.782984e+08</td>\n",
       "      <td>One Flew Over the Cuckoo's Nest (1975)</td>\n",
       "      <td>Drama</td>\n",
       "    </tr>\n",
       "    <tr>\n",
       "      <th>2</th>\n",
       "      <td>12</td>\n",
       "      <td>1193</td>\n",
       "      <td>4</td>\n",
       "      <td>9.782202e+08</td>\n",
       "      <td>One Flew Over the Cuckoo's Nest (1975)</td>\n",
       "      <td>Drama</td>\n",
       "    </tr>\n",
       "    <tr>\n",
       "      <th>3</th>\n",
       "      <td>15</td>\n",
       "      <td>1193</td>\n",
       "      <td>4</td>\n",
       "      <td>9.781993e+08</td>\n",
       "      <td>One Flew Over the Cuckoo's Nest (1975)</td>\n",
       "      <td>Drama</td>\n",
       "    </tr>\n",
       "    <tr>\n",
       "      <th>4</th>\n",
       "      <td>17</td>\n",
       "      <td>1193</td>\n",
       "      <td>5</td>\n",
       "      <td>9.781585e+08</td>\n",
       "      <td>One Flew Over the Cuckoo's Nest (1975)</td>\n",
       "      <td>Drama</td>\n",
       "    </tr>\n",
       "    <tr>\n",
       "      <th>...</th>\n",
       "      <td>...</td>\n",
       "      <td>...</td>\n",
       "      <td>...</td>\n",
       "      <td>...</td>\n",
       "      <td>...</td>\n",
       "      <td>...</td>\n",
       "    </tr>\n",
       "    <tr>\n",
       "      <th>836478</th>\n",
       "      <td>5851</td>\n",
       "      <td>3607</td>\n",
       "      <td>5</td>\n",
       "      <td>9.577566e+08</td>\n",
       "      <td>One Little Indian (1973)</td>\n",
       "      <td>Comedy|Drama|Western</td>\n",
       "    </tr>\n",
       "    <tr>\n",
       "      <th>836479</th>\n",
       "      <td>5854</td>\n",
       "      <td>3026</td>\n",
       "      <td>4</td>\n",
       "      <td>9.583469e+08</td>\n",
       "      <td>Slaughterhouse (1987)</td>\n",
       "      <td>Horror</td>\n",
       "    </tr>\n",
       "    <tr>\n",
       "      <th>836480</th>\n",
       "      <td>5854</td>\n",
       "      <td>690</td>\n",
       "      <td>3</td>\n",
       "      <td>9.577443e+08</td>\n",
       "      <td>Promise, The (Versprechen, Das) (1994)</td>\n",
       "      <td>Romance</td>\n",
       "    </tr>\n",
       "    <tr>\n",
       "      <th>836481</th>\n",
       "      <td>5938</td>\n",
       "      <td>2909</td>\n",
       "      <td>4</td>\n",
       "      <td>9.572734e+08</td>\n",
       "      <td>Five Wives, Three Secretaries and Me (1998)</td>\n",
       "      <td>Documentary</td>\n",
       "    </tr>\n",
       "    <tr>\n",
       "      <th>836482</th>\n",
       "      <td>5948</td>\n",
       "      <td>1360</td>\n",
       "      <td>5</td>\n",
       "      <td>1.016564e+09</td>\n",
       "      <td>Identification of a Woman (Identificazione di ...</td>\n",
       "      <td>Drama</td>\n",
       "    </tr>\n",
       "  </tbody>\n",
       "</table>\n",
       "<p>836483 rows × 6 columns</p>\n",
       "</div>"
      ],
      "text/plain": [
       "       user_id  movie_id  counts     timestamp  \\\n",
       "0            1      1193       5  9.783008e+08   \n",
       "1            2      1193       5  9.782984e+08   \n",
       "2           12      1193       4  9.782202e+08   \n",
       "3           15      1193       4  9.781993e+08   \n",
       "4           17      1193       5  9.781585e+08   \n",
       "...        ...       ...     ...           ...   \n",
       "836478    5851      3607       5  9.577566e+08   \n",
       "836479    5854      3026       4  9.583469e+08   \n",
       "836480    5854       690       3  9.577443e+08   \n",
       "836481    5938      2909       4  9.572734e+08   \n",
       "836482    5948      1360       5  1.016564e+09   \n",
       "\n",
       "                                                    title  \\\n",
       "0                  One Flew Over the Cuckoo's Nest (1975)   \n",
       "1                  One Flew Over the Cuckoo's Nest (1975)   \n",
       "2                  One Flew Over the Cuckoo's Nest (1975)   \n",
       "3                  One Flew Over the Cuckoo's Nest (1975)   \n",
       "4                  One Flew Over the Cuckoo's Nest (1975)   \n",
       "...                                                   ...   \n",
       "836478                           One Little Indian (1973)   \n",
       "836479                              Slaughterhouse (1987)   \n",
       "836480             Promise, The (Versprechen, Das) (1994)   \n",
       "836481        Five Wives, Three Secretaries and Me (1998)   \n",
       "836482  Identification of a Woman (Identificazione di ...   \n",
       "\n",
       "                       genre  \n",
       "0                      Drama  \n",
       "1                      Drama  \n",
       "2                      Drama  \n",
       "3                      Drama  \n",
       "4                      Drama  \n",
       "...                      ...  \n",
       "836478  Comedy|Drama|Western  \n",
       "836479                Horror  \n",
       "836480               Romance  \n",
       "836481           Documentary  \n",
       "836482                 Drama  \n",
       "\n",
       "[836483 rows x 6 columns]"
      ]
     },
     "execution_count": 23,
     "metadata": {},
     "output_type": "execute_result"
    }
   ],
   "source": [
    "movie_df = pd.merge(ratings, movies, on='movie_id')\n",
    "movie_df"
   ]
  },
  {
   "cell_type": "code",
   "execution_count": 24,
   "id": "7a023ea3",
   "metadata": {},
   "outputs": [
    {
     "data": {
      "text/html": [
       "<div>\n",
       "<style scoped>\n",
       "    .dataframe tbody tr th:only-of-type {\n",
       "        vertical-align: middle;\n",
       "    }\n",
       "\n",
       "    .dataframe tbody tr th {\n",
       "        vertical-align: top;\n",
       "    }\n",
       "\n",
       "    .dataframe thead th {\n",
       "        text-align: right;\n",
       "    }\n",
       "</style>\n",
       "<table border=\"1\" class=\"dataframe\">\n",
       "  <thead>\n",
       "    <tr style=\"text-align: right;\">\n",
       "      <th></th>\n",
       "      <th>user_id</th>\n",
       "      <th>title</th>\n",
       "      <th>counts</th>\n",
       "      <th>movie_id</th>\n",
       "      <th>genre</th>\n",
       "    </tr>\n",
       "  </thead>\n",
       "  <tbody>\n",
       "    <tr>\n",
       "      <th>0</th>\n",
       "      <td>1</td>\n",
       "      <td>One Flew Over the Cuckoo's Nest (1975)</td>\n",
       "      <td>5</td>\n",
       "      <td>1193</td>\n",
       "      <td>Drama</td>\n",
       "    </tr>\n",
       "    <tr>\n",
       "      <th>1</th>\n",
       "      <td>2</td>\n",
       "      <td>One Flew Over the Cuckoo's Nest (1975)</td>\n",
       "      <td>5</td>\n",
       "      <td>1193</td>\n",
       "      <td>Drama</td>\n",
       "    </tr>\n",
       "    <tr>\n",
       "      <th>2</th>\n",
       "      <td>12</td>\n",
       "      <td>One Flew Over the Cuckoo's Nest (1975)</td>\n",
       "      <td>4</td>\n",
       "      <td>1193</td>\n",
       "      <td>Drama</td>\n",
       "    </tr>\n",
       "    <tr>\n",
       "      <th>3</th>\n",
       "      <td>15</td>\n",
       "      <td>One Flew Over the Cuckoo's Nest (1975)</td>\n",
       "      <td>4</td>\n",
       "      <td>1193</td>\n",
       "      <td>Drama</td>\n",
       "    </tr>\n",
       "    <tr>\n",
       "      <th>4</th>\n",
       "      <td>17</td>\n",
       "      <td>One Flew Over the Cuckoo's Nest (1975)</td>\n",
       "      <td>5</td>\n",
       "      <td>1193</td>\n",
       "      <td>Drama</td>\n",
       "    </tr>\n",
       "    <tr>\n",
       "      <th>...</th>\n",
       "      <td>...</td>\n",
       "      <td>...</td>\n",
       "      <td>...</td>\n",
       "      <td>...</td>\n",
       "      <td>...</td>\n",
       "    </tr>\n",
       "    <tr>\n",
       "      <th>836478</th>\n",
       "      <td>5851</td>\n",
       "      <td>One Little Indian (1973)</td>\n",
       "      <td>5</td>\n",
       "      <td>3607</td>\n",
       "      <td>Comedy|Drama|Western</td>\n",
       "    </tr>\n",
       "    <tr>\n",
       "      <th>836479</th>\n",
       "      <td>5854</td>\n",
       "      <td>Slaughterhouse (1987)</td>\n",
       "      <td>4</td>\n",
       "      <td>3026</td>\n",
       "      <td>Horror</td>\n",
       "    </tr>\n",
       "    <tr>\n",
       "      <th>836480</th>\n",
       "      <td>5854</td>\n",
       "      <td>Promise, The (Versprechen, Das) (1994)</td>\n",
       "      <td>3</td>\n",
       "      <td>690</td>\n",
       "      <td>Romance</td>\n",
       "    </tr>\n",
       "    <tr>\n",
       "      <th>836481</th>\n",
       "      <td>5938</td>\n",
       "      <td>Five Wives, Three Secretaries and Me (1998)</td>\n",
       "      <td>4</td>\n",
       "      <td>2909</td>\n",
       "      <td>Documentary</td>\n",
       "    </tr>\n",
       "    <tr>\n",
       "      <th>836482</th>\n",
       "      <td>5948</td>\n",
       "      <td>Identification of a Woman (Identificazione di ...</td>\n",
       "      <td>5</td>\n",
       "      <td>1360</td>\n",
       "      <td>Drama</td>\n",
       "    </tr>\n",
       "  </tbody>\n",
       "</table>\n",
       "<p>836483 rows × 5 columns</p>\n",
       "</div>"
      ],
      "text/plain": [
       "       user_id                                              title  counts  \\\n",
       "0            1             One Flew Over the Cuckoo's Nest (1975)       5   \n",
       "1            2             One Flew Over the Cuckoo's Nest (1975)       5   \n",
       "2           12             One Flew Over the Cuckoo's Nest (1975)       4   \n",
       "3           15             One Flew Over the Cuckoo's Nest (1975)       4   \n",
       "4           17             One Flew Over the Cuckoo's Nest (1975)       5   \n",
       "...        ...                                                ...     ...   \n",
       "836478    5851                           One Little Indian (1973)       5   \n",
       "836479    5854                              Slaughterhouse (1987)       4   \n",
       "836480    5854             Promise, The (Versprechen, Das) (1994)       3   \n",
       "836481    5938        Five Wives, Three Secretaries and Me (1998)       4   \n",
       "836482    5948  Identification of a Woman (Identificazione di ...       5   \n",
       "\n",
       "        movie_id                 genre  \n",
       "0           1193                 Drama  \n",
       "1           1193                 Drama  \n",
       "2           1193                 Drama  \n",
       "3           1193                 Drama  \n",
       "4           1193                 Drama  \n",
       "...          ...                   ...  \n",
       "836478      3607  Comedy|Drama|Western  \n",
       "836479      3026                Horror  \n",
       "836480       690               Romance  \n",
       "836481      2909           Documentary  \n",
       "836482      1360                 Drama  \n",
       "\n",
       "[836483 rows x 5 columns]"
      ]
     },
     "execution_count": 24,
     "metadata": {},
     "output_type": "execute_result"
    }
   ],
   "source": [
    "# 사용하는 컬럼만 남기기\n",
    "movie_df = movie_df[['user_id','title', 'counts','movie_id','genre']]\n",
    "movie_df.sort_index()"
   ]
  },
  {
   "cell_type": "code",
   "execution_count": 25,
   "id": "aa89d73d",
   "metadata": {},
   "outputs": [],
   "source": [
    "# 고유한 유저, 영화제목 찾아내는 코드\n",
    "user_unique = movie_df['user_id'].unique()\n",
    "movie_unique = movie_df['title'].unique()\n",
    "\n",
    "# 유저, 영화제목 indexing 하는 코드 \n",
    "user_to_idx = {v:k for k,v in enumerate(user_unique)}\n",
    "movie_to_idx = {v:k for k,v in enumerate(movie_unique)}"
   ]
  },
  {
   "cell_type": "code",
   "execution_count": 26,
   "id": "e2aa66f7",
   "metadata": {},
   "outputs": [
    {
     "name": "stdout",
     "output_type": "stream",
     "text": [
      "5501\n",
      "40\n"
     ]
    }
   ],
   "source": [
    "# 인덱싱이 잘 되었는지 확인해 봅니다. \n",
    "print(user_to_idx['sun'])    \n",
    "print(movie_to_idx['Toy Story (1995)'])"
   ]
  },
  {
   "cell_type": "code",
   "execution_count": 27,
   "id": "dabdbc8f",
   "metadata": {},
   "outputs": [
    {
     "name": "stdout",
     "output_type": "stream",
     "text": [
      "user_id column indexing OK!!\n",
      "title column indexing OK!!\n"
     ]
    },
    {
     "name": "stderr",
     "output_type": "stream",
     "text": [
      "/tmp/ipykernel_82/802763836.py:4: SettingWithCopyWarning: \n",
      "A value is trying to be set on a copy of a slice from a DataFrame.\n",
      "Try using .loc[row_indexer,col_indexer] = value instead\n",
      "\n",
      "See the caveats in the documentation: https://pandas.pydata.org/pandas-docs/stable/user_guide/indexing.html#returning-a-view-versus-a-copy\n",
      "  movie_df['user_id'] = temp_user_data   # data['user_id']을 인덱싱된 Series로 교체해 줍니다.\n",
      "/tmp/ipykernel_82/802763836.py:12: SettingWithCopyWarning: \n",
      "A value is trying to be set on a copy of a slice from a DataFrame.\n",
      "Try using .loc[row_indexer,col_indexer] = value instead\n",
      "\n",
      "See the caveats in the documentation: https://pandas.pydata.org/pandas-docs/stable/user_guide/indexing.html#returning-a-view-versus-a-copy\n",
      "  movie_df['title'] = temp_movie_data\n"
     ]
    },
    {
     "data": {
      "text/html": [
       "<div>\n",
       "<style scoped>\n",
       "    .dataframe tbody tr th:only-of-type {\n",
       "        vertical-align: middle;\n",
       "    }\n",
       "\n",
       "    .dataframe tbody tr th {\n",
       "        vertical-align: top;\n",
       "    }\n",
       "\n",
       "    .dataframe thead th {\n",
       "        text-align: right;\n",
       "    }\n",
       "</style>\n",
       "<table border=\"1\" class=\"dataframe\">\n",
       "  <thead>\n",
       "    <tr style=\"text-align: right;\">\n",
       "      <th></th>\n",
       "      <th>user_id</th>\n",
       "      <th>title</th>\n",
       "      <th>counts</th>\n",
       "      <th>movie_id</th>\n",
       "      <th>genre</th>\n",
       "    </tr>\n",
       "  </thead>\n",
       "  <tbody>\n",
       "    <tr>\n",
       "      <th>0</th>\n",
       "      <td>0</td>\n",
       "      <td>0</td>\n",
       "      <td>5</td>\n",
       "      <td>1193</td>\n",
       "      <td>Drama</td>\n",
       "    </tr>\n",
       "    <tr>\n",
       "      <th>1</th>\n",
       "      <td>1</td>\n",
       "      <td>0</td>\n",
       "      <td>5</td>\n",
       "      <td>1193</td>\n",
       "      <td>Drama</td>\n",
       "    </tr>\n",
       "    <tr>\n",
       "      <th>2</th>\n",
       "      <td>2</td>\n",
       "      <td>0</td>\n",
       "      <td>4</td>\n",
       "      <td>1193</td>\n",
       "      <td>Drama</td>\n",
       "    </tr>\n",
       "    <tr>\n",
       "      <th>3</th>\n",
       "      <td>3</td>\n",
       "      <td>0</td>\n",
       "      <td>4</td>\n",
       "      <td>1193</td>\n",
       "      <td>Drama</td>\n",
       "    </tr>\n",
       "    <tr>\n",
       "      <th>4</th>\n",
       "      <td>4</td>\n",
       "      <td>0</td>\n",
       "      <td>5</td>\n",
       "      <td>1193</td>\n",
       "      <td>Drama</td>\n",
       "    </tr>\n",
       "    <tr>\n",
       "      <th>...</th>\n",
       "      <td>...</td>\n",
       "      <td>...</td>\n",
       "      <td>...</td>\n",
       "      <td>...</td>\n",
       "      <td>...</td>\n",
       "    </tr>\n",
       "    <tr>\n",
       "      <th>836478</th>\n",
       "      <td>1621</td>\n",
       "      <td>3623</td>\n",
       "      <td>5</td>\n",
       "      <td>3607</td>\n",
       "      <td>Comedy|Drama|Western</td>\n",
       "    </tr>\n",
       "    <tr>\n",
       "      <th>836479</th>\n",
       "      <td>3481</td>\n",
       "      <td>3624</td>\n",
       "      <td>4</td>\n",
       "      <td>3026</td>\n",
       "      <td>Horror</td>\n",
       "    </tr>\n",
       "    <tr>\n",
       "      <th>836480</th>\n",
       "      <td>3481</td>\n",
       "      <td>3625</td>\n",
       "      <td>3</td>\n",
       "      <td>690</td>\n",
       "      <td>Romance</td>\n",
       "    </tr>\n",
       "    <tr>\n",
       "      <th>836481</th>\n",
       "      <td>4159</td>\n",
       "      <td>3626</td>\n",
       "      <td>4</td>\n",
       "      <td>2909</td>\n",
       "      <td>Documentary</td>\n",
       "    </tr>\n",
       "    <tr>\n",
       "      <th>836482</th>\n",
       "      <td>1648</td>\n",
       "      <td>3627</td>\n",
       "      <td>5</td>\n",
       "      <td>1360</td>\n",
       "      <td>Drama</td>\n",
       "    </tr>\n",
       "  </tbody>\n",
       "</table>\n",
       "<p>836483 rows × 5 columns</p>\n",
       "</div>"
      ],
      "text/plain": [
       "        user_id  title  counts  movie_id                 genre\n",
       "0             0      0       5      1193                 Drama\n",
       "1             1      0       5      1193                 Drama\n",
       "2             2      0       4      1193                 Drama\n",
       "3             3      0       4      1193                 Drama\n",
       "4             4      0       5      1193                 Drama\n",
       "...         ...    ...     ...       ...                   ...\n",
       "836478     1621   3623       5      3607  Comedy|Drama|Western\n",
       "836479     3481   3624       4      3026                Horror\n",
       "836480     3481   3625       3       690               Romance\n",
       "836481     4159   3626       4      2909           Documentary\n",
       "836482     1648   3627       5      1360                 Drama\n",
       "\n",
       "[836483 rows x 5 columns]"
      ]
     },
     "execution_count": 27,
     "metadata": {},
     "output_type": "execute_result"
    }
   ],
   "source": [
    "temp_user_data = movie_df['user_id'].map(user_to_idx.get).dropna()\n",
    "if len(temp_user_data) == len(movie_df):   # 모든 row가 정상적으로 인덱싱되었다면\n",
    "    print('user_id column indexing OK!!')\n",
    "    movie_df['user_id'] = temp_user_data   # data['user_id']을 인덱싱된 Series로 교체해 줍니다. \n",
    "else:\n",
    "    print('user_id column indexing Fail!!')\n",
    "\n",
    "\n",
    "temp_movie_data = movie_df['title'].map(movie_to_idx.get).dropna()\n",
    "if len(temp_movie_data) == len(movie_df):\n",
    "    print('title column indexing OK!!')\n",
    "    movie_df['title'] = temp_movie_data\n",
    "else:\n",
    "    print('title column indexing Fail!!')\n",
    "\n",
    "movie_df"
   ]
  },
  {
   "cell_type": "code",
   "execution_count": 28,
   "id": "e923759a",
   "metadata": {},
   "outputs": [
    {
     "data": {
      "text/html": [
       "<div>\n",
       "<style scoped>\n",
       "    .dataframe tbody tr th:only-of-type {\n",
       "        vertical-align: middle;\n",
       "    }\n",
       "\n",
       "    .dataframe tbody tr th {\n",
       "        vertical-align: top;\n",
       "    }\n",
       "\n",
       "    .dataframe thead th {\n",
       "        text-align: right;\n",
       "    }\n",
       "</style>\n",
       "<table border=\"1\" class=\"dataframe\">\n",
       "  <thead>\n",
       "    <tr style=\"text-align: right;\">\n",
       "      <th></th>\n",
       "      <th>user_id</th>\n",
       "      <th>title</th>\n",
       "      <th>counts</th>\n",
       "      <th>movie_id</th>\n",
       "      <th>genre</th>\n",
       "    </tr>\n",
       "  </thead>\n",
       "  <tbody>\n",
       "    <tr>\n",
       "      <th>30393</th>\n",
       "      <td>5501</td>\n",
       "      <td>27</td>\n",
       "      <td>5</td>\n",
       "      <td>1721</td>\n",
       "      <td>Drama|Romance</td>\n",
       "    </tr>\n",
       "    <tr>\n",
       "      <th>40621</th>\n",
       "      <td>5501</td>\n",
       "      <td>40</td>\n",
       "      <td>5</td>\n",
       "      <td>1</td>\n",
       "      <td>Animation|Children's|Comedy</td>\n",
       "    </tr>\n",
       "    <tr>\n",
       "      <th>60341</th>\n",
       "      <td>5501</td>\n",
       "      <td>58</td>\n",
       "      <td>5</td>\n",
       "      <td>648</td>\n",
       "      <td>Action|Adventure|Mystery</td>\n",
       "    </tr>\n",
       "    <tr>\n",
       "      <th>223078</th>\n",
       "      <td>5501</td>\n",
       "      <td>248</td>\n",
       "      <td>5</td>\n",
       "      <td>1704</td>\n",
       "      <td>Drama</td>\n",
       "    </tr>\n",
       "    <tr>\n",
       "      <th>298496</th>\n",
       "      <td>5501</td>\n",
       "      <td>385</td>\n",
       "      <td>5</td>\n",
       "      <td>1682</td>\n",
       "      <td>Drama</td>\n",
       "    </tr>\n",
       "  </tbody>\n",
       "</table>\n",
       "</div>"
      ],
      "text/plain": [
       "        user_id  title  counts  movie_id                        genre\n",
       "30393      5501     27       5      1721                Drama|Romance\n",
       "40621      5501     40       5         1  Animation|Children's|Comedy\n",
       "60341      5501     58       5       648     Action|Adventure|Mystery\n",
       "223078     5501    248       5      1704                        Drama\n",
       "298496     5501    385       5      1682                        Drama"
      ]
     },
     "execution_count": 28,
     "metadata": {},
     "output_type": "execute_result"
    }
   ],
   "source": [
    "movie_df[movie_df['user_id']==5501]"
   ]
  },
  {
   "cell_type": "markdown",
   "id": "4c8bb30e",
   "metadata": {},
   "source": [
    "### 4) CSR matrix를 직접 만들어 봅시다."
   ]
  },
  {
   "cell_type": "code",
   "execution_count": 29,
   "id": "81e27cfa",
   "metadata": {},
   "outputs": [
    {
     "name": "stdout",
     "output_type": "stream",
     "text": [
      "6040\n",
      "3628\n"
     ]
    },
    {
     "data": {
      "text/plain": [
       "<6040x3628 sparse matrix of type '<class 'numpy.int64'>'\n",
       "\twith 836483 stored elements in Compressed Sparse Row format>"
      ]
     },
     "execution_count": 29,
     "metadata": {},
     "output_type": "execute_result"
    }
   ],
   "source": [
    "from scipy.sparse import csr_matrix\n",
    "\n",
    "num_user = movie_df['user_id'].nunique()\n",
    "num_movie = movie_df['title'].nunique()\n",
    "\n",
    "print(num_user)\n",
    "print(num_movie)\n",
    "\n",
    "csr_data = csr_matrix((movie_df.counts, (movie_df.user_id, movie_df.title)), shape=(num_user, num_movie)) \n",
    "csr_data"
   ]
  },
  {
   "cell_type": "code",
   "execution_count": null,
   "id": "c59fb7be",
   "metadata": {},
   "outputs": [],
   "source": []
  },
  {
   "cell_type": "markdown",
   "id": "2a52f548",
   "metadata": {},
   "source": [
    "### 5) als_model = AlternatingLeastSquares 모델을 직접 구성하여 훈련시켜 봅시다."
   ]
  },
  {
   "cell_type": "code",
   "execution_count": 30,
   "id": "757e8321",
   "metadata": {},
   "outputs": [],
   "source": [
    "from implicit.als import AlternatingLeastSquares\n",
    "import os\n",
    "import numpy as np\n",
    "\n",
    "# implicit 라이브러리에서 권장하고 있는 부분입니다. 학습 내용과는 무관합니다.\n",
    "os.environ['OPENBLAS_NUM_THREADS']='1'\n",
    "os.environ['KMP_DUPLICATE_LIB_OK']='True'\n",
    "os.environ['MKL_NUM_THREADS']='1'"
   ]
  },
  {
   "cell_type": "code",
   "execution_count": 31,
   "id": "a505360f",
   "metadata": {},
   "outputs": [],
   "source": [
    "# Implicit AlternatingLeastSquares 모델의 선언\n",
    "als_model = AlternatingLeastSquares(factors=200, \n",
    "                                    regularization=0.001, \n",
    "                                    use_gpu=False, \n",
    "                                    iterations=200, \n",
    "                                    dtype=np.float32)"
   ]
  },
  {
   "cell_type": "code",
   "execution_count": 32,
   "id": "28d94725",
   "metadata": {},
   "outputs": [],
   "source": [
    "# als_model = AlternatingLeastSquares(factors=300, \n",
    "#                                     regularization=0.001, \n",
    "#                                     use_gpu=False, \n",
    "#                                     iterations=500, \n",
    "#                                     dtype=np.float32)"
   ]
  },
  {
   "cell_type": "markdown",
   "id": "f5e3ee16",
   "metadata": {},
   "source": [
    "##### AlternatingLeastSquares 매개변수\n",
    "\n",
    "factors : 유저와 아이템의 벡터를 몇 차원으로 할 것인지\n",
    "\n",
    "regularization : 과적합을 방지하기 위해 정규화 값을 얼마나 사용할 것인지\n",
    "\n",
    "use_gpu : GPU를 사용할 것인지\n",
    "\n",
    "iterations : epochs와 같은 의미입니다. 데이터를 몇 번 반복해서 학습할 것인지\n",
    "\n",
    "\n",
    "factors, iterations를 늘릴수록 학습데이터를 잘 학습하지만 과적합의 우려가있음\n",
    "\n",
    "참고 : https://implicit.readthedocs.io/en/latest/als.html"
   ]
  },
  {
   "cell_type": "code",
   "execution_count": 33,
   "id": "534dee6f",
   "metadata": {},
   "outputs": [
    {
     "data": {
      "text/plain": [
       "<3628x6040 sparse matrix of type '<class 'numpy.int64'>'\n",
       "\twith 836483 stored elements in Compressed Sparse Column format>"
      ]
     },
     "execution_count": 33,
     "metadata": {},
     "output_type": "execute_result"
    }
   ],
   "source": [
    "# als 모델은 input으로 (item X user 꼴의 matrix를 받기 때문에 Transpose해줍니다.)\n",
    "csr_data_transpose = csr_data.T\n",
    "csr_data_transpose"
   ]
  },
  {
   "cell_type": "code",
   "execution_count": 34,
   "id": "b0b53380",
   "metadata": {},
   "outputs": [
    {
     "data": {
      "application/vnd.jupyter.widget-view+json": {
       "model_id": "9929d412739347a8a799f7beb2161bc7",
       "version_major": 2,
       "version_minor": 0
      },
      "text/plain": [
       "  0%|          | 0/200 [00:00<?, ?it/s]"
      ]
     },
     "metadata": {},
     "output_type": "display_data"
    }
   ],
   "source": [
    "# 모델 훈련\n",
    "als_model.fit(csr_data_transpose)"
   ]
  },
  {
   "cell_type": "code",
   "execution_count": null,
   "id": "dd1336a9",
   "metadata": {},
   "outputs": [],
   "source": []
  },
  {
   "cell_type": "markdown",
   "id": "c13ba69d",
   "metadata": {},
   "source": [
    "### 6) 내가 선호하는 5가지 영화 중 하나와 그 외의 영화 하나를 골라 훈련된 모델이 예측한 나의 선호도를 파악해 보세요."
   ]
  },
  {
   "cell_type": "code",
   "execution_count": 35,
   "id": "6b4e638a",
   "metadata": {},
   "outputs": [],
   "source": [
    "sun, toy_story = user_to_idx['sun'], movie_to_idx['Toy Story (1995)']\n",
    "sun_vector, toy_story_vector = als_model.user_factors[5501], als_model.item_factors[40]\n"
   ]
  },
  {
   "cell_type": "code",
   "execution_count": 36,
   "id": "5ed9bf69",
   "metadata": {},
   "outputs": [
    {
     "data": {
      "text/plain": [
       "array([ 0.71708894, -0.38025627,  0.01593096, -0.19383731, -0.44145074,\n",
       "        0.40300167, -0.03232934, -0.38977554,  0.42519888,  0.09044586,\n",
       "       -0.31636167, -0.20429493,  0.4276552 ,  0.0440283 ,  0.28277367,\n",
       "       -0.37310007, -0.8273601 ,  0.38614643,  0.65656435,  0.87323076,\n",
       "       -0.2322492 ,  0.24666548,  0.26140466, -0.4658931 ,  0.25427473,\n",
       "        0.07191107, -0.28252313,  0.57615614,  0.22179292,  0.57998943,\n",
       "       -0.6774413 ,  0.6997919 , -0.81087524, -0.12628086,  0.42993435,\n",
       "       -0.27245447,  0.7536834 , -0.05997403, -0.34592873, -0.8465699 ,\n",
       "       -0.93866706, -0.447879  , -0.02329869,  0.0340606 , -0.20889953,\n",
       "       -0.9633595 , -0.10883541,  0.03083906, -0.08684506, -0.7981731 ,\n",
       "       -0.5820328 , -0.06130525,  0.03057117, -1.0907747 ,  0.1455328 ,\n",
       "        0.17914018, -0.06515335, -0.23966128, -0.78478557,  0.20961802,\n",
       "        0.18800996, -0.2830212 ,  0.09912226, -0.6749385 , -0.12630877,\n",
       "        0.37909988, -0.10164568,  0.3465204 ,  0.8641781 ,  0.06602307,\n",
       "       -0.19766213,  0.5864141 , -0.4235409 ,  0.40633488,  0.36366457,\n",
       "       -0.5567687 , -0.13227138, -0.12418564,  0.36625597, -0.7271482 ,\n",
       "       -0.15548159, -0.22088316, -0.7946891 , -0.14774312, -0.57544476,\n",
       "       -0.02819837,  0.13606824, -0.36765224,  0.3295374 , -0.21361212,\n",
       "       -0.76516885, -0.7560111 ,  0.29263136,  0.4907375 ,  0.45145693,\n",
       "       -0.01350557,  0.9632574 ,  0.29855257,  0.6517068 , -0.1686786 ,\n",
       "        0.3150776 , -0.16717833, -0.13266128,  0.00991922, -0.00415487,\n",
       "        0.4562776 ,  0.30388248,  0.8623101 ,  0.2816418 , -0.59473825,\n",
       "       -0.01167661, -0.109616  ,  0.21765137, -0.42660466, -0.19015193,\n",
       "        0.50433093, -0.0687531 ,  0.47024763,  0.1410081 ,  0.0921956 ,\n",
       "       -0.7172285 , -0.71938413,  0.02781619, -0.4973271 , -0.81192   ,\n",
       "       -0.02122049, -0.15999593, -0.04172987, -0.20534725,  0.59152925,\n",
       "        0.87685454,  0.63438135,  0.076831  ,  0.6615179 , -0.13500044,\n",
       "       -0.49017084, -0.36311862,  0.39797077,  0.21146627,  0.78833425,\n",
       "        0.2813974 , -0.10648371, -0.4887885 , -0.49941596,  0.13279186,\n",
       "        0.09651869,  0.28239074, -0.14428459,  0.11941927, -0.5462611 ,\n",
       "        0.15270983,  0.43120208,  0.71354127, -0.80559826,  0.71641463,\n",
       "        0.14824039,  0.31521234, -1.0053416 ,  0.5699426 ,  0.13607666,\n",
       "       -0.05262462, -0.12880088,  0.14300996, -0.3287626 , -0.07905245,\n",
       "        0.4659036 , -0.49978727, -0.2635156 ,  0.13215397,  0.52849644,\n",
       "        0.67213637,  0.7078227 ,  0.36113015, -0.39649484, -0.20255253,\n",
       "        0.38296852,  0.6559883 , -0.01422906,  0.45395395, -0.31252062,\n",
       "        0.55966294,  0.5843166 ,  0.45790514,  0.11639476,  0.39652503,\n",
       "        0.43948346,  0.43532774, -0.53308624, -0.01637758,  0.08740168,\n",
       "       -0.1383879 ,  0.5252989 , -0.0559984 , -0.18497951, -0.5054981 ,\n",
       "       -0.47432527, -0.7601157 ,  0.54313684,  0.00423854,  0.01365563],\n",
       "      dtype=float32)"
      ]
     },
     "execution_count": 36,
     "metadata": {},
     "output_type": "execute_result"
    }
   ],
   "source": [
    "sun_vector"
   ]
  },
  {
   "cell_type": "code",
   "execution_count": 37,
   "id": "8ea1e1b4",
   "metadata": {},
   "outputs": [
    {
     "data": {
      "text/plain": [
       "array([ 3.60299908e-02, -1.14280833e-02,  2.59132776e-02,  1.27144502e-02,\n",
       "       -4.54341201e-03,  1.32459616e-02,  2.03998131e-03,  8.85181874e-03,\n",
       "       -1.28680402e-02,  3.33399288e-02,  1.39214527e-02,  9.83679201e-04,\n",
       "        9.94005532e-05,  1.25219510e-03,  2.00155545e-02, -1.18178884e-02,\n",
       "       -2.62494362e-03, -1.11503797e-02, -1.45894417e-03,  3.34138125e-02,\n",
       "        1.30263139e-02,  7.21739652e-03, -2.39697807e-02, -9.94939264e-03,\n",
       "        1.54907415e-02, -7.53495097e-03, -1.15609169e-03,  1.34449685e-02,\n",
       "       -1.14352563e-02,  1.33629693e-02, -2.57965364e-02, -1.32293664e-02,\n",
       "       -2.04179920e-02,  1.08773558e-04,  1.06555130e-02,  6.81631675e-04,\n",
       "        2.78898422e-03,  2.03152858e-02, -1.07598258e-02, -7.30702595e-04,\n",
       "       -1.36124026e-02,  1.50598511e-02, -7.00580364e-04,  7.56961200e-03,\n",
       "        6.53643440e-03, -1.34702623e-02, -1.09802727e-02,  1.40256844e-02,\n",
       "        3.03087831e-02,  2.31005717e-03, -1.39846783e-02, -1.50781237e-02,\n",
       "        1.43498005e-02,  5.91336843e-03, -1.07957125e-02,  4.76725819e-03,\n",
       "        2.15470530e-02, -5.37288422e-03,  1.27771385e-02,  2.28429828e-02,\n",
       "       -1.57531223e-03,  8.75601918e-03, -1.69964265e-02, -8.36153049e-05,\n",
       "       -2.63376031e-02,  5.89444535e-03, -5.66825969e-03,  1.40087185e-02,\n",
       "        2.04063635e-02,  2.74936692e-03, -2.51110736e-02, -1.00031085e-02,\n",
       "       -1.68629643e-02,  2.43796483e-02,  8.58316757e-03, -3.82749410e-03,\n",
       "       -3.19337565e-03,  8.97501782e-03,  2.72540860e-02,  6.19907025e-03,\n",
       "       -8.57644714e-03, -1.03099896e-02,  1.83233581e-02,  9.15936194e-03,\n",
       "       -1.73273485e-03,  1.09813949e-02, -4.43882123e-03, -3.53967305e-03,\n",
       "        5.45880059e-04,  1.92356333e-02, -4.99332929e-03, -1.10170096e-02,\n",
       "        1.52959558e-03,  2.74852384e-02,  7.64874648e-03, -4.75724507e-03,\n",
       "        4.45148125e-02,  8.33027717e-03, -2.31039766e-02,  1.28512792e-02,\n",
       "        3.99213955e-02, -1.71671398e-02, -2.03661788e-02, -6.30203355e-03,\n",
       "        2.28073746e-02,  4.82617617e-02, -1.40195247e-02,  2.39909254e-02,\n",
       "        2.34804880e-02, -4.07944899e-03,  1.39101939e-02,  2.80269720e-02,\n",
       "        8.58352706e-03, -4.91490355e-03, -1.04751410e-02,  3.05904374e-02,\n",
       "        1.99778602e-02,  1.37844216e-02,  2.28817165e-02, -3.22634391e-02,\n",
       "       -1.76439155e-02,  6.78512454e-03,  2.83865328e-03, -9.34884232e-03,\n",
       "       -1.73731707e-02, -4.21306072e-03, -1.27418777e-02,  4.01173830e-02,\n",
       "        2.96161801e-04,  1.45780863e-02,  2.63161585e-02,  2.15698704e-02,\n",
       "        4.42052037e-02,  2.16447003e-02,  1.88384019e-02,  5.14930394e-03,\n",
       "       -1.57082006e-02,  1.53916506e-02,  6.67157723e-03,  2.81621050e-03,\n",
       "        7.72649562e-03,  7.24657672e-03, -1.23152733e-02, -2.24574711e-02,\n",
       "        2.99232956e-02, -5.86644892e-05, -5.20282984e-03, -3.42624797e-03,\n",
       "        6.16844604e-03, -2.54401080e-02,  1.54405590e-02,  3.70433228e-03,\n",
       "        3.04619987e-02, -3.00707463e-02,  2.32789852e-02,  1.15314545e-02,\n",
       "        1.77230150e-03, -2.10248455e-02, -3.02008213e-03,  2.48705084e-03,\n",
       "        1.03262179e-02,  1.38532445e-02, -7.09635438e-03, -1.67647004e-02,\n",
       "        7.73424702e-03,  1.39904981e-02,  2.40578223e-03, -7.02072401e-03,\n",
       "        1.44618247e-02,  1.93434227e-02,  3.22339162e-02,  1.98400654e-02,\n",
       "        2.17917170e-02, -1.20483467e-03,  6.09277515e-03,  1.04698585e-02,\n",
       "        2.44840533e-02,  1.75795262e-03,  1.87589917e-02,  1.37710925e-02,\n",
       "        4.20738291e-03,  9.39051213e-04,  1.71896331e-02, -9.26488265e-03,\n",
       "        1.57324281e-02,  1.00046527e-02, -8.60586111e-03, -2.72951182e-03,\n",
       "        1.08835297e-02, -8.37383093e-04, -6.34876918e-03,  3.84947546e-02,\n",
       "       -2.22524013e-02, -3.88766290e-03, -4.67500649e-03,  2.88130646e-03,\n",
       "       -1.75632723e-02,  2.66182888e-02, -1.40559096e-02,  3.45829278e-02],\n",
       "      dtype=float32)"
      ]
     },
     "execution_count": 37,
     "metadata": {},
     "output_type": "execute_result"
    }
   ],
   "source": [
    "toy_story_vector"
   ]
  },
  {
   "cell_type": "code",
   "execution_count": 38,
   "id": "8ba1788f",
   "metadata": {},
   "outputs": [
    {
     "data": {
      "text/plain": [
       "0.6872404"
      ]
     },
     "execution_count": 38,
     "metadata": {},
     "output_type": "execute_result"
    }
   ],
   "source": [
    "#vector을 곱했을 때의 값 확인,내적하는 코드\n",
    "# 1이 나와야한다\n",
    "np.dot(sun_vector, toy_story_vector)"
   ]
  },
  {
   "cell_type": "markdown",
   "id": "31e794ba",
   "metadata": {},
   "source": [
    "0.6으로 생각보다 1에 가까운 숫자가 나왔다.\n",
    "\n",
    "1에 더 가까워지도록 값을 조정해보기도했지만, \n",
    "\n",
    "과적합의 우려가있어 이정도에서 만족한다"
   ]
  },
  {
   "cell_type": "code",
   "execution_count": 39,
   "id": "d4ef121d",
   "metadata": {},
   "outputs": [
    {
     "name": "stdout",
     "output_type": "stream",
     "text": [
      "0.06852578\n"
     ]
    }
   ],
   "source": [
    "# Men in Black (1997)을 가지고 선호도 예측 확인\n",
    "man_in_black = movie_to_idx['Men in Black (1997)']\n",
    "man_in_black_vector = als_model.item_factors[man_in_black]\n",
    "\n",
    "print(np.dot(sun_vector, man_in_black_vector))"
   ]
  },
  {
   "cell_type": "markdown",
   "id": "51551c0d",
   "metadata": {},
   "source": [
    "0.06으로 거리가 먼것을 확인하였다"
   ]
  },
  {
   "cell_type": "markdown",
   "id": "a90a4954",
   "metadata": {},
   "source": [
    "### 7) 내가 좋아하는 영화와 비슷한 영화를 추천받아 봅시다."
   ]
  },
  {
   "cell_type": "code",
   "execution_count": 40,
   "id": "70b7179a",
   "metadata": {},
   "outputs": [
    {
     "data": {
      "text/plain": [
       "[(1, 1.0000001),\n",
       " (1513, 0.60211444),\n",
       " (2182, 0.58826655),\n",
       " (35, 0.5792842),\n",
       " (951, 0.567573),\n",
       " (1986, 0.5664632),\n",
       " (3149, 0.56618685),\n",
       " (3029, 0.56460816),\n",
       " (2023, 0.55343837),\n",
       " (1934, 0.5529043),\n",
       " (3412, 0.5526461),\n",
       " (3587, 0.55250245),\n",
       " (2608, 0.55091846),\n",
       " (2572, 0.5505611),\n",
       " (2002, 0.55041933)]"
      ]
     },
     "execution_count": 40,
     "metadata": {},
     "output_type": "execute_result"
    }
   ],
   "source": [
    "favorite_movie = 'Toy Story (1995)'\n",
    "movie_id = movies[movies['title']=='Toy Story (1995)']['movie_id']\n",
    "similar_movie = als_model.similar_items(movie_id.values[0], N=15)\n",
    "similar_movie"
   ]
  },
  {
   "cell_type": "code",
   "execution_count": 41,
   "id": "04ad0334",
   "metadata": {},
   "outputs": [],
   "source": [
    "idx_to_movie = {v:k for k,v in movie_to_idx.items()}\n",
    "\n",
    "def get_similar_movie(movie_name: str):\n",
    "    movie_id = movie_to_idx[movie_name]\n",
    "    similar_movie = als_model.similar_items(movie_id)\n",
    "    similar_movie = [idx_to_movie[i[0]] for i in similar_movie]\n",
    "    return similar_movie"
   ]
  },
  {
   "cell_type": "markdown",
   "id": "0be460e8",
   "metadata": {},
   "source": [
    "'Mission: Impossible (1996)' , 'Toy Story (1995)' ,'Good Will Hunting (1997)' ,'Truman Show, The (1998)' ,'Titanic (1997)']"
   ]
  },
  {
   "cell_type": "code",
   "execution_count": 42,
   "id": "fc04eb7f",
   "metadata": {},
   "outputs": [
    {
     "data": {
      "text/plain": [
       "['Mission: Impossible (1996)',\n",
       " 'True Lies (1994)',\n",
       " 'Before and After (1996)',\n",
       " 'Battle of the Sexes, The (1959)',\n",
       " 'Month by the Lake, A (1995)',\n",
       " 'Stage Fright (1950)',\n",
       " 'Smiling Fish and Goat on Fire (1999)',\n",
       " 'Under Suspicion (2000)',\n",
       " 'Murder! (1930)',\n",
       " 'Horseman on the Roof, The (Hussard sur le toit, Le) (1995)']"
      ]
     },
     "execution_count": 42,
     "metadata": {},
     "output_type": "execute_result"
    }
   ],
   "source": [
    "get_similar_movie('Mission: Impossible (1996)') "
   ]
  },
  {
   "cell_type": "code",
   "execution_count": 43,
   "id": "bc1dd420",
   "metadata": {},
   "outputs": [
    {
     "data": {
      "text/plain": [
       "['Toy Story (1995)',\n",
       " 'Toy Story 2 (1999)',\n",
       " \"Bug's Life, A (1998)\",\n",
       " 'Aladdin (1992)',\n",
       " 'Lion King, The (1994)',\n",
       " 'Babe (1995)',\n",
       " 'Nobody Loves Me (Keiner liebt mich) (1994)',\n",
       " 'Soft Toilet Seats (1999)',\n",
       " 'Splendor (1999)',\n",
       " \"There's Something About Mary (1998)\"]"
      ]
     },
     "execution_count": 43,
     "metadata": {},
     "output_type": "execute_result"
    }
   ],
   "source": [
    "get_similar_movie('Toy Story (1995)') "
   ]
  },
  {
   "cell_type": "code",
   "execution_count": 44,
   "id": "9f3033e2",
   "metadata": {},
   "outputs": [
    {
     "data": {
      "text/plain": [
       "['Good Will Hunting (1997)',\n",
       " 'Truman Show, The (1998)',\n",
       " 'Apollo 13 (1995)',\n",
       " 'Shawshank Redemption, The (1994)',\n",
       " 'Dead Man Walking (1995)',\n",
       " 'Puppet Master 5: The Final Chapter (1994)',\n",
       " 'Jerry Maguire (1996)',\n",
       " 'Pest, The (1997)',\n",
       " 'Puppet Master 4 (1993)',\n",
       " 'Story of G.I. Joe, The (1945)']"
      ]
     },
     "execution_count": 44,
     "metadata": {},
     "output_type": "execute_result"
    }
   ],
   "source": [
    "get_similar_movie('Good Will Hunting (1997)') "
   ]
  },
  {
   "cell_type": "code",
   "execution_count": 45,
   "id": "d80108ba",
   "metadata": {},
   "outputs": [
    {
     "data": {
      "text/plain": [
       "['Truman Show, The (1998)',\n",
       " 'Good Will Hunting (1997)',\n",
       " 'Apollo 13 (1995)',\n",
       " 'Fried Green Tomatoes (1991)',\n",
       " 'People vs. Larry Flynt, The (1996)',\n",
       " \"Mr. Holland's Opus (1995)\",\n",
       " 'Scent of a Woman (1992)',\n",
       " 'Jerry Maguire (1996)',\n",
       " 'Philadelphia (1993)',\n",
       " 'Pump Up the Volume (1990)']"
      ]
     },
     "execution_count": 45,
     "metadata": {},
     "output_type": "execute_result"
    }
   ],
   "source": [
    "get_similar_movie('Truman Show, The (1998)')      "
   ]
  },
  {
   "cell_type": "code",
   "execution_count": 46,
   "id": "a6929057",
   "metadata": {},
   "outputs": [
    {
     "data": {
      "text/plain": [
       "['Titanic (1997)',\n",
       " 'Nightwatch (1997)',\n",
       " 'Lady of Burlesque (1943)',\n",
       " 'Nina Takes a Lover (1994)',\n",
       " 'Coldblooded (1995)',\n",
       " 'Tales of Terror (1962)',\n",
       " 'Funeral, The (1996)',\n",
       " 'Map of the World, A (1999)',\n",
       " 'Snow Day (2000)',\n",
       " 'Suture (1993)']"
      ]
     },
     "execution_count": 46,
     "metadata": {},
     "output_type": "execute_result"
    }
   ],
   "source": [
    "get_similar_movie('Titanic (1997)')   "
   ]
  },
  {
   "cell_type": "code",
   "execution_count": 47,
   "id": "ffb2f192",
   "metadata": {},
   "outputs": [
    {
     "data": {
      "text/plain": [
       "['Snow White and the Seven Dwarfs (1937)',\n",
       " 'Dumbo (1941)',\n",
       " 'Cinderella (1950)',\n",
       " 'Sleeping Beauty (1959)',\n",
       " 'Pinocchio (1940)',\n",
       " 'Peter Pan (1953)',\n",
       " 'Bambi (1942)',\n",
       " 'Alice in Wonderland (1951)',\n",
       " 'Jungle Book, The (1967)',\n",
       " 'Fantasia (1940)']"
      ]
     },
     "execution_count": 47,
     "metadata": {},
     "output_type": "execute_result"
    }
   ],
   "source": [
    "get_similar_movie('Snow White and the Seven Dwarfs (1937)') "
   ]
  },
  {
   "cell_type": "markdown",
   "id": "165c7408",
   "metadata": {},
   "source": [
    "결과를 보니 대체적으로 비슷한 장르의 영화가 나오는 것을 확인하였다"
   ]
  },
  {
   "cell_type": "markdown",
   "id": "1e54035b",
   "metadata": {},
   "source": [
    "### 8) 내가 가장 좋아할 만한 영화들을 추천받아 봅시다."
   ]
  },
  {
   "cell_type": "markdown",
   "id": "d0cdab36",
   "metadata": {},
   "source": [
    "AlternatingLeastSquares 클래스에 구현되어 있는 recommend 메서드를 통하여 좋아할 만한 아티스트를 추천받습니다. \n",
    "filter_already_liked_items 는 유저가 이미 평가한 아이템은 제외하는 Argument"
   ]
  },
  {
   "cell_type": "code",
   "execution_count": 48,
   "id": "e26cd7c2",
   "metadata": {},
   "outputs": [
    {
     "data": {
      "text/plain": [
       "[(50, 0.37316483),\n",
       " (384, 0.37101665),\n",
       " (39, 0.35313624),\n",
       " (160, 0.24989845),\n",
       " (323, 0.18624541),\n",
       " (474, 0.185342),\n",
       " (641, 0.1830162),\n",
       " (18, 0.18208523),\n",
       " (317, 0.17956863),\n",
       " (482, 0.17513698),\n",
       " (374, 0.17433631),\n",
       " (533, 0.17371057),\n",
       " (4, 0.17092821),\n",
       " (128, 0.16973406),\n",
       " (38, 0.16782218),\n",
       " (330, 0.16535634),\n",
       " (124, 0.16476962),\n",
       " (157, 0.16277036),\n",
       " (752, 0.1623801),\n",
       " (1931, 0.160429)]"
      ]
     },
     "execution_count": 48,
     "metadata": {},
     "output_type": "execute_result"
    }
   ],
   "source": [
    "user = user_to_idx['sun']\n",
    "# recommend에서는 user*item CSR Matrix를 받습니다.\n",
    "movie_recommended = als_model.recommend(user, csr_data, N=20, filter_already_liked_items=True)\n",
    "movie_recommended"
   ]
  },
  {
   "cell_type": "code",
   "execution_count": 49,
   "id": "51bddf17",
   "metadata": {},
   "outputs": [
    {
     "data": {
      "text/plain": [
       "['Toy Story 2 (1999)',\n",
       " 'Jerry Maguire (1996)',\n",
       " 'Apollo 13 (1995)',\n",
       " 'Forrest Gump (1994)',\n",
       " 'Dead Man Walking (1995)',\n",
       " 'Chicken Run (2000)',\n",
       " \"Mr. Holland's Opus (1995)\",\n",
       " 'Awakenings (1990)',\n",
       " 'Twelve Monkeys (1995)',\n",
       " 'Mission: Impossible 2 (2000)',\n",
       " 'Exorcist, The (1973)',\n",
       " 'Fried Green Tomatoes (1991)',\n",
       " \"Bug's Life, A (1998)\",\n",
       " 'French Connection, The (1971)',\n",
       " 'Sixth Sense, The (1999)',\n",
       " 'Lion King, The (1994)',\n",
       " 'Matrix, The (1999)',\n",
       " 'Shawshank Redemption, The (1994)',\n",
       " 'Wag the Dog (1997)',\n",
       " \"Miller's Crossing (1990)\"]"
      ]
     },
     "execution_count": 49,
     "metadata": {},
     "output_type": "execute_result"
    }
   ],
   "source": [
    "[idx_to_movie[i[0]] for i in movie_recommended]"
   ]
  },
  {
   "cell_type": "markdown",
   "id": "072d1aa8",
   "metadata": {},
   "source": [
    "이 추천에 기여한 정도 확인하기"
   ]
  },
  {
   "cell_type": "code",
   "execution_count": 50,
   "id": "7a38d579",
   "metadata": {},
   "outputs": [],
   "source": [
    "toy_story = movie_to_idx['Toy Story 2 (1999)']\n",
    "explain = als_model.explain(user, csr_data, itemid=toy_story)"
   ]
  },
  {
   "cell_type": "code",
   "execution_count": 51,
   "id": "d544877f",
   "metadata": {
    "scrolled": true
   },
   "outputs": [
    {
     "data": {
      "text/plain": [
       "[('Toy Story (1995)', 0.37958921699711745),\n",
       " ('Mission: Impossible (1996)', 0.028364613478480835),\n",
       " ('Titanic (1997)', 0.013372094524969111),\n",
       " ('Good Will Hunting (1997)', -0.0239930970804797),\n",
       " ('Truman Show, The (1998)', -0.024708706626603103)]"
      ]
     },
     "execution_count": 51,
     "metadata": {},
     "output_type": "execute_result"
    }
   ],
   "source": [
    "[(idx_to_movie[i[0]], i[1]) for i in explain[1]]"
   ]
  },
  {
   "cell_type": "markdown",
   "id": "6fca4936",
   "metadata": {},
   "source": [
    "역시 생각대로\n",
    "\n",
    "Toy Story 2 (1999)를 추천하는데에 가장 큰 기여를 한것은 \n",
    "\n",
    "Toy Story (1995) 였다"
   ]
  },
  {
   "cell_type": "code",
   "execution_count": 52,
   "id": "e4b05653",
   "metadata": {},
   "outputs": [],
   "source": [
    "star_wars = movie_to_idx['Star Wars: Episode IV - A New Hope (1977)']\n",
    "explain = als_model.explain(user, csr_data, itemid=star_wars)"
   ]
  },
  {
   "cell_type": "code",
   "execution_count": 53,
   "id": "875e0126",
   "metadata": {},
   "outputs": [
    {
     "data": {
      "text/plain": [
       "[('Titanic (1997)', 0.0498432373380026),\n",
       " ('Mission: Impossible (1996)', 0.042102868319266226),\n",
       " ('Truman Show, The (1998)', 0.014873838690940215),\n",
       " ('Toy Story (1995)', -0.00015347755522957971),\n",
       " ('Good Will Hunting (1997)', -0.03781159030677697)]"
      ]
     },
     "execution_count": 53,
     "metadata": {},
     "output_type": "execute_result"
    }
   ],
   "source": [
    "[(idx_to_movie[i[0]], i[1]) for i in explain[1]]"
   ]
  },
  {
   "cell_type": "markdown",
   "id": "135b95d6",
   "metadata": {},
   "source": [
    "스타워즈를 추천하는데에 기여를 한것 중에\n",
    "\n",
    "타이타닉도 있어 의외였다"
   ]
  },
  {
   "cell_type": "markdown",
   "id": "a7a05db0",
   "metadata": {},
   "source": [
    "# 다른 영화로 시도해보기 ==========================="
   ]
  },
  {
   "cell_type": "markdown",
   "id": "9da80bbf",
   "metadata": {},
   "source": [
    "### 1) 데이터 준비와 전처리"
   ]
  },
  {
   "cell_type": "code",
   "execution_count": 54,
   "id": "a8a7b4eb",
   "metadata": {},
   "outputs": [
    {
     "data": {
      "text/html": [
       "<div>\n",
       "<style scoped>\n",
       "    .dataframe tbody tr th:only-of-type {\n",
       "        vertical-align: middle;\n",
       "    }\n",
       "\n",
       "    .dataframe tbody tr th {\n",
       "        vertical-align: top;\n",
       "    }\n",
       "\n",
       "    .dataframe thead th {\n",
       "        text-align: right;\n",
       "    }\n",
       "</style>\n",
       "<table border=\"1\" class=\"dataframe\">\n",
       "  <thead>\n",
       "    <tr style=\"text-align: right;\">\n",
       "      <th></th>\n",
       "      <th>user_id</th>\n",
       "      <th>movie_id</th>\n",
       "      <th>ratings</th>\n",
       "      <th>timestamp</th>\n",
       "    </tr>\n",
       "  </thead>\n",
       "  <tbody>\n",
       "    <tr>\n",
       "      <th>0</th>\n",
       "      <td>1</td>\n",
       "      <td>1193</td>\n",
       "      <td>5</td>\n",
       "      <td>978300760</td>\n",
       "    </tr>\n",
       "    <tr>\n",
       "      <th>1</th>\n",
       "      <td>1</td>\n",
       "      <td>661</td>\n",
       "      <td>3</td>\n",
       "      <td>978302109</td>\n",
       "    </tr>\n",
       "    <tr>\n",
       "      <th>2</th>\n",
       "      <td>1</td>\n",
       "      <td>914</td>\n",
       "      <td>3</td>\n",
       "      <td>978301968</td>\n",
       "    </tr>\n",
       "    <tr>\n",
       "      <th>3</th>\n",
       "      <td>1</td>\n",
       "      <td>3408</td>\n",
       "      <td>4</td>\n",
       "      <td>978300275</td>\n",
       "    </tr>\n",
       "    <tr>\n",
       "      <th>4</th>\n",
       "      <td>1</td>\n",
       "      <td>2355</td>\n",
       "      <td>5</td>\n",
       "      <td>978824291</td>\n",
       "    </tr>\n",
       "  </tbody>\n",
       "</table>\n",
       "</div>"
      ],
      "text/plain": [
       "   user_id  movie_id  ratings  timestamp\n",
       "0        1      1193        5  978300760\n",
       "1        1       661        3  978302109\n",
       "2        1       914        3  978301968\n",
       "3        1      3408        4  978300275\n",
       "4        1      2355        5  978824291"
      ]
     },
     "execution_count": 54,
     "metadata": {},
     "output_type": "execute_result"
    }
   ],
   "source": [
    "import pandas as pd\n",
    "import os\n",
    "\n",
    "rating_file_path=os.getenv('HOME') + '/aiffel/recommendata_iu/data/ml-1m/ratings.dat'\n",
    "ratings_cols = ['user_id', 'movie_id', 'ratings', 'timestamp']\n",
    "ratings = pd.read_csv(rating_file_path, sep='::', names=ratings_cols, engine='python', encoding = \"ISO-8859-1\")\n",
    "orginal_data_size = len(ratings)\n",
    "ratings.head()"
   ]
  },
  {
   "cell_type": "code",
   "execution_count": 55,
   "id": "4197d2a3",
   "metadata": {},
   "outputs": [
    {
     "name": "stdout",
     "output_type": "stream",
     "text": [
      "orginal_data_size: 1000209, filtered_data_size: 836478\n",
      "Ratio of Remaining Data is 83.63%\n"
     ]
    }
   ],
   "source": [
    "# 3점 이상만 남깁니다.\n",
    "ratings = ratings[ratings['ratings']>=3]\n",
    "filtered_data_size = len(ratings)\n",
    "\n",
    "print(f'orginal_data_size: {orginal_data_size}, filtered_data_size: {filtered_data_size}')\n",
    "print(f'Ratio of Remaining Data is {filtered_data_size / orginal_data_size:.2%}')"
   ]
  },
  {
   "cell_type": "code",
   "execution_count": 56,
   "id": "c046166d",
   "metadata": {},
   "outputs": [],
   "source": [
    "# ratings 컬럼의 이름을 counts로 바꿉니다.\n",
    "ratings.rename(columns={'ratings':'counts'}, inplace=True)"
   ]
  },
  {
   "cell_type": "code",
   "execution_count": 57,
   "id": "92f7704c",
   "metadata": {},
   "outputs": [
    {
     "data": {
      "text/plain": [
       "0          5\n",
       "1          3\n",
       "2          3\n",
       "3          4\n",
       "4          5\n",
       "          ..\n",
       "1000203    3\n",
       "1000205    5\n",
       "1000206    5\n",
       "1000207    4\n",
       "1000208    4\n",
       "Name: counts, Length: 836478, dtype: int64"
      ]
     },
     "execution_count": 57,
     "metadata": {},
     "output_type": "execute_result"
    }
   ],
   "source": [
    "ratings['counts']"
   ]
  },
  {
   "cell_type": "code",
   "execution_count": 58,
   "id": "eb99bc93",
   "metadata": {},
   "outputs": [
    {
     "data": {
      "text/html": [
       "<div>\n",
       "<style scoped>\n",
       "    .dataframe tbody tr th:only-of-type {\n",
       "        vertical-align: middle;\n",
       "    }\n",
       "\n",
       "    .dataframe tbody tr th {\n",
       "        vertical-align: top;\n",
       "    }\n",
       "\n",
       "    .dataframe thead th {\n",
       "        text-align: right;\n",
       "    }\n",
       "</style>\n",
       "<table border=\"1\" class=\"dataframe\">\n",
       "  <thead>\n",
       "    <tr style=\"text-align: right;\">\n",
       "      <th></th>\n",
       "      <th>movie_id</th>\n",
       "      <th>title</th>\n",
       "      <th>genre</th>\n",
       "    </tr>\n",
       "  </thead>\n",
       "  <tbody>\n",
       "    <tr>\n",
       "      <th>0</th>\n",
       "      <td>1</td>\n",
       "      <td>Toy Story (1995)</td>\n",
       "      <td>Animation|Children's|Comedy</td>\n",
       "    </tr>\n",
       "    <tr>\n",
       "      <th>1</th>\n",
       "      <td>2</td>\n",
       "      <td>Jumanji (1995)</td>\n",
       "      <td>Adventure|Children's|Fantasy</td>\n",
       "    </tr>\n",
       "    <tr>\n",
       "      <th>2</th>\n",
       "      <td>3</td>\n",
       "      <td>Grumpier Old Men (1995)</td>\n",
       "      <td>Comedy|Romance</td>\n",
       "    </tr>\n",
       "    <tr>\n",
       "      <th>3</th>\n",
       "      <td>4</td>\n",
       "      <td>Waiting to Exhale (1995)</td>\n",
       "      <td>Comedy|Drama</td>\n",
       "    </tr>\n",
       "    <tr>\n",
       "      <th>4</th>\n",
       "      <td>5</td>\n",
       "      <td>Father of the Bride Part II (1995)</td>\n",
       "      <td>Comedy</td>\n",
       "    </tr>\n",
       "  </tbody>\n",
       "</table>\n",
       "</div>"
      ],
      "text/plain": [
       "   movie_id                               title                         genre\n",
       "0         1                    Toy Story (1995)   Animation|Children's|Comedy\n",
       "1         2                      Jumanji (1995)  Adventure|Children's|Fantasy\n",
       "2         3             Grumpier Old Men (1995)                Comedy|Romance\n",
       "3         4            Waiting to Exhale (1995)                  Comedy|Drama\n",
       "4         5  Father of the Bride Part II (1995)                        Comedy"
      ]
     },
     "execution_count": 58,
     "metadata": {},
     "output_type": "execute_result"
    }
   ],
   "source": [
    "# 영화 제목을 보기 위해 메타 데이터를 읽어옵니다.\n",
    "movie_file_path=os.getenv('HOME') + '/aiffel/recommendata_iu/data/ml-1m/movies.dat'\n",
    "cols = ['movie_id', 'title', 'genre'] \n",
    "movies = pd.read_csv(movie_file_path, sep='::', names=cols, engine='python', encoding='ISO-8859-1')\n",
    "movies.head()"
   ]
  },
  {
   "cell_type": "code",
   "execution_count": 59,
   "id": "721fe824",
   "metadata": {
    "scrolled": false
   },
   "outputs": [],
   "source": [
    "# movies['genre'].unique()"
   ]
  },
  {
   "cell_type": "markdown",
   "id": "02c3f8b3",
   "metadata": {},
   "source": [
    "### 2) 분석해 봅시다.\n",
    "ratings에 있는 유니크한 영화 개수\n",
    "\n",
    "ratings에 있는 유니크한 사용자 수\n",
    "\n",
    "가장 인기 있는 영화 30개(인기순)"
   ]
  },
  {
   "cell_type": "code",
   "execution_count": 60,
   "id": "a1804325",
   "metadata": {},
   "outputs": [
    {
     "data": {
      "text/plain": [
       "3628"
      ]
     },
     "execution_count": 60,
     "metadata": {},
     "output_type": "execute_result"
    }
   ],
   "source": [
    "# ratings에 있는 유니크한 영화 개수\n",
    "ratings['movie_id'].nunique()"
   ]
  },
  {
   "cell_type": "code",
   "execution_count": 61,
   "id": "694fccf3",
   "metadata": {},
   "outputs": [
    {
     "data": {
      "text/plain": [
       "6039"
      ]
     },
     "execution_count": 61,
     "metadata": {},
     "output_type": "execute_result"
    }
   ],
   "source": [
    "# ratings에 있는 유니크한 사용자 수\n",
    "ratings['user_id'].nunique()"
   ]
  },
  {
   "cell_type": "code",
   "execution_count": 62,
   "id": "ce3821de",
   "metadata": {},
   "outputs": [
    {
     "data": {
      "text/html": [
       "<div>\n",
       "<style scoped>\n",
       "    .dataframe tbody tr th:only-of-type {\n",
       "        vertical-align: middle;\n",
       "    }\n",
       "\n",
       "    .dataframe tbody tr th {\n",
       "        vertical-align: top;\n",
       "    }\n",
       "\n",
       "    .dataframe thead th {\n",
       "        text-align: right;\n",
       "    }\n",
       "</style>\n",
       "<table border=\"1\" class=\"dataframe\">\n",
       "  <thead>\n",
       "    <tr style=\"text-align: right;\">\n",
       "      <th></th>\n",
       "      <th>user_id</th>\n",
       "      <th>movie_id</th>\n",
       "      <th>counts</th>\n",
       "      <th>timestamp</th>\n",
       "      <th>title</th>\n",
       "      <th>genre</th>\n",
       "    </tr>\n",
       "  </thead>\n",
       "  <tbody>\n",
       "    <tr>\n",
       "      <th>0</th>\n",
       "      <td>1</td>\n",
       "      <td>1193</td>\n",
       "      <td>5</td>\n",
       "      <td>978300760</td>\n",
       "      <td>One Flew Over the Cuckoo's Nest (1975)</td>\n",
       "      <td>Drama</td>\n",
       "    </tr>\n",
       "    <tr>\n",
       "      <th>1</th>\n",
       "      <td>2</td>\n",
       "      <td>1193</td>\n",
       "      <td>5</td>\n",
       "      <td>978298413</td>\n",
       "      <td>One Flew Over the Cuckoo's Nest (1975)</td>\n",
       "      <td>Drama</td>\n",
       "    </tr>\n",
       "    <tr>\n",
       "      <th>2</th>\n",
       "      <td>12</td>\n",
       "      <td>1193</td>\n",
       "      <td>4</td>\n",
       "      <td>978220179</td>\n",
       "      <td>One Flew Over the Cuckoo's Nest (1975)</td>\n",
       "      <td>Drama</td>\n",
       "    </tr>\n",
       "    <tr>\n",
       "      <th>3</th>\n",
       "      <td>15</td>\n",
       "      <td>1193</td>\n",
       "      <td>4</td>\n",
       "      <td>978199279</td>\n",
       "      <td>One Flew Over the Cuckoo's Nest (1975)</td>\n",
       "      <td>Drama</td>\n",
       "    </tr>\n",
       "    <tr>\n",
       "      <th>4</th>\n",
       "      <td>17</td>\n",
       "      <td>1193</td>\n",
       "      <td>5</td>\n",
       "      <td>978158471</td>\n",
       "      <td>One Flew Over the Cuckoo's Nest (1975)</td>\n",
       "      <td>Drama</td>\n",
       "    </tr>\n",
       "    <tr>\n",
       "      <th>...</th>\n",
       "      <td>...</td>\n",
       "      <td>...</td>\n",
       "      <td>...</td>\n",
       "      <td>...</td>\n",
       "      <td>...</td>\n",
       "      <td>...</td>\n",
       "    </tr>\n",
       "    <tr>\n",
       "      <th>836473</th>\n",
       "      <td>5851</td>\n",
       "      <td>3607</td>\n",
       "      <td>5</td>\n",
       "      <td>957756608</td>\n",
       "      <td>One Little Indian (1973)</td>\n",
       "      <td>Comedy|Drama|Western</td>\n",
       "    </tr>\n",
       "    <tr>\n",
       "      <th>836474</th>\n",
       "      <td>5854</td>\n",
       "      <td>3026</td>\n",
       "      <td>4</td>\n",
       "      <td>958346883</td>\n",
       "      <td>Slaughterhouse (1987)</td>\n",
       "      <td>Horror</td>\n",
       "    </tr>\n",
       "    <tr>\n",
       "      <th>836475</th>\n",
       "      <td>5854</td>\n",
       "      <td>690</td>\n",
       "      <td>3</td>\n",
       "      <td>957744257</td>\n",
       "      <td>Promise, The (Versprechen, Das) (1994)</td>\n",
       "      <td>Romance</td>\n",
       "    </tr>\n",
       "    <tr>\n",
       "      <th>836476</th>\n",
       "      <td>5938</td>\n",
       "      <td>2909</td>\n",
       "      <td>4</td>\n",
       "      <td>957273353</td>\n",
       "      <td>Five Wives, Three Secretaries and Me (1998)</td>\n",
       "      <td>Documentary</td>\n",
       "    </tr>\n",
       "    <tr>\n",
       "      <th>836477</th>\n",
       "      <td>5948</td>\n",
       "      <td>1360</td>\n",
       "      <td>5</td>\n",
       "      <td>1016563709</td>\n",
       "      <td>Identification of a Woman (Identificazione di ...</td>\n",
       "      <td>Drama</td>\n",
       "    </tr>\n",
       "  </tbody>\n",
       "</table>\n",
       "<p>836478 rows × 6 columns</p>\n",
       "</div>"
      ],
      "text/plain": [
       "        user_id  movie_id  counts   timestamp  \\\n",
       "0             1      1193       5   978300760   \n",
       "1             2      1193       5   978298413   \n",
       "2            12      1193       4   978220179   \n",
       "3            15      1193       4   978199279   \n",
       "4            17      1193       5   978158471   \n",
       "...         ...       ...     ...         ...   \n",
       "836473     5851      3607       5   957756608   \n",
       "836474     5854      3026       4   958346883   \n",
       "836475     5854       690       3   957744257   \n",
       "836476     5938      2909       4   957273353   \n",
       "836477     5948      1360       5  1016563709   \n",
       "\n",
       "                                                    title  \\\n",
       "0                  One Flew Over the Cuckoo's Nest (1975)   \n",
       "1                  One Flew Over the Cuckoo's Nest (1975)   \n",
       "2                  One Flew Over the Cuckoo's Nest (1975)   \n",
       "3                  One Flew Over the Cuckoo's Nest (1975)   \n",
       "4                  One Flew Over the Cuckoo's Nest (1975)   \n",
       "...                                                   ...   \n",
       "836473                           One Little Indian (1973)   \n",
       "836474                              Slaughterhouse (1987)   \n",
       "836475             Promise, The (Versprechen, Das) (1994)   \n",
       "836476        Five Wives, Three Secretaries and Me (1998)   \n",
       "836477  Identification of a Woman (Identificazione di ...   \n",
       "\n",
       "                       genre  \n",
       "0                      Drama  \n",
       "1                      Drama  \n",
       "2                      Drama  \n",
       "3                      Drama  \n",
       "4                      Drama  \n",
       "...                      ...  \n",
       "836473  Comedy|Drama|Western  \n",
       "836474                Horror  \n",
       "836475               Romance  \n",
       "836476           Documentary  \n",
       "836477                 Drama  \n",
       "\n",
       "[836478 rows x 6 columns]"
      ]
     },
     "execution_count": 62,
     "metadata": {},
     "output_type": "execute_result"
    }
   ],
   "source": [
    "# movies와 ratings 합쳐주기\n",
    "movie_df = pd.merge(ratings, movies, on='movie_id')\n",
    "movie_df"
   ]
  },
  {
   "cell_type": "code",
   "execution_count": 63,
   "id": "9e7f2e2c",
   "metadata": {},
   "outputs": [],
   "source": [
    "# movie_df['title'] = movie_df['title'].str.lower() # 영화제목 소문자로 바꿔주기\n",
    "# movie_df.head(10)"
   ]
  },
  {
   "cell_type": "code",
   "execution_count": 64,
   "id": "e0c3e1c4",
   "metadata": {
    "scrolled": false
   },
   "outputs": [
    {
     "data": {
      "text/plain": [
       "title\n",
       "American Beauty (1999)                                   3211\n",
       "Star Wars: Episode IV - A New Hope (1977)                2910\n",
       "Star Wars: Episode V - The Empire Strikes Back (1980)    2885\n",
       "Star Wars: Episode VI - Return of the Jedi (1983)        2716\n",
       "Saving Private Ryan (1998)                               2561\n",
       "Terminator 2: Judgment Day (1991)                        2509\n",
       "Silence of the Lambs, The (1991)                         2498\n",
       "Raiders of the Lost Ark (1981)                           2473\n",
       "Back to the Future (1985)                                2460\n",
       "Matrix, The (1999)                                       2434\n",
       "Jurassic Park (1993)                                     2413\n",
       "Sixth Sense, The (1999)                                  2385\n",
       "Fargo (1996)                                             2371\n",
       "Braveheart (1995)                                        2314\n",
       "Men in Black (1997)                                      2297\n",
       "Schindler's List (1993)                                  2257\n",
       "Princess Bride, The (1987)                               2252\n",
       "Shakespeare in Love (1998)                               2213\n",
       "L.A. Confidential (1997)                                 2210\n",
       "Shawshank Redemption, The (1994)                         2194\n",
       "Godfather, The (1972)                                    2167\n",
       "Groundhog Day (1993)                                     2121\n",
       "E.T. the Extra-Terrestrial (1982)                        2102\n",
       "Being John Malkovich (1999)                              2066\n",
       "Ghostbusters (1984)                                      2051\n",
       "Pulp Fiction (1994)                                      2030\n",
       "Forrest Gump (1994)                                      2022\n",
       "Terminator, The (1984)                                   2019\n",
       "Toy Story (1995)                                         2000\n",
       "Fugitive, The (1993)                                     1941\n",
       "Name: user_id, dtype: int64"
      ]
     },
     "execution_count": 64,
     "metadata": {},
     "output_type": "execute_result"
    }
   ],
   "source": [
    "# 가장 인기 있는 영화 30개(인기순)\n",
    "movie_count = movie_df.groupby('title')['user_id'].count()\n",
    "movie_count.sort_values(ascending=False).head(30)"
   ]
  },
  {
   "cell_type": "markdown",
   "id": "56cf4c10",
   "metadata": {},
   "source": [
    "### 3) 내가 선호하는 영화를 5가지 골라서 ratings에 추가해 줍시다.\n",
    "\n",
    "이번엔 장르가 로맨스인것들을 4개 + 다르장르 1개 ratings에 추가"
   ]
  },
  {
   "cell_type": "code",
   "execution_count": 65,
   "id": "fcdd5da8",
   "metadata": {},
   "outputs": [
    {
     "data": {
      "text/html": [
       "<div>\n",
       "<style scoped>\n",
       "    .dataframe tbody tr th:only-of-type {\n",
       "        vertical-align: middle;\n",
       "    }\n",
       "\n",
       "    .dataframe tbody tr th {\n",
       "        vertical-align: top;\n",
       "    }\n",
       "\n",
       "    .dataframe thead th {\n",
       "        text-align: right;\n",
       "    }\n",
       "</style>\n",
       "<table border=\"1\" class=\"dataframe\">\n",
       "  <thead>\n",
       "    <tr style=\"text-align: right;\">\n",
       "      <th></th>\n",
       "      <th>user_id</th>\n",
       "      <th>movie_id</th>\n",
       "      <th>counts</th>\n",
       "      <th>timestamp</th>\n",
       "      <th>title</th>\n",
       "      <th>genre</th>\n",
       "    </tr>\n",
       "  </thead>\n",
       "  <tbody>\n",
       "    <tr>\n",
       "      <th>2123</th>\n",
       "      <td>1</td>\n",
       "      <td>914</td>\n",
       "      <td>3</td>\n",
       "      <td>978301968</td>\n",
       "      <td>My Fair Lady (1964)</td>\n",
       "      <td>Musical|Romance</td>\n",
       "    </tr>\n",
       "    <tr>\n",
       "      <th>2124</th>\n",
       "      <td>6</td>\n",
       "      <td>914</td>\n",
       "      <td>5</td>\n",
       "      <td>978237767</td>\n",
       "      <td>My Fair Lady (1964)</td>\n",
       "      <td>Musical|Romance</td>\n",
       "    </tr>\n",
       "    <tr>\n",
       "      <th>2125</th>\n",
       "      <td>10</td>\n",
       "      <td>914</td>\n",
       "      <td>5</td>\n",
       "      <td>978226805</td>\n",
       "      <td>My Fair Lady (1964)</td>\n",
       "      <td>Musical|Romance</td>\n",
       "    </tr>\n",
       "    <tr>\n",
       "      <th>2126</th>\n",
       "      <td>33</td>\n",
       "      <td>914</td>\n",
       "      <td>5</td>\n",
       "      <td>978108939</td>\n",
       "      <td>My Fair Lady (1964)</td>\n",
       "      <td>Musical|Romance</td>\n",
       "    </tr>\n",
       "    <tr>\n",
       "      <th>2127</th>\n",
       "      <td>35</td>\n",
       "      <td>914</td>\n",
       "      <td>3</td>\n",
       "      <td>978101982</td>\n",
       "      <td>My Fair Lady (1964)</td>\n",
       "      <td>Musical|Romance</td>\n",
       "    </tr>\n",
       "    <tr>\n",
       "      <th>...</th>\n",
       "      <td>...</td>\n",
       "      <td>...</td>\n",
       "      <td>...</td>\n",
       "      <td>...</td>\n",
       "      <td>...</td>\n",
       "      <td>...</td>\n",
       "    </tr>\n",
       "    <tr>\n",
       "      <th>836391</th>\n",
       "      <td>4169</td>\n",
       "      <td>1071</td>\n",
       "      <td>4</td>\n",
       "      <td>979527174</td>\n",
       "      <td>For the Moment (1994)</td>\n",
       "      <td>Romance|War</td>\n",
       "    </tr>\n",
       "    <tr>\n",
       "      <th>836392</th>\n",
       "      <td>5281</td>\n",
       "      <td>1071</td>\n",
       "      <td>3</td>\n",
       "      <td>1002834556</td>\n",
       "      <td>For the Moment (1994)</td>\n",
       "      <td>Romance|War</td>\n",
       "    </tr>\n",
       "    <tr>\n",
       "      <th>836393</th>\n",
       "      <td>5734</td>\n",
       "      <td>1071</td>\n",
       "      <td>5</td>\n",
       "      <td>960828361</td>\n",
       "      <td>For the Moment (1994)</td>\n",
       "      <td>Romance|War</td>\n",
       "    </tr>\n",
       "    <tr>\n",
       "      <th>836444</th>\n",
       "      <td>4842</td>\n",
       "      <td>3748</td>\n",
       "      <td>4</td>\n",
       "      <td>1010087721</td>\n",
       "      <td>Match, The (1999)</td>\n",
       "      <td>Comedy|Romance</td>\n",
       "    </tr>\n",
       "    <tr>\n",
       "      <th>836475</th>\n",
       "      <td>5854</td>\n",
       "      <td>690</td>\n",
       "      <td>3</td>\n",
       "      <td>957744257</td>\n",
       "      <td>Promise, The (Versprechen, Das) (1994)</td>\n",
       "      <td>Romance</td>\n",
       "    </tr>\n",
       "  </tbody>\n",
       "</table>\n",
       "<p>125927 rows × 6 columns</p>\n",
       "</div>"
      ],
      "text/plain": [
       "        user_id  movie_id  counts   timestamp  \\\n",
       "2123          1       914       3   978301968   \n",
       "2124          6       914       5   978237767   \n",
       "2125         10       914       5   978226805   \n",
       "2126         33       914       5   978108939   \n",
       "2127         35       914       3   978101982   \n",
       "...         ...       ...     ...         ...   \n",
       "836391     4169      1071       4   979527174   \n",
       "836392     5281      1071       3  1002834556   \n",
       "836393     5734      1071       5   960828361   \n",
       "836444     4842      3748       4  1010087721   \n",
       "836475     5854       690       3   957744257   \n",
       "\n",
       "                                         title            genre  \n",
       "2123                       My Fair Lady (1964)  Musical|Romance  \n",
       "2124                       My Fair Lady (1964)  Musical|Romance  \n",
       "2125                       My Fair Lady (1964)  Musical|Romance  \n",
       "2126                       My Fair Lady (1964)  Musical|Romance  \n",
       "2127                       My Fair Lady (1964)  Musical|Romance  \n",
       "...                                        ...              ...  \n",
       "836391                   For the Moment (1994)      Romance|War  \n",
       "836392                   For the Moment (1994)      Romance|War  \n",
       "836393                   For the Moment (1994)      Romance|War  \n",
       "836444                       Match, The (1999)   Comedy|Romance  \n",
       "836475  Promise, The (Versprechen, Das) (1994)          Romance  \n",
       "\n",
       "[125927 rows x 6 columns]"
      ]
     },
     "execution_count": 65,
     "metadata": {},
     "output_type": "execute_result"
    }
   ],
   "source": [
    "movie_df[movie_df['genre'].str.lower().str.contains('romance')]"
   ]
  },
  {
   "cell_type": "code",
   "execution_count": 66,
   "id": "560c44f2",
   "metadata": {},
   "outputs": [
    {
     "data": {
      "text/html": [
       "<div>\n",
       "<style scoped>\n",
       "    .dataframe tbody tr th:only-of-type {\n",
       "        vertical-align: middle;\n",
       "    }\n",
       "\n",
       "    .dataframe tbody tr th {\n",
       "        vertical-align: top;\n",
       "    }\n",
       "\n",
       "    .dataframe thead th {\n",
       "        text-align: right;\n",
       "    }\n",
       "</style>\n",
       "<table border=\"1\" class=\"dataframe\">\n",
       "  <thead>\n",
       "    <tr style=\"text-align: right;\">\n",
       "      <th></th>\n",
       "      <th>user_id</th>\n",
       "      <th>movie_id</th>\n",
       "      <th>counts</th>\n",
       "      <th>timestamp</th>\n",
       "      <th>title</th>\n",
       "      <th>genre</th>\n",
       "    </tr>\n",
       "  </thead>\n",
       "  <tbody>\n",
       "    <tr>\n",
       "      <th>2123</th>\n",
       "      <td>1</td>\n",
       "      <td>914</td>\n",
       "      <td>3</td>\n",
       "      <td>978301968</td>\n",
       "      <td>My Fair Lady (1964)</td>\n",
       "      <td>Musical|Romance</td>\n",
       "    </tr>\n",
       "  </tbody>\n",
       "</table>\n",
       "</div>"
      ],
      "text/plain": [
       "      user_id  movie_id  counts  timestamp                title  \\\n",
       "2123        1       914       3  978301968  My Fair Lady (1964)   \n",
       "\n",
       "                genre  \n",
       "2123  Musical|Romance  "
      ]
     },
     "execution_count": 66,
     "metadata": {},
     "output_type": "execute_result"
    }
   ],
   "source": [
    "movie_df[movie_df['title'].str.lower().str.contains('my fair')].head(1)"
   ]
  },
  {
   "cell_type": "code",
   "execution_count": 67,
   "id": "39cdeb61",
   "metadata": {},
   "outputs": [
    {
     "data": {
      "text/html": [
       "<div>\n",
       "<style scoped>\n",
       "    .dataframe tbody tr th:only-of-type {\n",
       "        vertical-align: middle;\n",
       "    }\n",
       "\n",
       "    .dataframe tbody tr th {\n",
       "        vertical-align: top;\n",
       "    }\n",
       "\n",
       "    .dataframe thead th {\n",
       "        text-align: right;\n",
       "    }\n",
       "</style>\n",
       "<table border=\"1\" class=\"dataframe\">\n",
       "  <thead>\n",
       "    <tr style=\"text-align: right;\">\n",
       "      <th></th>\n",
       "      <th>user_id</th>\n",
       "      <th>movie_id</th>\n",
       "      <th>counts</th>\n",
       "      <th>timestamp</th>\n",
       "      <th>title</th>\n",
       "      <th>genre</th>\n",
       "    </tr>\n",
       "  </thead>\n",
       "  <tbody>\n",
       "    <tr>\n",
       "      <th>836390</th>\n",
       "      <td>3963</td>\n",
       "      <td>1071</td>\n",
       "      <td>3</td>\n",
       "      <td>977982833</td>\n",
       "      <td>For the Moment (1994)</td>\n",
       "      <td>Romance|War</td>\n",
       "    </tr>\n",
       "  </tbody>\n",
       "</table>\n",
       "</div>"
      ],
      "text/plain": [
       "        user_id  movie_id  counts  timestamp                  title  \\\n",
       "836390     3963      1071       3  977982833  For the Moment (1994)   \n",
       "\n",
       "              genre  \n",
       "836390  Romance|War  "
      ]
     },
     "execution_count": 67,
     "metadata": {},
     "output_type": "execute_result"
    }
   ],
   "source": [
    "movie_df[movie_df['title'].str.lower().str.contains('for the mom')].head(1)"
   ]
  },
  {
   "cell_type": "code",
   "execution_count": 68,
   "id": "1b385173",
   "metadata": {},
   "outputs": [
    {
     "data": {
      "text/html": [
       "<div>\n",
       "<style scoped>\n",
       "    .dataframe tbody tr th:only-of-type {\n",
       "        vertical-align: middle;\n",
       "    }\n",
       "\n",
       "    .dataframe tbody tr th {\n",
       "        vertical-align: top;\n",
       "    }\n",
       "\n",
       "    .dataframe thead th {\n",
       "        text-align: right;\n",
       "    }\n",
       "</style>\n",
       "<table border=\"1\" class=\"dataframe\">\n",
       "  <thead>\n",
       "    <tr style=\"text-align: right;\">\n",
       "      <th></th>\n",
       "      <th>user_id</th>\n",
       "      <th>movie_id</th>\n",
       "      <th>counts</th>\n",
       "      <th>timestamp</th>\n",
       "      <th>title</th>\n",
       "      <th>genre</th>\n",
       "    </tr>\n",
       "  </thead>\n",
       "  <tbody>\n",
       "    <tr>\n",
       "      <th>821891</th>\n",
       "      <td>225</td>\n",
       "      <td>1533</td>\n",
       "      <td>4</td>\n",
       "      <td>976832220</td>\n",
       "      <td>Promise, The (La Promesse) (1996)</td>\n",
       "      <td>Drama</td>\n",
       "    </tr>\n",
       "  </tbody>\n",
       "</table>\n",
       "</div>"
      ],
      "text/plain": [
       "        user_id  movie_id  counts  timestamp  \\\n",
       "821891      225      1533       4  976832220   \n",
       "\n",
       "                                    title  genre  \n",
       "821891  Promise, The (La Promesse) (1996)  Drama  "
      ]
     },
     "execution_count": 68,
     "metadata": {},
     "output_type": "execute_result"
    }
   ],
   "source": [
    "movie_df[movie_df['title'].str.lower().str.contains('promise')].head(1)"
   ]
  },
  {
   "cell_type": "code",
   "execution_count": 69,
   "id": "4ff2a23f",
   "metadata": {},
   "outputs": [
    {
     "data": {
      "text/html": [
       "<div>\n",
       "<style scoped>\n",
       "    .dataframe tbody tr th:only-of-type {\n",
       "        vertical-align: middle;\n",
       "    }\n",
       "\n",
       "    .dataframe tbody tr th {\n",
       "        vertical-align: top;\n",
       "    }\n",
       "\n",
       "    .dataframe thead th {\n",
       "        text-align: right;\n",
       "    }\n",
       "</style>\n",
       "<table border=\"1\" class=\"dataframe\">\n",
       "  <thead>\n",
       "    <tr style=\"text-align: right;\">\n",
       "      <th></th>\n",
       "      <th>user_id</th>\n",
       "      <th>movie_id</th>\n",
       "      <th>counts</th>\n",
       "      <th>timestamp</th>\n",
       "      <th>title</th>\n",
       "      <th>genre</th>\n",
       "    </tr>\n",
       "  </thead>\n",
       "  <tbody>\n",
       "    <tr>\n",
       "      <th>836444</th>\n",
       "      <td>4842</td>\n",
       "      <td>3748</td>\n",
       "      <td>4</td>\n",
       "      <td>1010087721</td>\n",
       "      <td>Match, The (1999)</td>\n",
       "      <td>Comedy|Romance</td>\n",
       "    </tr>\n",
       "  </tbody>\n",
       "</table>\n",
       "</div>"
      ],
      "text/plain": [
       "        user_id  movie_id  counts   timestamp              title  \\\n",
       "836444     4842      3748       4  1010087721  Match, The (1999)   \n",
       "\n",
       "                 genre  \n",
       "836444  Comedy|Romance  "
      ]
     },
     "execution_count": 69,
     "metadata": {},
     "output_type": "execute_result"
    }
   ],
   "source": [
    "movie_df[movie_df['title'].str.lower().str.contains('match,')].head(1)"
   ]
  },
  {
   "cell_type": "code",
   "execution_count": 70,
   "id": "5abf9b90",
   "metadata": {},
   "outputs": [
    {
     "data": {
      "text/html": [
       "<div>\n",
       "<style scoped>\n",
       "    .dataframe tbody tr th:only-of-type {\n",
       "        vertical-align: middle;\n",
       "    }\n",
       "\n",
       "    .dataframe tbody tr th {\n",
       "        vertical-align: top;\n",
       "    }\n",
       "\n",
       "    .dataframe thead th {\n",
       "        text-align: right;\n",
       "    }\n",
       "</style>\n",
       "<table border=\"1\" class=\"dataframe\">\n",
       "  <thead>\n",
       "    <tr style=\"text-align: right;\">\n",
       "      <th></th>\n",
       "      <th>user_id</th>\n",
       "      <th>movie_id</th>\n",
       "      <th>counts</th>\n",
       "      <th>timestamp</th>\n",
       "      <th>title</th>\n",
       "      <th>genre</th>\n",
       "    </tr>\n",
       "  </thead>\n",
       "  <tbody>\n",
       "    <tr>\n",
       "      <th>836466</th>\n",
       "      <td>5420</td>\n",
       "      <td>1843</td>\n",
       "      <td>3</td>\n",
       "      <td>960156505</td>\n",
       "      <td>Slappy and the Stinkers (1998)</td>\n",
       "      <td>Children's|Comedy</td>\n",
       "    </tr>\n",
       "  </tbody>\n",
       "</table>\n",
       "</div>"
      ],
      "text/plain": [
       "        user_id  movie_id  counts  timestamp                           title  \\\n",
       "836466     5420      1843       3  960156505  Slappy and the Stinkers (1998)   \n",
       "\n",
       "                    genre  \n",
       "836466  Children's|Comedy  "
      ]
     },
     "execution_count": 70,
     "metadata": {},
     "output_type": "execute_result"
    }
   ],
   "source": [
    "# 1개는 다른 장르 넣기\n",
    "\n",
    "movie_df[movie_df['title'].str.lower().str.contains('slappy and the')].head(1)"
   ]
  },
  {
   "cell_type": "code",
   "execution_count": 71,
   "id": "a7ca86e6",
   "metadata": {},
   "outputs": [
    {
     "data": {
      "text/html": [
       "<div>\n",
       "<style scoped>\n",
       "    .dataframe tbody tr th:only-of-type {\n",
       "        vertical-align: middle;\n",
       "    }\n",
       "\n",
       "    .dataframe tbody tr th {\n",
       "        vertical-align: top;\n",
       "    }\n",
       "\n",
       "    .dataframe thead th {\n",
       "        text-align: right;\n",
       "    }\n",
       "</style>\n",
       "<table border=\"1\" class=\"dataframe\">\n",
       "  <thead>\n",
       "    <tr style=\"text-align: right;\">\n",
       "      <th></th>\n",
       "      <th>user_id</th>\n",
       "      <th>movie_id</th>\n",
       "      <th>counts</th>\n",
       "      <th>timestamp</th>\n",
       "      <th>title</th>\n",
       "      <th>genre</th>\n",
       "    </tr>\n",
       "  </thead>\n",
       "  <tbody>\n",
       "    <tr>\n",
       "      <th>15006</th>\n",
       "      <td>1</td>\n",
       "      <td>1035</td>\n",
       "      <td>5</td>\n",
       "      <td>978301753</td>\n",
       "      <td>Sound of Music, The (1965)</td>\n",
       "      <td>Musical</td>\n",
       "    </tr>\n",
       "  </tbody>\n",
       "</table>\n",
       "</div>"
      ],
      "text/plain": [
       "       user_id  movie_id  counts  timestamp                       title  \\\n",
       "15006        1      1035       5  978301753  Sound of Music, The (1965)   \n",
       "\n",
       "         genre  \n",
       "15006  Musical  "
      ]
     },
     "execution_count": 71,
     "metadata": {},
     "output_type": "execute_result"
    }
   ],
   "source": [
    "movie_df[movie_df['title'].str.lower().str.contains('sound')].head(1)"
   ]
  },
  {
   "cell_type": "code",
   "execution_count": 72,
   "id": "b5ea2084",
   "metadata": {},
   "outputs": [
    {
     "data": {
      "text/html": [
       "<div>\n",
       "<style scoped>\n",
       "    .dataframe tbody tr th:only-of-type {\n",
       "        vertical-align: middle;\n",
       "    }\n",
       "\n",
       "    .dataframe tbody tr th {\n",
       "        vertical-align: top;\n",
       "    }\n",
       "\n",
       "    .dataframe thead th {\n",
       "        text-align: right;\n",
       "    }\n",
       "</style>\n",
       "<table border=\"1\" class=\"dataframe\">\n",
       "  <thead>\n",
       "    <tr style=\"text-align: right;\">\n",
       "      <th></th>\n",
       "      <th>user_id</th>\n",
       "      <th>movie_id</th>\n",
       "      <th>counts</th>\n",
       "      <th>timestamp</th>\n",
       "    </tr>\n",
       "  </thead>\n",
       "  <tbody>\n",
       "    <tr>\n",
       "      <th>1000192</th>\n",
       "      <td>6040</td>\n",
       "      <td>2019</td>\n",
       "      <td>5</td>\n",
       "      <td>956703977.0</td>\n",
       "    </tr>\n",
       "    <tr>\n",
       "      <th>1000193</th>\n",
       "      <td>6040</td>\n",
       "      <td>541</td>\n",
       "      <td>4</td>\n",
       "      <td>956715288.0</td>\n",
       "    </tr>\n",
       "    <tr>\n",
       "      <th>1000194</th>\n",
       "      <td>6040</td>\n",
       "      <td>1077</td>\n",
       "      <td>5</td>\n",
       "      <td>964828799.0</td>\n",
       "    </tr>\n",
       "    <tr>\n",
       "      <th>1000196</th>\n",
       "      <td>6040</td>\n",
       "      <td>549</td>\n",
       "      <td>4</td>\n",
       "      <td>956704746.0</td>\n",
       "    </tr>\n",
       "    <tr>\n",
       "      <th>1000197</th>\n",
       "      <td>6040</td>\n",
       "      <td>2020</td>\n",
       "      <td>3</td>\n",
       "      <td>956715288.0</td>\n",
       "    </tr>\n",
       "    <tr>\n",
       "      <th>1000198</th>\n",
       "      <td>6040</td>\n",
       "      <td>2021</td>\n",
       "      <td>3</td>\n",
       "      <td>956716374.0</td>\n",
       "    </tr>\n",
       "    <tr>\n",
       "      <th>1000199</th>\n",
       "      <td>6040</td>\n",
       "      <td>2022</td>\n",
       "      <td>5</td>\n",
       "      <td>956716207.0</td>\n",
       "    </tr>\n",
       "    <tr>\n",
       "      <th>1000200</th>\n",
       "      <td>6040</td>\n",
       "      <td>2028</td>\n",
       "      <td>5</td>\n",
       "      <td>956704519.0</td>\n",
       "    </tr>\n",
       "    <tr>\n",
       "      <th>1000201</th>\n",
       "      <td>6040</td>\n",
       "      <td>1080</td>\n",
       "      <td>4</td>\n",
       "      <td>957717322.0</td>\n",
       "    </tr>\n",
       "    <tr>\n",
       "      <th>1000202</th>\n",
       "      <td>6040</td>\n",
       "      <td>1089</td>\n",
       "      <td>4</td>\n",
       "      <td>956704996.0</td>\n",
       "    </tr>\n",
       "    <tr>\n",
       "      <th>1000203</th>\n",
       "      <td>6040</td>\n",
       "      <td>1090</td>\n",
       "      <td>3</td>\n",
       "      <td>956715518.0</td>\n",
       "    </tr>\n",
       "    <tr>\n",
       "      <th>1000205</th>\n",
       "      <td>6040</td>\n",
       "      <td>1094</td>\n",
       "      <td>5</td>\n",
       "      <td>956704887.0</td>\n",
       "    </tr>\n",
       "    <tr>\n",
       "      <th>1000206</th>\n",
       "      <td>6040</td>\n",
       "      <td>562</td>\n",
       "      <td>5</td>\n",
       "      <td>956704746.0</td>\n",
       "    </tr>\n",
       "    <tr>\n",
       "      <th>1000207</th>\n",
       "      <td>6040</td>\n",
       "      <td>1096</td>\n",
       "      <td>4</td>\n",
       "      <td>956715648.0</td>\n",
       "    </tr>\n",
       "    <tr>\n",
       "      <th>1000208</th>\n",
       "      <td>6040</td>\n",
       "      <td>1097</td>\n",
       "      <td>4</td>\n",
       "      <td>956715569.0</td>\n",
       "    </tr>\n",
       "    <tr>\n",
       "      <th>902</th>\n",
       "      <td>kim</td>\n",
       "      <td>914</td>\n",
       "      <td>5</td>\n",
       "      <td>NaN</td>\n",
       "    </tr>\n",
       "    <tr>\n",
       "      <th>1057</th>\n",
       "      <td>kim</td>\n",
       "      <td>1071</td>\n",
       "      <td>5</td>\n",
       "      <td>NaN</td>\n",
       "    </tr>\n",
       "    <tr>\n",
       "      <th>1496</th>\n",
       "      <td>kim</td>\n",
       "      <td>1533</td>\n",
       "      <td>5</td>\n",
       "      <td>NaN</td>\n",
       "    </tr>\n",
       "    <tr>\n",
       "      <th>1774</th>\n",
       "      <td>kim</td>\n",
       "      <td>1843</td>\n",
       "      <td>5</td>\n",
       "      <td>NaN</td>\n",
       "    </tr>\n",
       "    <tr>\n",
       "      <th>3679</th>\n",
       "      <td>kim</td>\n",
       "      <td>3748</td>\n",
       "      <td>5</td>\n",
       "      <td>NaN</td>\n",
       "    </tr>\n",
       "  </tbody>\n",
       "</table>\n",
       "</div>"
      ],
      "text/plain": [
       "        user_id  movie_id  counts    timestamp\n",
       "1000192    6040      2019       5  956703977.0\n",
       "1000193    6040       541       4  956715288.0\n",
       "1000194    6040      1077       5  964828799.0\n",
       "1000196    6040       549       4  956704746.0\n",
       "1000197    6040      2020       3  956715288.0\n",
       "1000198    6040      2021       3  956716374.0\n",
       "1000199    6040      2022       5  956716207.0\n",
       "1000200    6040      2028       5  956704519.0\n",
       "1000201    6040      1080       4  957717322.0\n",
       "1000202    6040      1089       4  956704996.0\n",
       "1000203    6040      1090       3  956715518.0\n",
       "1000205    6040      1094       5  956704887.0\n",
       "1000206    6040       562       5  956704746.0\n",
       "1000207    6040      1096       4  956715648.0\n",
       "1000208    6040      1097       4  956715569.0\n",
       "902         kim       914       5          NaN\n",
       "1057        kim      1071       5          NaN\n",
       "1496        kim      1533       5          NaN\n",
       "1774        kim      1843       5          NaN\n",
       "3679        kim      3748       5          NaN"
      ]
     },
     "execution_count": 72,
     "metadata": {},
     "output_type": "execute_result"
    }
   ],
   "source": [
    "# 본인이 좋아하시는 아티스트 데이터로 바꿔서 추가하셔도 됩니다! 단, 이름은 꼭 데이터셋에 있는 것과 동일하게 맞춰주세요. \n",
    "\n",
    "my_favorite = ['My Fair Lady (1964)' , 'For the Moment (1994)' ,\\\n",
    "               'Promise, The (La Promesse) (1996)' ,'Match, The (1999)' ,'Slappy and the Stinkers (1998)']\n",
    "\n",
    "favorite_movie_id = movies[movies['title'].isin(my_favorite)]\n",
    "\n",
    "my_list = pd.DataFrame({'user_id': ['kim']*5, 'movie_id': favorite_movie_id['movie_id'], 'counts':[5]*5} )\n",
    "\n",
    "if not ratings.isin({'user_id':['kim']})['user_id'].any():  \n",
    "    ratings = ratings.append(my_list)                          \n",
    "\n",
    "ratings.tail(20)  "
   ]
  },
  {
   "cell_type": "code",
   "execution_count": 73,
   "id": "9a5386f0",
   "metadata": {},
   "outputs": [
    {
     "data": {
      "text/html": [
       "<div>\n",
       "<style scoped>\n",
       "    .dataframe tbody tr th:only-of-type {\n",
       "        vertical-align: middle;\n",
       "    }\n",
       "\n",
       "    .dataframe tbody tr th {\n",
       "        vertical-align: top;\n",
       "    }\n",
       "\n",
       "    .dataframe thead th {\n",
       "        text-align: right;\n",
       "    }\n",
       "</style>\n",
       "<table border=\"1\" class=\"dataframe\">\n",
       "  <thead>\n",
       "    <tr style=\"text-align: right;\">\n",
       "      <th></th>\n",
       "      <th>movie_id</th>\n",
       "      <th>title</th>\n",
       "      <th>genre</th>\n",
       "    </tr>\n",
       "  </thead>\n",
       "  <tbody>\n",
       "    <tr>\n",
       "      <th>902</th>\n",
       "      <td>914</td>\n",
       "      <td>My Fair Lady (1964)</td>\n",
       "      <td>Musical|Romance</td>\n",
       "    </tr>\n",
       "    <tr>\n",
       "      <th>1057</th>\n",
       "      <td>1071</td>\n",
       "      <td>For the Moment (1994)</td>\n",
       "      <td>Romance|War</td>\n",
       "    </tr>\n",
       "    <tr>\n",
       "      <th>1496</th>\n",
       "      <td>1533</td>\n",
       "      <td>Promise, The (La Promesse) (1996)</td>\n",
       "      <td>Drama</td>\n",
       "    </tr>\n",
       "    <tr>\n",
       "      <th>1774</th>\n",
       "      <td>1843</td>\n",
       "      <td>Slappy and the Stinkers (1998)</td>\n",
       "      <td>Children's|Comedy</td>\n",
       "    </tr>\n",
       "    <tr>\n",
       "      <th>3679</th>\n",
       "      <td>3748</td>\n",
       "      <td>Match, The (1999)</td>\n",
       "      <td>Comedy|Romance</td>\n",
       "    </tr>\n",
       "  </tbody>\n",
       "</table>\n",
       "</div>"
      ],
      "text/plain": [
       "      movie_id                              title              genre\n",
       "902        914                My Fair Lady (1964)    Musical|Romance\n",
       "1057      1071              For the Moment (1994)        Romance|War\n",
       "1496      1533  Promise, The (La Promesse) (1996)              Drama\n",
       "1774      1843     Slappy and the Stinkers (1998)  Children's|Comedy\n",
       "3679      3748                  Match, The (1999)     Comedy|Romance"
      ]
     },
     "execution_count": 73,
     "metadata": {},
     "output_type": "execute_result"
    }
   ],
   "source": [
    "movies[movies['title'].isin(my_favorite)]"
   ]
  },
  {
   "cell_type": "code",
   "execution_count": 74,
   "id": "aed8d1e1",
   "metadata": {},
   "outputs": [
    {
     "data": {
      "text/html": [
       "<div>\n",
       "<style scoped>\n",
       "    .dataframe tbody tr th:only-of-type {\n",
       "        vertical-align: middle;\n",
       "    }\n",
       "\n",
       "    .dataframe tbody tr th {\n",
       "        vertical-align: top;\n",
       "    }\n",
       "\n",
       "    .dataframe thead th {\n",
       "        text-align: right;\n",
       "    }\n",
       "</style>\n",
       "<table border=\"1\" class=\"dataframe\">\n",
       "  <thead>\n",
       "    <tr style=\"text-align: right;\">\n",
       "      <th></th>\n",
       "      <th>movie_id</th>\n",
       "      <th>title</th>\n",
       "      <th>genre</th>\n",
       "    </tr>\n",
       "  </thead>\n",
       "  <tbody>\n",
       "    <tr>\n",
       "      <th>902</th>\n",
       "      <td>914</td>\n",
       "      <td>My Fair Lady (1964)</td>\n",
       "      <td>Musical|Romance</td>\n",
       "    </tr>\n",
       "    <tr>\n",
       "      <th>1057</th>\n",
       "      <td>1071</td>\n",
       "      <td>For the Moment (1994)</td>\n",
       "      <td>Romance|War</td>\n",
       "    </tr>\n",
       "    <tr>\n",
       "      <th>1496</th>\n",
       "      <td>1533</td>\n",
       "      <td>Promise, The (La Promesse) (1996)</td>\n",
       "      <td>Drama</td>\n",
       "    </tr>\n",
       "    <tr>\n",
       "      <th>1774</th>\n",
       "      <td>1843</td>\n",
       "      <td>Slappy and the Stinkers (1998)</td>\n",
       "      <td>Children's|Comedy</td>\n",
       "    </tr>\n",
       "    <tr>\n",
       "      <th>3679</th>\n",
       "      <td>3748</td>\n",
       "      <td>Match, The (1999)</td>\n",
       "      <td>Comedy|Romance</td>\n",
       "    </tr>\n",
       "  </tbody>\n",
       "</table>\n",
       "</div>"
      ],
      "text/plain": [
       "      movie_id                              title              genre\n",
       "902        914                My Fair Lady (1964)    Musical|Romance\n",
       "1057      1071              For the Moment (1994)        Romance|War\n",
       "1496      1533  Promise, The (La Promesse) (1996)              Drama\n",
       "1774      1843     Slappy and the Stinkers (1998)  Children's|Comedy\n",
       "3679      3748                  Match, The (1999)     Comedy|Romance"
      ]
     },
     "execution_count": 74,
     "metadata": {},
     "output_type": "execute_result"
    }
   ],
   "source": [
    "favorite_movie_id"
   ]
  },
  {
   "cell_type": "code",
   "execution_count": 75,
   "id": "0c086c29",
   "metadata": {},
   "outputs": [
    {
     "data": {
      "text/html": [
       "<div>\n",
       "<style scoped>\n",
       "    .dataframe tbody tr th:only-of-type {\n",
       "        vertical-align: middle;\n",
       "    }\n",
       "\n",
       "    .dataframe tbody tr th {\n",
       "        vertical-align: top;\n",
       "    }\n",
       "\n",
       "    .dataframe thead th {\n",
       "        text-align: right;\n",
       "    }\n",
       "</style>\n",
       "<table border=\"1\" class=\"dataframe\">\n",
       "  <thead>\n",
       "    <tr style=\"text-align: right;\">\n",
       "      <th></th>\n",
       "      <th>user_id</th>\n",
       "      <th>movie_id</th>\n",
       "      <th>counts</th>\n",
       "      <th>timestamp</th>\n",
       "      <th>title</th>\n",
       "      <th>genre</th>\n",
       "    </tr>\n",
       "  </thead>\n",
       "  <tbody>\n",
       "    <tr>\n",
       "      <th>0</th>\n",
       "      <td>1</td>\n",
       "      <td>1193</td>\n",
       "      <td>5</td>\n",
       "      <td>9.783008e+08</td>\n",
       "      <td>One Flew Over the Cuckoo's Nest (1975)</td>\n",
       "      <td>Drama</td>\n",
       "    </tr>\n",
       "    <tr>\n",
       "      <th>1</th>\n",
       "      <td>2</td>\n",
       "      <td>1193</td>\n",
       "      <td>5</td>\n",
       "      <td>9.782984e+08</td>\n",
       "      <td>One Flew Over the Cuckoo's Nest (1975)</td>\n",
       "      <td>Drama</td>\n",
       "    </tr>\n",
       "    <tr>\n",
       "      <th>2</th>\n",
       "      <td>12</td>\n",
       "      <td>1193</td>\n",
       "      <td>4</td>\n",
       "      <td>9.782202e+08</td>\n",
       "      <td>One Flew Over the Cuckoo's Nest (1975)</td>\n",
       "      <td>Drama</td>\n",
       "    </tr>\n",
       "    <tr>\n",
       "      <th>3</th>\n",
       "      <td>15</td>\n",
       "      <td>1193</td>\n",
       "      <td>4</td>\n",
       "      <td>9.781993e+08</td>\n",
       "      <td>One Flew Over the Cuckoo's Nest (1975)</td>\n",
       "      <td>Drama</td>\n",
       "    </tr>\n",
       "    <tr>\n",
       "      <th>4</th>\n",
       "      <td>17</td>\n",
       "      <td>1193</td>\n",
       "      <td>5</td>\n",
       "      <td>9.781585e+08</td>\n",
       "      <td>One Flew Over the Cuckoo's Nest (1975)</td>\n",
       "      <td>Drama</td>\n",
       "    </tr>\n",
       "    <tr>\n",
       "      <th>...</th>\n",
       "      <td>...</td>\n",
       "      <td>...</td>\n",
       "      <td>...</td>\n",
       "      <td>...</td>\n",
       "      <td>...</td>\n",
       "      <td>...</td>\n",
       "    </tr>\n",
       "    <tr>\n",
       "      <th>836478</th>\n",
       "      <td>5851</td>\n",
       "      <td>3607</td>\n",
       "      <td>5</td>\n",
       "      <td>9.577566e+08</td>\n",
       "      <td>One Little Indian (1973)</td>\n",
       "      <td>Comedy|Drama|Western</td>\n",
       "    </tr>\n",
       "    <tr>\n",
       "      <th>836479</th>\n",
       "      <td>5854</td>\n",
       "      <td>3026</td>\n",
       "      <td>4</td>\n",
       "      <td>9.583469e+08</td>\n",
       "      <td>Slaughterhouse (1987)</td>\n",
       "      <td>Horror</td>\n",
       "    </tr>\n",
       "    <tr>\n",
       "      <th>836480</th>\n",
       "      <td>5854</td>\n",
       "      <td>690</td>\n",
       "      <td>3</td>\n",
       "      <td>9.577443e+08</td>\n",
       "      <td>Promise, The (Versprechen, Das) (1994)</td>\n",
       "      <td>Romance</td>\n",
       "    </tr>\n",
       "    <tr>\n",
       "      <th>836481</th>\n",
       "      <td>5938</td>\n",
       "      <td>2909</td>\n",
       "      <td>4</td>\n",
       "      <td>9.572734e+08</td>\n",
       "      <td>Five Wives, Three Secretaries and Me (1998)</td>\n",
       "      <td>Documentary</td>\n",
       "    </tr>\n",
       "    <tr>\n",
       "      <th>836482</th>\n",
       "      <td>5948</td>\n",
       "      <td>1360</td>\n",
       "      <td>5</td>\n",
       "      <td>1.016564e+09</td>\n",
       "      <td>Identification of a Woman (Identificazione di ...</td>\n",
       "      <td>Drama</td>\n",
       "    </tr>\n",
       "  </tbody>\n",
       "</table>\n",
       "<p>836483 rows × 6 columns</p>\n",
       "</div>"
      ],
      "text/plain": [
       "       user_id  movie_id  counts     timestamp  \\\n",
       "0            1      1193       5  9.783008e+08   \n",
       "1            2      1193       5  9.782984e+08   \n",
       "2           12      1193       4  9.782202e+08   \n",
       "3           15      1193       4  9.781993e+08   \n",
       "4           17      1193       5  9.781585e+08   \n",
       "...        ...       ...     ...           ...   \n",
       "836478    5851      3607       5  9.577566e+08   \n",
       "836479    5854      3026       4  9.583469e+08   \n",
       "836480    5854       690       3  9.577443e+08   \n",
       "836481    5938      2909       4  9.572734e+08   \n",
       "836482    5948      1360       5  1.016564e+09   \n",
       "\n",
       "                                                    title  \\\n",
       "0                  One Flew Over the Cuckoo's Nest (1975)   \n",
       "1                  One Flew Over the Cuckoo's Nest (1975)   \n",
       "2                  One Flew Over the Cuckoo's Nest (1975)   \n",
       "3                  One Flew Over the Cuckoo's Nest (1975)   \n",
       "4                  One Flew Over the Cuckoo's Nest (1975)   \n",
       "...                                                   ...   \n",
       "836478                           One Little Indian (1973)   \n",
       "836479                              Slaughterhouse (1987)   \n",
       "836480             Promise, The (Versprechen, Das) (1994)   \n",
       "836481        Five Wives, Three Secretaries and Me (1998)   \n",
       "836482  Identification of a Woman (Identificazione di ...   \n",
       "\n",
       "                       genre  \n",
       "0                      Drama  \n",
       "1                      Drama  \n",
       "2                      Drama  \n",
       "3                      Drama  \n",
       "4                      Drama  \n",
       "...                      ...  \n",
       "836478  Comedy|Drama|Western  \n",
       "836479                Horror  \n",
       "836480               Romance  \n",
       "836481           Documentary  \n",
       "836482                 Drama  \n",
       "\n",
       "[836483 rows x 6 columns]"
      ]
     },
     "execution_count": 75,
     "metadata": {},
     "output_type": "execute_result"
    }
   ],
   "source": [
    "movie_df = pd.merge(ratings, movies, on='movie_id')\n",
    "movie_df"
   ]
  },
  {
   "cell_type": "code",
   "execution_count": 76,
   "id": "ae17ca5a",
   "metadata": {},
   "outputs": [
    {
     "data": {
      "text/html": [
       "<div>\n",
       "<style scoped>\n",
       "    .dataframe tbody tr th:only-of-type {\n",
       "        vertical-align: middle;\n",
       "    }\n",
       "\n",
       "    .dataframe tbody tr th {\n",
       "        vertical-align: top;\n",
       "    }\n",
       "\n",
       "    .dataframe thead th {\n",
       "        text-align: right;\n",
       "    }\n",
       "</style>\n",
       "<table border=\"1\" class=\"dataframe\">\n",
       "  <thead>\n",
       "    <tr style=\"text-align: right;\">\n",
       "      <th></th>\n",
       "      <th>user_id</th>\n",
       "      <th>title</th>\n",
       "      <th>counts</th>\n",
       "      <th>movie_id</th>\n",
       "      <th>genre</th>\n",
       "    </tr>\n",
       "  </thead>\n",
       "  <tbody>\n",
       "    <tr>\n",
       "      <th>0</th>\n",
       "      <td>1</td>\n",
       "      <td>One Flew Over the Cuckoo's Nest (1975)</td>\n",
       "      <td>5</td>\n",
       "      <td>1193</td>\n",
       "      <td>Drama</td>\n",
       "    </tr>\n",
       "    <tr>\n",
       "      <th>1</th>\n",
       "      <td>2</td>\n",
       "      <td>One Flew Over the Cuckoo's Nest (1975)</td>\n",
       "      <td>5</td>\n",
       "      <td>1193</td>\n",
       "      <td>Drama</td>\n",
       "    </tr>\n",
       "    <tr>\n",
       "      <th>2</th>\n",
       "      <td>12</td>\n",
       "      <td>One Flew Over the Cuckoo's Nest (1975)</td>\n",
       "      <td>4</td>\n",
       "      <td>1193</td>\n",
       "      <td>Drama</td>\n",
       "    </tr>\n",
       "    <tr>\n",
       "      <th>3</th>\n",
       "      <td>15</td>\n",
       "      <td>One Flew Over the Cuckoo's Nest (1975)</td>\n",
       "      <td>4</td>\n",
       "      <td>1193</td>\n",
       "      <td>Drama</td>\n",
       "    </tr>\n",
       "    <tr>\n",
       "      <th>4</th>\n",
       "      <td>17</td>\n",
       "      <td>One Flew Over the Cuckoo's Nest (1975)</td>\n",
       "      <td>5</td>\n",
       "      <td>1193</td>\n",
       "      <td>Drama</td>\n",
       "    </tr>\n",
       "    <tr>\n",
       "      <th>...</th>\n",
       "      <td>...</td>\n",
       "      <td>...</td>\n",
       "      <td>...</td>\n",
       "      <td>...</td>\n",
       "      <td>...</td>\n",
       "    </tr>\n",
       "    <tr>\n",
       "      <th>836478</th>\n",
       "      <td>5851</td>\n",
       "      <td>One Little Indian (1973)</td>\n",
       "      <td>5</td>\n",
       "      <td>3607</td>\n",
       "      <td>Comedy|Drama|Western</td>\n",
       "    </tr>\n",
       "    <tr>\n",
       "      <th>836479</th>\n",
       "      <td>5854</td>\n",
       "      <td>Slaughterhouse (1987)</td>\n",
       "      <td>4</td>\n",
       "      <td>3026</td>\n",
       "      <td>Horror</td>\n",
       "    </tr>\n",
       "    <tr>\n",
       "      <th>836480</th>\n",
       "      <td>5854</td>\n",
       "      <td>Promise, The (Versprechen, Das) (1994)</td>\n",
       "      <td>3</td>\n",
       "      <td>690</td>\n",
       "      <td>Romance</td>\n",
       "    </tr>\n",
       "    <tr>\n",
       "      <th>836481</th>\n",
       "      <td>5938</td>\n",
       "      <td>Five Wives, Three Secretaries and Me (1998)</td>\n",
       "      <td>4</td>\n",
       "      <td>2909</td>\n",
       "      <td>Documentary</td>\n",
       "    </tr>\n",
       "    <tr>\n",
       "      <th>836482</th>\n",
       "      <td>5948</td>\n",
       "      <td>Identification of a Woman (Identificazione di ...</td>\n",
       "      <td>5</td>\n",
       "      <td>1360</td>\n",
       "      <td>Drama</td>\n",
       "    </tr>\n",
       "  </tbody>\n",
       "</table>\n",
       "<p>836483 rows × 5 columns</p>\n",
       "</div>"
      ],
      "text/plain": [
       "       user_id                                              title  counts  \\\n",
       "0            1             One Flew Over the Cuckoo's Nest (1975)       5   \n",
       "1            2             One Flew Over the Cuckoo's Nest (1975)       5   \n",
       "2           12             One Flew Over the Cuckoo's Nest (1975)       4   \n",
       "3           15             One Flew Over the Cuckoo's Nest (1975)       4   \n",
       "4           17             One Flew Over the Cuckoo's Nest (1975)       5   \n",
       "...        ...                                                ...     ...   \n",
       "836478    5851                           One Little Indian (1973)       5   \n",
       "836479    5854                              Slaughterhouse (1987)       4   \n",
       "836480    5854             Promise, The (Versprechen, Das) (1994)       3   \n",
       "836481    5938        Five Wives, Three Secretaries and Me (1998)       4   \n",
       "836482    5948  Identification of a Woman (Identificazione di ...       5   \n",
       "\n",
       "        movie_id                 genre  \n",
       "0           1193                 Drama  \n",
       "1           1193                 Drama  \n",
       "2           1193                 Drama  \n",
       "3           1193                 Drama  \n",
       "4           1193                 Drama  \n",
       "...          ...                   ...  \n",
       "836478      3607  Comedy|Drama|Western  \n",
       "836479      3026                Horror  \n",
       "836480       690               Romance  \n",
       "836481      2909           Documentary  \n",
       "836482      1360                 Drama  \n",
       "\n",
       "[836483 rows x 5 columns]"
      ]
     },
     "execution_count": 76,
     "metadata": {},
     "output_type": "execute_result"
    }
   ],
   "source": [
    "# 사용하는 컬럼만 남기기\n",
    "movie_df = movie_df[['user_id','title', 'counts','movie_id','genre']]\n",
    "movie_df.sort_index()"
   ]
  },
  {
   "cell_type": "code",
   "execution_count": 77,
   "id": "210a4898",
   "metadata": {},
   "outputs": [],
   "source": [
    "# 고유한 유저, 영화제목 찾아내는 코드\n",
    "user_unique = movie_df['user_id'].unique()\n",
    "movie_unique = movie_df['title'].unique()\n",
    "\n",
    "# 유저, 영화제목 indexing 하는 코드 \n",
    "user_to_idx = {v:k for k,v in enumerate(user_unique)}\n",
    "movie_to_idx = {v:k for k,v in enumerate(movie_unique)}"
   ]
  },
  {
   "cell_type": "code",
   "execution_count": 78,
   "id": "2b2843cf",
   "metadata": {},
   "outputs": [
    {
     "name": "stdout",
     "output_type": "stream",
     "text": [
      "2219\n",
      "3617\n",
      "2\n"
     ]
    }
   ],
   "source": [
    "# 인덱싱이 잘 되었는지 확인해 봅니다. \n",
    "print(user_to_idx['kim'])    \n",
    "print(movie_to_idx['Slappy and the Stinkers (1998)'])\n",
    "print(movie_to_idx['My Fair Lady (1964)'])"
   ]
  },
  {
   "cell_type": "code",
   "execution_count": 79,
   "id": "24f53206",
   "metadata": {},
   "outputs": [
    {
     "name": "stdout",
     "output_type": "stream",
     "text": [
      "user_id column indexing OK!!\n",
      "title column indexing OK!!\n"
     ]
    },
    {
     "name": "stderr",
     "output_type": "stream",
     "text": [
      "/tmp/ipykernel_82/802763836.py:4: SettingWithCopyWarning: \n",
      "A value is trying to be set on a copy of a slice from a DataFrame.\n",
      "Try using .loc[row_indexer,col_indexer] = value instead\n",
      "\n",
      "See the caveats in the documentation: https://pandas.pydata.org/pandas-docs/stable/user_guide/indexing.html#returning-a-view-versus-a-copy\n",
      "  movie_df['user_id'] = temp_user_data   # data['user_id']을 인덱싱된 Series로 교체해 줍니다.\n",
      "/tmp/ipykernel_82/802763836.py:12: SettingWithCopyWarning: \n",
      "A value is trying to be set on a copy of a slice from a DataFrame.\n",
      "Try using .loc[row_indexer,col_indexer] = value instead\n",
      "\n",
      "See the caveats in the documentation: https://pandas.pydata.org/pandas-docs/stable/user_guide/indexing.html#returning-a-view-versus-a-copy\n",
      "  movie_df['title'] = temp_movie_data\n"
     ]
    },
    {
     "data": {
      "text/html": [
       "<div>\n",
       "<style scoped>\n",
       "    .dataframe tbody tr th:only-of-type {\n",
       "        vertical-align: middle;\n",
       "    }\n",
       "\n",
       "    .dataframe tbody tr th {\n",
       "        vertical-align: top;\n",
       "    }\n",
       "\n",
       "    .dataframe thead th {\n",
       "        text-align: right;\n",
       "    }\n",
       "</style>\n",
       "<table border=\"1\" class=\"dataframe\">\n",
       "  <thead>\n",
       "    <tr style=\"text-align: right;\">\n",
       "      <th></th>\n",
       "      <th>user_id</th>\n",
       "      <th>title</th>\n",
       "      <th>counts</th>\n",
       "      <th>movie_id</th>\n",
       "      <th>genre</th>\n",
       "    </tr>\n",
       "  </thead>\n",
       "  <tbody>\n",
       "    <tr>\n",
       "      <th>0</th>\n",
       "      <td>0</td>\n",
       "      <td>0</td>\n",
       "      <td>5</td>\n",
       "      <td>1193</td>\n",
       "      <td>Drama</td>\n",
       "    </tr>\n",
       "    <tr>\n",
       "      <th>1</th>\n",
       "      <td>1</td>\n",
       "      <td>0</td>\n",
       "      <td>5</td>\n",
       "      <td>1193</td>\n",
       "      <td>Drama</td>\n",
       "    </tr>\n",
       "    <tr>\n",
       "      <th>2</th>\n",
       "      <td>2</td>\n",
       "      <td>0</td>\n",
       "      <td>4</td>\n",
       "      <td>1193</td>\n",
       "      <td>Drama</td>\n",
       "    </tr>\n",
       "    <tr>\n",
       "      <th>3</th>\n",
       "      <td>3</td>\n",
       "      <td>0</td>\n",
       "      <td>4</td>\n",
       "      <td>1193</td>\n",
       "      <td>Drama</td>\n",
       "    </tr>\n",
       "    <tr>\n",
       "      <th>4</th>\n",
       "      <td>4</td>\n",
       "      <td>0</td>\n",
       "      <td>5</td>\n",
       "      <td>1193</td>\n",
       "      <td>Drama</td>\n",
       "    </tr>\n",
       "    <tr>\n",
       "      <th>...</th>\n",
       "      <td>...</td>\n",
       "      <td>...</td>\n",
       "      <td>...</td>\n",
       "      <td>...</td>\n",
       "      <td>...</td>\n",
       "    </tr>\n",
       "    <tr>\n",
       "      <th>836478</th>\n",
       "      <td>1621</td>\n",
       "      <td>3623</td>\n",
       "      <td>5</td>\n",
       "      <td>3607</td>\n",
       "      <td>Comedy|Drama|Western</td>\n",
       "    </tr>\n",
       "    <tr>\n",
       "      <th>836479</th>\n",
       "      <td>3482</td>\n",
       "      <td>3624</td>\n",
       "      <td>4</td>\n",
       "      <td>3026</td>\n",
       "      <td>Horror</td>\n",
       "    </tr>\n",
       "    <tr>\n",
       "      <th>836480</th>\n",
       "      <td>3482</td>\n",
       "      <td>3625</td>\n",
       "      <td>3</td>\n",
       "      <td>690</td>\n",
       "      <td>Romance</td>\n",
       "    </tr>\n",
       "    <tr>\n",
       "      <th>836481</th>\n",
       "      <td>4160</td>\n",
       "      <td>3626</td>\n",
       "      <td>4</td>\n",
       "      <td>2909</td>\n",
       "      <td>Documentary</td>\n",
       "    </tr>\n",
       "    <tr>\n",
       "      <th>836482</th>\n",
       "      <td>1648</td>\n",
       "      <td>3627</td>\n",
       "      <td>5</td>\n",
       "      <td>1360</td>\n",
       "      <td>Drama</td>\n",
       "    </tr>\n",
       "  </tbody>\n",
       "</table>\n",
       "<p>836483 rows × 5 columns</p>\n",
       "</div>"
      ],
      "text/plain": [
       "        user_id  title  counts  movie_id                 genre\n",
       "0             0      0       5      1193                 Drama\n",
       "1             1      0       5      1193                 Drama\n",
       "2             2      0       4      1193                 Drama\n",
       "3             3      0       4      1193                 Drama\n",
       "4             4      0       5      1193                 Drama\n",
       "...         ...    ...     ...       ...                   ...\n",
       "836478     1621   3623       5      3607  Comedy|Drama|Western\n",
       "836479     3482   3624       4      3026                Horror\n",
       "836480     3482   3625       3       690               Romance\n",
       "836481     4160   3626       4      2909           Documentary\n",
       "836482     1648   3627       5      1360                 Drama\n",
       "\n",
       "[836483 rows x 5 columns]"
      ]
     },
     "execution_count": 79,
     "metadata": {},
     "output_type": "execute_result"
    }
   ],
   "source": [
    "temp_user_data = movie_df['user_id'].map(user_to_idx.get).dropna()\n",
    "if len(temp_user_data) == len(movie_df):   # 모든 row가 정상적으로 인덱싱되었다면\n",
    "    print('user_id column indexing OK!!')\n",
    "    movie_df['user_id'] = temp_user_data   # data['user_id']을 인덱싱된 Series로 교체해 줍니다. \n",
    "else:\n",
    "    print('user_id column indexing Fail!!')\n",
    "\n",
    "\n",
    "temp_movie_data = movie_df['title'].map(movie_to_idx.get).dropna()\n",
    "if len(temp_movie_data) == len(movie_df):\n",
    "    print('title column indexing OK!!')\n",
    "    movie_df['title'] = temp_movie_data\n",
    "else:\n",
    "    print('title column indexing Fail!!')\n",
    "\n",
    "movie_df"
   ]
  },
  {
   "cell_type": "code",
   "execution_count": 80,
   "id": "d19f5952",
   "metadata": {},
   "outputs": [
    {
     "data": {
      "text/html": [
       "<div>\n",
       "<style scoped>\n",
       "    .dataframe tbody tr th:only-of-type {\n",
       "        vertical-align: middle;\n",
       "    }\n",
       "\n",
       "    .dataframe tbody tr th {\n",
       "        vertical-align: top;\n",
       "    }\n",
       "\n",
       "    .dataframe thead th {\n",
       "        text-align: right;\n",
       "    }\n",
       "</style>\n",
       "<table border=\"1\" class=\"dataframe\">\n",
       "  <thead>\n",
       "    <tr style=\"text-align: right;\">\n",
       "      <th></th>\n",
       "      <th>user_id</th>\n",
       "      <th>title</th>\n",
       "      <th>counts</th>\n",
       "      <th>movie_id</th>\n",
       "      <th>genre</th>\n",
       "    </tr>\n",
       "  </thead>\n",
       "  <tbody>\n",
       "    <tr>\n",
       "      <th>2734</th>\n",
       "      <td>2219</td>\n",
       "      <td>2</td>\n",
       "      <td>5</td>\n",
       "      <td>914</td>\n",
       "      <td>Musical|Romance</td>\n",
       "    </tr>\n",
       "    <tr>\n",
       "      <th>821915</th>\n",
       "      <td>2219</td>\n",
       "      <td>2733</td>\n",
       "      <td>5</td>\n",
       "      <td>1533</td>\n",
       "      <td>Drama</td>\n",
       "    </tr>\n",
       "    <tr>\n",
       "      <th>836396</th>\n",
       "      <td>2219</td>\n",
       "      <td>3566</td>\n",
       "      <td>5</td>\n",
       "      <td>1071</td>\n",
       "      <td>Romance|War</td>\n",
       "    </tr>\n",
       "    <tr>\n",
       "      <th>836448</th>\n",
       "      <td>2219</td>\n",
       "      <td>3600</td>\n",
       "      <td>5</td>\n",
       "      <td>3748</td>\n",
       "      <td>Comedy|Romance</td>\n",
       "    </tr>\n",
       "    <tr>\n",
       "      <th>836471</th>\n",
       "      <td>2219</td>\n",
       "      <td>3617</td>\n",
       "      <td>5</td>\n",
       "      <td>1843</td>\n",
       "      <td>Children's|Comedy</td>\n",
       "    </tr>\n",
       "  </tbody>\n",
       "</table>\n",
       "</div>"
      ],
      "text/plain": [
       "        user_id  title  counts  movie_id              genre\n",
       "2734       2219      2       5       914    Musical|Romance\n",
       "821915     2219   2733       5      1533              Drama\n",
       "836396     2219   3566       5      1071        Romance|War\n",
       "836448     2219   3600       5      3748     Comedy|Romance\n",
       "836471     2219   3617       5      1843  Children's|Comedy"
      ]
     },
     "execution_count": 80,
     "metadata": {},
     "output_type": "execute_result"
    }
   ],
   "source": [
    "movie_df[movie_df['user_id']==2219]"
   ]
  },
  {
   "cell_type": "code",
   "execution_count": null,
   "id": "62c0eec8",
   "metadata": {},
   "outputs": [],
   "source": []
  },
  {
   "cell_type": "markdown",
   "id": "1515f2c9",
   "metadata": {},
   "source": [
    "### 4) CSR matrix를 직접 만들어 봅시다."
   ]
  },
  {
   "cell_type": "code",
   "execution_count": 81,
   "id": "c5d874c4",
   "metadata": {},
   "outputs": [
    {
     "name": "stdout",
     "output_type": "stream",
     "text": [
      "6040\n",
      "3628\n"
     ]
    },
    {
     "data": {
      "text/plain": [
       "<6040x3628 sparse matrix of type '<class 'numpy.int64'>'\n",
       "\twith 836483 stored elements in Compressed Sparse Row format>"
      ]
     },
     "execution_count": 81,
     "metadata": {},
     "output_type": "execute_result"
    }
   ],
   "source": [
    "from scipy.sparse import csr_matrix\n",
    "\n",
    "num_user = movie_df['user_id'].nunique()\n",
    "num_movie = movie_df['title'].nunique()\n",
    "\n",
    "print(num_user)\n",
    "print(num_movie)\n",
    "\n",
    "csr_data = csr_matrix((movie_df.counts, (movie_df.user_id, movie_df.title)), shape=(num_user, num_movie)) \n",
    "csr_data"
   ]
  },
  {
   "cell_type": "code",
   "execution_count": 82,
   "id": "b5b91090",
   "metadata": {},
   "outputs": [],
   "source": [
    "# movie_df.genre"
   ]
  },
  {
   "cell_type": "markdown",
   "id": "42c46560",
   "metadata": {},
   "source": [
    "### 5) als_model = AlternatingLeastSquares 모델을 직접 구성하여 훈련시켜 봅시다."
   ]
  },
  {
   "cell_type": "code",
   "execution_count": 83,
   "id": "8f1f11c6",
   "metadata": {},
   "outputs": [],
   "source": [
    "from implicit.als import AlternatingLeastSquares\n",
    "import os\n",
    "import numpy as np\n",
    "\n",
    "# implicit 라이브러리에서 권장하고 있는 부분입니다. 학습 내용과는 무관합니다.\n",
    "os.environ['OPENBLAS_NUM_THREADS']='1'\n",
    "os.environ['KMP_DUPLICATE_LIB_OK']='True'\n",
    "os.environ['MKL_NUM_THREADS']='1'"
   ]
  },
  {
   "cell_type": "code",
   "execution_count": 85,
   "id": "3f587e79",
   "metadata": {},
   "outputs": [],
   "source": [
    "# Implicit AlternatingLeastSquares 모델의 선언\n",
    "als_model = AlternatingLeastSquares(factors=200, \n",
    "                                    regularization=0.01, \n",
    "                                    use_gpu=False, \n",
    "                                    iterations=100, \n",
    "                                    dtype=np.float32)"
   ]
  },
  {
   "cell_type": "markdown",
   "id": "c7f01d3f",
   "metadata": {},
   "source": [
    "##### AlternatingLeastSquares 매개변수\n",
    "\n",
    "factors : 유저와 아이템의 벡터를 몇 차원으로 할 것인지\n",
    "\n",
    "regularization : 과적합을 방지하기 위해 정규화 값을 얼마나 사용할 것인지\n",
    "\n",
    "use_gpu : GPU를 사용할 것인지\n",
    "\n",
    "iterations : epochs와 같은 의미입니다. 데이터를 몇 번 반복해서 학습할 것인지\n",
    "\n",
    "\n",
    "factors, iterations를 늘릴수록 학습데이터를 잘 학습하지만 과적합의 우려가있음\n",
    "\n",
    "참고 : https://implicit.readthedocs.io/en/latest/als.html"
   ]
  },
  {
   "cell_type": "code",
   "execution_count": 86,
   "id": "de2724fe",
   "metadata": {},
   "outputs": [
    {
     "data": {
      "text/plain": [
       "<3628x6040 sparse matrix of type '<class 'numpy.int64'>'\n",
       "\twith 836483 stored elements in Compressed Sparse Column format>"
      ]
     },
     "execution_count": 86,
     "metadata": {},
     "output_type": "execute_result"
    }
   ],
   "source": [
    "# als 모델은 input으로 (item X user 꼴의 matrix를 받기 때문에 Transpose해줍니다.)\n",
    "csr_data_transpose = csr_data.T\n",
    "csr_data_transpose"
   ]
  },
  {
   "cell_type": "code",
   "execution_count": 87,
   "id": "47317f9e",
   "metadata": {},
   "outputs": [
    {
     "data": {
      "application/vnd.jupyter.widget-view+json": {
       "model_id": "060a050b74d24e9ca9c4c1f566a7d68e",
       "version_major": 2,
       "version_minor": 0
      },
      "text/plain": [
       "  0%|          | 0/100 [00:00<?, ?it/s]"
      ]
     },
     "metadata": {},
     "output_type": "display_data"
    }
   ],
   "source": [
    "# 모델 훈련\n",
    "als_model.fit(csr_data_transpose)"
   ]
  },
  {
   "cell_type": "code",
   "execution_count": null,
   "id": "de67d84a",
   "metadata": {},
   "outputs": [],
   "source": []
  },
  {
   "cell_type": "markdown",
   "id": "d42a8fef",
   "metadata": {},
   "source": [
    "### 6) 내가 선호하는 5가지 영화 중 하나와 그 외의 영화 하나를 골라 훈련된 모델이 예측한 나의 선호도를 파악해 보세요."
   ]
  },
  {
   "cell_type": "code",
   "execution_count": 88,
   "id": "69a39bf4",
   "metadata": {},
   "outputs": [],
   "source": [
    "# user_to_idx['kim']"
   ]
  },
  {
   "cell_type": "code",
   "execution_count": 89,
   "id": "c63d8f6f",
   "metadata": {
    "scrolled": true
   },
   "outputs": [],
   "source": [
    "# movie_to_idx['Slappy and the Stinkers (1998)']"
   ]
  },
  {
   "cell_type": "code",
   "execution_count": 90,
   "id": "f03c9d34",
   "metadata": {},
   "outputs": [],
   "source": [
    "kim, kim_movie = user_to_idx['kim'], movie_to_idx['My Fair Lady (1964)']\n",
    "kim_vector, movie_vector = als_model.user_factors[2219], als_model.item_factors[2]\n"
   ]
  },
  {
   "cell_type": "code",
   "execution_count": 91,
   "id": "397fd5b4",
   "metadata": {},
   "outputs": [
    {
     "data": {
      "text/plain": [
       "array([-0.20605858, -0.06283157,  0.03412718,  0.08855617, -0.03519141,\n",
       "       -0.28142884,  0.0495424 , -0.03593495, -0.04623179, -0.04344502,\n",
       "        0.08752853, -0.16924731, -0.0083573 ,  0.06572488,  0.012591  ,\n",
       "       -0.02700183,  0.11106641, -0.12316197,  0.17232835, -0.081228  ,\n",
       "       -0.01645732,  0.0386376 , -0.14772244,  0.18051946,  0.21584997,\n",
       "       -0.10533764, -0.09912565,  0.04822126, -0.15152925, -0.05778204,\n",
       "        0.00151217,  0.10190024,  0.10197041, -0.16941386, -0.19247784,\n",
       "        0.07332939, -0.06787756, -0.07265681,  0.01219254, -0.12365996,\n",
       "       -0.0689201 ,  0.09858631,  0.22968547,  0.04356759,  0.1369473 ,\n",
       "        0.25303757, -0.02208704, -0.13642153,  0.18216108,  0.04612209,\n",
       "       -0.01175025, -0.02385994, -0.06611299,  0.04574423,  0.14921741,\n",
       "        0.2937601 ,  0.08922273,  0.04743386,  0.05490373,  0.00932417,\n",
       "        0.06482359, -0.12206008,  0.02173217, -0.17360656, -0.0432691 ,\n",
       "        0.1031834 ,  0.10750628, -0.09254893,  0.10777434, -0.00534685,\n",
       "        0.06309517, -0.17828578, -0.12232766,  0.33202493, -0.12074681,\n",
       "       -0.02968258, -0.09081152, -0.09058267, -0.08115325, -0.02874017,\n",
       "       -0.10345291, -0.01745485, -0.01830827, -0.19786945, -0.06521321,\n",
       "        0.2610653 ,  0.04036993, -0.04182987,  0.05227519,  0.05935105,\n",
       "        0.11969125,  0.14514853,  0.13120192,  0.00290172, -0.00616804,\n",
       "        0.07640796, -0.09725337, -0.10797127,  0.07203975,  0.03839526,\n",
       "       -0.08089916,  0.23291145, -0.08970892,  0.04034501,  0.05541128,\n",
       "        0.00333442,  0.16447397,  0.05461013,  0.05126825,  0.04194353,\n",
       "        0.01748163,  0.11083817,  0.07690559, -0.21902564,  0.18116318,\n",
       "       -0.09569457, -0.1599764 , -0.11640309,  0.02574971, -0.02064893,\n",
       "       -0.09824751,  0.02181901, -0.22858046,  0.05907121, -0.05067975,\n",
       "        0.01160891, -0.02160275, -0.0477815 ,  0.08452462, -0.20364568,\n",
       "       -0.01901511,  0.03423889,  0.02092238,  0.11134262,  0.12118348,\n",
       "       -0.02861817,  0.11097251, -0.15913133,  0.12733087,  0.12024163,\n",
       "        0.05050994, -0.17635211, -0.16414233,  0.06280041,  0.10836323,\n",
       "        0.17764616,  0.0677697 , -0.13135314,  0.0235745 , -0.02909457,\n",
       "        0.00741616, -0.16028629,  0.25978833,  0.0882192 ,  0.00675165,\n",
       "        0.00958598, -0.0604751 ,  0.0975469 ,  0.11252651, -0.08419195,\n",
       "        0.0010935 , -0.12413768, -0.07510374,  0.12986818,  0.12897994,\n",
       "       -0.05126155,  0.03392816,  0.02856734, -0.12094975, -0.05813916,\n",
       "       -0.1343069 , -0.1128352 ,  0.0085904 ,  0.01980939, -0.1035703 ,\n",
       "        0.0896432 , -0.05313221,  0.10087746, -0.14125544, -0.07526463,\n",
       "        0.13085933, -0.13595751, -0.08415855, -0.16155197, -0.06552583,\n",
       "        0.02197057,  0.2778523 ,  0.0271391 ,  0.0932542 ,  0.10599542,\n",
       "        0.03720846, -0.00147438, -0.1955971 , -0.00531906, -0.05099468,\n",
       "        0.19067624, -0.07009724,  0.06378663, -0.00178216,  0.05007809],\n",
       "      dtype=float32)"
      ]
     },
     "execution_count": 91,
     "metadata": {},
     "output_type": "execute_result"
    }
   ],
   "source": [
    "kim_vector"
   ]
  },
  {
   "cell_type": "code",
   "execution_count": 92,
   "id": "1875811b",
   "metadata": {
    "scrolled": false
   },
   "outputs": [
    {
     "data": {
      "text/plain": [
       "array([-2.65011247e-02,  7.58511305e-05,  1.65028535e-02,  9.85199213e-03,\n",
       "       -1.24442074e-02, -4.66007404e-02,  9.95430071e-03,  3.48455063e-03,\n",
       "        1.23614809e-02, -1.33292388e-05,  2.41027065e-02, -2.78550182e-02,\n",
       "        1.49657028e-02,  1.05674518e-03, -5.59552293e-03,  2.12476356e-03,\n",
       "        2.60917656e-02, -2.29192083e-03,  4.72226739e-02, -1.61901303e-02,\n",
       "       -1.75444130e-02,  1.59168988e-02, -1.07138073e-02,  3.41061018e-02,\n",
       "        5.41984923e-02,  6.18128618e-03, -1.63871925e-02,  1.36130163e-02,\n",
       "       -1.92218814e-02, -2.28691623e-02, -3.09375580e-03,  3.58125009e-02,\n",
       "        1.52987977e-02, -3.99740972e-02, -4.63870391e-02,  1.85647197e-02,\n",
       "        6.61277073e-03, -1.05918739e-02, -2.21677823e-03, -2.18565725e-02,\n",
       "       -3.18605034e-03,  6.40293909e-03,  4.76524904e-02,  8.37355573e-03,\n",
       "        4.86708470e-02,  6.45036623e-02,  2.87482841e-03, -2.26217620e-02,\n",
       "        4.35157157e-02,  1.42362434e-02,  4.87814005e-03, -4.91093192e-03,\n",
       "       -1.94413736e-02,  1.51298866e-02,  3.22152562e-02,  6.59866706e-02,\n",
       "        7.53510231e-03,  2.00620554e-02,  2.57405248e-02, -3.22296494e-03,\n",
       "        9.83390585e-03, -6.98574586e-03,  9.81051568e-03, -3.82016636e-02,\n",
       "       -4.02153842e-03,  2.28099413e-02,  1.00815734e-02,  4.23601270e-03,\n",
       "        3.97778228e-02,  1.22044478e-02,  1.76571254e-02, -1.73405111e-02,\n",
       "        2.85567337e-04,  4.83996831e-02, -9.34817456e-03,  9.04167630e-03,\n",
       "       -2.33659372e-02, -4.20066621e-03, -7.92417768e-03,  1.54916570e-02,\n",
       "       -1.87212285e-02,  2.25915555e-02, -3.10497661e-03, -3.18877697e-02,\n",
       "        2.08560284e-03,  6.80141822e-02,  4.82992735e-03, -9.51565057e-03,\n",
       "        1.99822057e-02,  9.86717455e-03,  3.42627540e-02,  2.14646887e-02,\n",
       "        1.53558310e-02, -7.01469043e-03,  1.26634659e-02,  2.19922438e-02,\n",
       "       -2.97318678e-02,  1.25012808e-02,  1.97501685e-02,  1.43111972e-02,\n",
       "        7.06651993e-03,  3.67472693e-02,  2.63089803e-03,  2.48888992e-02,\n",
       "        1.81733500e-02,  1.06773721e-02,  2.83353478e-02,  3.52833197e-02,\n",
       "       -1.45127845e-03,  1.38547495e-02, -1.78856943e-02,  1.67019442e-02,\n",
       "        2.45618466e-02, -3.22864763e-02,  4.34458330e-02, -5.67196356e-03,\n",
       "       -4.42607375e-03,  4.19560308e-03, -1.56568177e-03,  5.25395735e-04,\n",
       "       -4.75576287e-03, -7.82572490e-04, -1.73608772e-02,  2.06293277e-02,\n",
       "       -2.61531840e-03,  2.37482809e-03,  7.18838593e-04, -5.06595755e-03,\n",
       "        2.35926872e-03, -3.95529866e-02, -1.27030937e-02,  1.70738567e-02,\n",
       "        1.36861764e-02,  2.16069184e-02,  4.91776913e-02, -8.29171855e-03,\n",
       "        9.27825365e-03,  8.20465735e-04,  2.00904850e-02,  2.77959369e-02,\n",
       "        4.84940922e-03, -2.67135259e-02, -1.85594074e-02,  1.94625761e-02,\n",
       "        3.57917547e-02,  5.17393276e-02,  1.50076700e-02, -2.71022320e-02,\n",
       "       -5.19973878e-03,  1.62714701e-02,  2.05197595e-02, -2.89515108e-02,\n",
       "        5.31248152e-02,  1.12883688e-03, -3.39205982e-03,  1.78760439e-02,\n",
       "       -4.35406063e-03,  1.72821563e-02,  3.67219821e-02, -1.15580102e-02,\n",
       "        1.46111678e-02, -1.96823645e-02, -1.32999895e-02,  1.74541492e-02,\n",
       "        1.47648258e-02, -7.34259002e-03,  2.65575969e-03,  2.19693799e-02,\n",
       "       -2.66973395e-02, -1.72792207e-02, -9.57667362e-03, -2.56097559e-02,\n",
       "        5.39071672e-03,  1.72268017e-03, -2.02273242e-02,  1.54610947e-02,\n",
       "        4.01562126e-03,  9.43456311e-03, -1.97662264e-02,  7.46113434e-03,\n",
       "        2.97869015e-02, -1.68705881e-02, -7.67489476e-03, -2.72792671e-02,\n",
       "       -9.20230243e-03,  2.53451522e-02,  5.33203110e-02,  2.68637240e-02,\n",
       "        2.19327081e-02,  8.77660420e-03,  1.09494003e-02,  1.56804007e-02,\n",
       "       -3.33858058e-02,  2.10966822e-03, -5.05121658e-03,  5.28084412e-02,\n",
       "        2.65637133e-03,  4.81063593e-03, -6.62875886e-04,  1.10793831e-02],\n",
       "      dtype=float32)"
      ]
     },
     "execution_count": 92,
     "metadata": {},
     "output_type": "execute_result"
    }
   ],
   "source": [
    "movie_vector"
   ]
  },
  {
   "cell_type": "code",
   "execution_count": 93,
   "id": "b0f75d51",
   "metadata": {},
   "outputs": [],
   "source": [
    "# kim_vector = kim_vector.to_numpy()\n",
    "# movie_vector = movie_vector.to_numpy()"
   ]
  },
  {
   "cell_type": "code",
   "execution_count": 94,
   "id": "c4ee39ef",
   "metadata": {},
   "outputs": [
    {
     "data": {
      "text/plain": [
       "((200,), (200,))"
      ]
     },
     "execution_count": 94,
     "metadata": {},
     "output_type": "execute_result"
    }
   ],
   "source": [
    "kim_vector.shape, movie_vector.shape"
   ]
  },
  {
   "cell_type": "code",
   "execution_count": 95,
   "id": "a89d8050",
   "metadata": {
    "scrolled": true
   },
   "outputs": [
    {
     "data": {
      "text/plain": [
       "0.44006246"
      ]
     },
     "execution_count": 95,
     "metadata": {},
     "output_type": "execute_result"
    }
   ],
   "source": [
    "#vector을 곱했을 때의 값 확인,내적하는 코드\n",
    "# 1이 나와야\n",
    "# np.dot(kim_vector, movie_vector.T)\n",
    "np.dot(kim_vector, movie_vector)"
   ]
  },
  {
   "cell_type": "code",
   "execution_count": 96,
   "id": "7bda8333",
   "metadata": {},
   "outputs": [
    {
     "name": "stdout",
     "output_type": "stream",
     "text": [
      "0.22403917\n"
     ]
    }
   ],
   "source": [
    "# Sound of Music, The (1965)을 가지고 선호도 예측 확인\n",
    "sound = movie_to_idx['Sound of Music, The (1965)']\n",
    "sound_vector = als_model.item_factors[sound]\n",
    "\n",
    "print(np.dot(kim_vector, sound_vector))"
   ]
  },
  {
   "cell_type": "code",
   "execution_count": 97,
   "id": "ec077509",
   "metadata": {},
   "outputs": [
    {
     "name": "stdout",
     "output_type": "stream",
     "text": [
      "0.0006694715\n"
     ]
    }
   ],
   "source": [
    "# toy story을 가지고 선호도 예측 확인\n",
    "toy_story = movie_to_idx['Toy Story (1995)']\n",
    "toy_story_vector = als_model.item_factors[toy_story]\n",
    "\n",
    "print(np.dot(kim_vector, toy_story_vector))"
   ]
  },
  {
   "cell_type": "code",
   "execution_count": 99,
   "id": "de36ef04",
   "metadata": {},
   "outputs": [
    {
     "name": "stdout",
     "output_type": "stream",
     "text": [
      "-0.018160684\n"
     ]
    }
   ],
   "source": [
    "# Matrix, The (1999) 을 가지고 선호도 예측 확인\n",
    "mat = movie_to_idx['Matrix, The (1999)']\n",
    "mat_vector = als_model.item_factors[mat]\n",
    "\n",
    "print(np.dot(kim_vector, mat_vector))"
   ]
  },
  {
   "cell_type": "markdown",
   "id": "956bc496",
   "metadata": {},
   "source": [
    "로맨스 영화가 많아서인지 \n",
    "\n",
    "토이스토리나 매트릭스의 경우는 많이 낮은 결과가 나온것을 볼 수 있었다"
   ]
  },
  {
   "cell_type": "markdown",
   "id": "018b27fc",
   "metadata": {},
   "source": [
    "### 7) 내가 좋아하는 영화와 비슷한 영화를 추천받아 봅시다."
   ]
  },
  {
   "cell_type": "code",
   "execution_count": 109,
   "id": "d307de0d",
   "metadata": {},
   "outputs": [
    {
     "data": {
      "text/plain": [
       "[(914, 0.9999999),\n",
       " (2932, 0.7599311),\n",
       " (2795, 0.7207423),\n",
       " (2798, 0.7197157),\n",
       " (1613, 0.71389264),\n",
       " (2152, 0.7026763),\n",
       " (2084, 0.6989927),\n",
       " (1609, 0.69603825),\n",
       " (2635, 0.6907355),\n",
       " (1043, 0.6888197),\n",
       " (1612, 0.687604),\n",
       " (2792, 0.68331474),\n",
       " (1614, 0.68091136),\n",
       " (1606, 0.6779424),\n",
       " (1101, 0.6750742)]"
      ]
     },
     "execution_count": 109,
     "metadata": {},
     "output_type": "execute_result"
    }
   ],
   "source": [
    "favorite_movie = 'My Fair Lady (1964)'\n",
    "movie_id = movies[movies['title']=='My Fair Lady (1964)']['movie_id']\n",
    "similar_movie = als_model.similar_items(movie_id.values[0], N=15)\n",
    "similar_movie"
   ]
  },
  {
   "cell_type": "code",
   "execution_count": 110,
   "id": "b2e9931b",
   "metadata": {},
   "outputs": [],
   "source": [
    "idx_to_movie = {v:k for k,v in movie_to_idx.items()}\n",
    "\n",
    "def get_similar_movie(movie_name: str):\n",
    "    movie_id = movie_to_idx[movie_name]\n",
    "    similar_movie = als_model.similar_items(movie_id)\n",
    "    similar_movie = [idx_to_movie[i[0]] for i in similar_movie]\n",
    "    return similar_movie"
   ]
  },
  {
   "cell_type": "markdown",
   "id": "6dbc1bf1",
   "metadata": {},
   "source": [
    "'My Fair Lady (1964)' , 'For the Moment (1994)' ,\\\n",
    "               'Promise, The (La Promesse) (1996)' ,'Match, The (1999)' ,'Slappy and the Stinkers (1998)'"
   ]
  },
  {
   "cell_type": "code",
   "execution_count": 111,
   "id": "0fdec616",
   "metadata": {},
   "outputs": [
    {
     "data": {
      "text/plain": [
       "['Slappy and the Stinkers (1998)',\n",
       " 'Thumbelina (1994)',\n",
       " 'King and I, The (1999)',\n",
       " 'Return of Jafar, The (1993)',\n",
       " 'Rugrats Movie, The (1998)',\n",
       " 'Theodore Rex (1995)',\n",
       " 'Swan Princess, The (1994)',\n",
       " 'Flipper (1996)',\n",
       " 'Pagemaster, The (1994)',\n",
       " \"Doug's 1st Movie (1999)\"]"
      ]
     },
     "execution_count": 111,
     "metadata": {},
     "output_type": "execute_result"
    }
   ],
   "source": [
    "get_similar_movie('Slappy and the Stinkers (1998)') "
   ]
  },
  {
   "cell_type": "code",
   "execution_count": 112,
   "id": "1bb5db71",
   "metadata": {},
   "outputs": [
    {
     "data": {
      "text/plain": [
       "['My Fair Lady (1964)',\n",
       " 'West Side Story (1961)',\n",
       " 'King and I, The (1956)',\n",
       " 'Gigi (1958)',\n",
       " 'Sound of Music, The (1965)',\n",
       " 'American in Paris, An (1951)',\n",
       " 'Slappy and the Stinkers (1998)',\n",
       " \"Singin' in the Rain (1952)\",\n",
       " 'Oliver! (1968)',\n",
       " 'South Pacific (1958)']"
      ]
     },
     "execution_count": 112,
     "metadata": {},
     "output_type": "execute_result"
    }
   ],
   "source": [
    "get_similar_movie('My Fair Lady (1964)') "
   ]
  },
  {
   "cell_type": "code",
   "execution_count": 113,
   "id": "22c0332e",
   "metadata": {},
   "outputs": [
    {
     "data": {
      "text/plain": [
       "['Match, The (1999)',\n",
       " 'Skipped Parts (2000)',\n",
       " 'All That Jazz (1979)',\n",
       " 'Cabaret (1972)',\n",
       " 'Battleship Potemkin, The (Bronenosets Potyomkin) (1925)',\n",
       " 'Third Miracle, The (1999)',\n",
       " \"Antonia's Line (Antonia) (1995)\",\n",
       " 'Dry Cleaning (Nettoyage à sec) (1997)',\n",
       " 'Soapdish (1991)',\n",
       " 'Excalibur (1981)']"
      ]
     },
     "execution_count": 113,
     "metadata": {},
     "output_type": "execute_result"
    }
   ],
   "source": [
    "get_similar_movie('Match, The (1999)') "
   ]
  },
  {
   "cell_type": "markdown",
   "id": "834adca1",
   "metadata": {},
   "source": [
    "### 8) 내가 가장 좋아할 만한 영화들을 추천받아 봅시다."
   ]
  },
  {
   "cell_type": "markdown",
   "id": "570d984a",
   "metadata": {},
   "source": [
    "AlternatingLeastSquares 클래스에 구현되어 있는 recommend 메서드를 통하여 좋아할 만한 아티스트를 추천받습니다. \n",
    "filter_already_liked_items 는 유저가 이미 평가한 아이템은 제외하는 Argument"
   ]
  },
  {
   "cell_type": "code",
   "execution_count": 114,
   "id": "6d76c45f",
   "metadata": {},
   "outputs": [
    {
     "data": {
      "text/plain": [
       "[(354, 0.2973019),\n",
       " (14, 0.22403914),\n",
       " (663, 0.18238977),\n",
       " (1355, 0.16978788),\n",
       " (1569, 0.114909455),\n",
       " (45, 0.11430973),\n",
       " (11, 0.11055977),\n",
       " (161, 0.10839946),\n",
       " (566, 0.099158324),\n",
       " (189, 0.09638801),\n",
       " (463, 0.09624775),\n",
       " (539, 0.09578668),\n",
       " (236, 0.09531787),\n",
       " (367, 0.09175623),\n",
       " (357, 0.0887589),\n",
       " (1844, 0.088627286),\n",
       " (486, 0.08802891),\n",
       " (369, 0.08782424),\n",
       " (360, 0.08746846),\n",
       " (47, 0.08563249)]"
      ]
     },
     "execution_count": 114,
     "metadata": {},
     "output_type": "execute_result"
    }
   ],
   "source": [
    "user = user_to_idx['kim']\n",
    "# recommend에서는 user*item CSR Matrix를 받습니다.\n",
    "movie_recommended = als_model.recommend(user, csr_data, N=20, filter_already_liked_items=True)\n",
    "movie_recommended"
   ]
  },
  {
   "cell_type": "code",
   "execution_count": 115,
   "id": "8607e61c",
   "metadata": {},
   "outputs": [
    {
     "data": {
      "text/plain": [
       "['West Side Story (1961)',\n",
       " 'Sound of Music, The (1965)',\n",
       " \"Singin' in the Rain (1952)\",\n",
       " 'King and I, The (1956)',\n",
       " 'American in Paris, An (1951)',\n",
       " 'Mary Poppins (1964)',\n",
       " 'Gigi (1958)',\n",
       " 'Graduate, The (1967)',\n",
       " \"Breakfast at Tiffany's (1961)\",\n",
       " 'Breakfast Club, The (1985)',\n",
       " 'Frequency (2000)',\n",
       " 'Mystery Science Theater 3000: The Movie (1996)',\n",
       " 'Speed (1994)',\n",
       " 'Grease (1978)',\n",
       " 'Sense and Sensibility (1995)',\n",
       " 'Oliver! (1968)',\n",
       " 'Remember the Titans (2000)',\n",
       " 'Witness (1985)',\n",
       " 'Dirty Dancing (1987)',\n",
       " 'To Kill a Mockingbird (1962)']"
      ]
     },
     "execution_count": 115,
     "metadata": {},
     "output_type": "execute_result"
    }
   ],
   "source": [
    "[idx_to_movie[i[0]] for i in movie_recommended]"
   ]
  },
  {
   "cell_type": "markdown",
   "id": "5fa6840f",
   "metadata": {},
   "source": [
    "뮤지컬이나 로맨스 등등의 영화추천이 많았다"
   ]
  },
  {
   "cell_type": "markdown",
   "id": "0df84432",
   "metadata": {},
   "source": [
    "이 추천에 기여한 정도 확인하기"
   ]
  },
  {
   "cell_type": "code",
   "execution_count": 118,
   "id": "251a83d4",
   "metadata": {},
   "outputs": [],
   "source": [
    "sound = movie_to_idx['Sound of Music, The (1965)']\n",
    "explain = als_model.explain(user, csr_data, itemid=sound)"
   ]
  },
  {
   "cell_type": "code",
   "execution_count": 119,
   "id": "2c19d8e0",
   "metadata": {
    "scrolled": true
   },
   "outputs": [
    {
     "data": {
      "text/plain": [
       "[('My Fair Lady (1964)', 0.20726437622161747),\n",
       " ('Promise, The (La Promesse) (1996)', 0.010868939318620225),\n",
       " ('Slappy and the Stinkers (1998)', 0.0023767778471358338),\n",
       " ('Match, The (1999)', 0.0016642050414196513),\n",
       " ('For the Moment (1994)', 0.0010068677968627046)]"
      ]
     },
     "execution_count": 119,
     "metadata": {},
     "output_type": "execute_result"
    }
   ],
   "source": [
    "[(idx_to_movie[i[0]], i[1]) for i in explain[1]]"
   ]
  },
  {
   "cell_type": "markdown",
   "id": "1c43c83f",
   "metadata": {},
   "source": [
    "sound of music를 추천해준데에 가장 큰 기여를 한것은 \n",
    "\n",
    "my fair lady였다"
   ]
  },
  {
   "cell_type": "markdown",
   "id": "6fb4b4bd",
   "metadata": {},
   "source": [
    "# 회고"
   ]
  },
  {
   "cell_type": "markdown",
   "id": "9e291a2a",
   "metadata": {},
   "source": [
    "- 이번 프로젝트에서 **어려웠던 점,**\n",
    "\n",
    "factors, iterations의 변경에 따라 학습이 더 잘될수도 있다고하고\n",
    "\n",
    "그럴경우 과적합이 발생한다고했는데\n",
    "\n",
    "1에 가까운 숫자가 나와도 과적합이 발생했을수도 있다는 생각이 들었다\n",
    "\n",
    "생각보다 높지 않은 수치에서도 영화추천결과가 나쁘지 않았었기도 하였다.\n",
    "\n",
    "그래서 여러값을 변경해보며 시도했었지만 수치가 제일 높은게 적합한것인지 판단이 되지 않아 적절한 선에서 멈춘것이 아쉬웠다.\n"
   ]
  },
  {
   "cell_type": "markdown",
   "id": "c13e94ca",
   "metadata": {},
   "source": [
    "- 프로젝트를 진행하면서 **알아낸 점** 혹은 **아직 모호한 점**.\n",
    "\n",
    "과적합이 발생했는지의 여부를 알수있는지 더 알아보아야 할것같다."
   ]
  },
  {
   "cell_type": "markdown",
   "id": "6049b81b",
   "metadata": {},
   "source": [
    "- 루브릭 평가 지표를 맞추기 위해 **시도한 것들**.\n",
    "\n",
    "처음에는 다양한 장르의 영화를 추가해 시도해보았고,\n",
    "\n",
    "두번째 시도에서는 장르를 통일시켜서 시도해보면서 \n",
    "\n",
    "비슷한 영화를 찾는지 알아보았다"
   ]
  },
  {
   "cell_type": "markdown",
   "id": "cfee76a9",
   "metadata": {},
   "source": [
    "- 만약에 루브릭 평가 관련 지표를 **달성 하지 못했을 때, 이유에 관한 추정**.낌\n",
    "\n",
    "유사도가 그리 높지 않은것이 마음에 걸리지만 과적합의 여부를 알 수 없었고 \n",
    "\n",
    "결과가 나쁘지 않다고 생각이 들었다."
   ]
  },
  {
   "cell_type": "markdown",
   "id": "e2756ce4",
   "metadata": {},
   "source": [
    "- **자기 다짐**\n",
    "\n",
    "과적합의 여부를 알 수 있는지 더 알아보면 좋을것 같다\n"
   ]
  },
  {
   "cell_type": "code",
   "execution_count": null,
   "id": "93310aae",
   "metadata": {},
   "outputs": [],
   "source": []
  }
 ],
 "metadata": {
  "kernelspec": {
   "display_name": "Python 3 (ipykernel)",
   "language": "python",
   "name": "python3"
  },
  "language_info": {
   "codemirror_mode": {
    "name": "ipython",
    "version": 3
   },
   "file_extension": ".py",
   "mimetype": "text/x-python",
   "name": "python",
   "nbconvert_exporter": "python",
   "pygments_lexer": "ipython3",
   "version": "3.9.7"
  }
 },
 "nbformat": 4,
 "nbformat_minor": 5
}
