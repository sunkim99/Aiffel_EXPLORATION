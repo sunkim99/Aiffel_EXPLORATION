{
 "cells": [
  {
   "cell_type": "markdown",
   "id": "c8075cf8",
   "metadata": {},
   "source": [
    "# 10. 번역기를 만들어보자"
   ]
  },
  {
   "cell_type": "markdown",
   "id": "21715e76",
   "metadata": {},
   "source": [
    "## 10-10. 프로젝트 : 단어 Level로 번역기 업그레이드하기"
   ]
  },
  {
   "cell_type": "code",
   "execution_count": 1,
   "id": "b7f55673",
   "metadata": {},
   "outputs": [
    {
     "name": "stdout",
     "output_type": "stream",
     "text": [
      "2.6.0\n"
     ]
    }
   ],
   "source": [
    "import tensorflow as tf\n",
    "\n",
    "print(tf.__version__)"
   ]
  },
  {
   "cell_type": "code",
   "execution_count": 2,
   "id": "dad648c3",
   "metadata": {},
   "outputs": [],
   "source": [
    "import pandas as pd\n",
    "from tensorflow.keras.preprocessing.text import Tokenizer\n",
    "from tensorflow.keras.preprocessing.sequence import pad_sequences\n",
    "from tensorflow.keras.utils import to_categorical\n",
    "import numpy as np\n",
    "import os\n",
    "import re"
   ]
  },
  {
   "cell_type": "code",
   "execution_count": 3,
   "id": "37b50f24",
   "metadata": {},
   "outputs": [
    {
     "name": "stdout",
     "output_type": "stream",
     "text": [
      "전체 샘플의 수 : 197463\n"
     ]
    },
    {
     "data": {
      "text/html": [
       "<div>\n",
       "<style scoped>\n",
       "    .dataframe tbody tr th:only-of-type {\n",
       "        vertical-align: middle;\n",
       "    }\n",
       "\n",
       "    .dataframe tbody tr th {\n",
       "        vertical-align: top;\n",
       "    }\n",
       "\n",
       "    .dataframe thead th {\n",
       "        text-align: right;\n",
       "    }\n",
       "</style>\n",
       "<table border=\"1\" class=\"dataframe\">\n",
       "  <thead>\n",
       "    <tr style=\"text-align: right;\">\n",
       "      <th></th>\n",
       "      <th>eng</th>\n",
       "      <th>fra</th>\n",
       "      <th>cc</th>\n",
       "    </tr>\n",
       "  </thead>\n",
       "  <tbody>\n",
       "    <tr>\n",
       "      <th>84152</th>\n",
       "      <td>What were they doing here?</td>\n",
       "      <td>Que faisaient-ils ici ?</td>\n",
       "      <td>CC-BY 2.0 (France) Attribution: tatoeba.org #2...</td>\n",
       "    </tr>\n",
       "    <tr>\n",
       "      <th>102507</th>\n",
       "      <td>I don't want to run into Tom.</td>\n",
       "      <td>Je n'ai pas envie de croiser Tom.</td>\n",
       "      <td>CC-BY 2.0 (France) Attribution: tatoeba.org #2...</td>\n",
       "    </tr>\n",
       "    <tr>\n",
       "      <th>181813</th>\n",
       "      <td>You should assume email messages aren't private.</td>\n",
       "      <td>On devrait supposer que les courriels ne sont ...</td>\n",
       "      <td>CC-BY 2.0 (France) Attribution: tatoeba.org #7...</td>\n",
       "    </tr>\n",
       "    <tr>\n",
       "      <th>13627</th>\n",
       "      <td>God sent a sign.</td>\n",
       "      <td>Dieu envoya un signe.</td>\n",
       "      <td>CC-BY 2.0 (France) Attribution: tatoeba.org #1...</td>\n",
       "    </tr>\n",
       "    <tr>\n",
       "      <th>42080</th>\n",
       "      <td>I almost believe you.</td>\n",
       "      <td>Je te crois presque.</td>\n",
       "      <td>CC-BY 2.0 (France) Attribution: tatoeba.org #2...</td>\n",
       "    </tr>\n",
       "  </tbody>\n",
       "</table>\n",
       "</div>"
      ],
      "text/plain": [
       "                                                     eng  \\\n",
       "84152                         What were they doing here?   \n",
       "102507                     I don't want to run into Tom.   \n",
       "181813  You should assume email messages aren't private.   \n",
       "13627                                   God sent a sign.   \n",
       "42080                              I almost believe you.   \n",
       "\n",
       "                                                      fra  \\\n",
       "84152                             Que faisaient-ils ici ?   \n",
       "102507                  Je n'ai pas envie de croiser Tom.   \n",
       "181813  On devrait supposer que les courriels ne sont ...   \n",
       "13627                               Dieu envoya un signe.   \n",
       "42080                                Je te crois presque.   \n",
       "\n",
       "                                                       cc  \n",
       "84152   CC-BY 2.0 (France) Attribution: tatoeba.org #2...  \n",
       "102507  CC-BY 2.0 (France) Attribution: tatoeba.org #2...  \n",
       "181813  CC-BY 2.0 (France) Attribution: tatoeba.org #7...  \n",
       "13627   CC-BY 2.0 (France) Attribution: tatoeba.org #1...  \n",
       "42080   CC-BY 2.0 (France) Attribution: tatoeba.org #2...  "
      ]
     },
     "execution_count": 3,
     "metadata": {},
     "output_type": "execute_result"
    }
   ],
   "source": [
    "file_path = os.getenv('HOME')+'/aiffel/translator_seq2seq/data/fra.txt'\n",
    "lines = pd.read_csv(file_path, names=['eng', 'fra', 'cc'], sep='\\t')\n",
    "print('전체 샘플의 수 :',len(lines))\n",
    "lines.sample(5) #샘플 5개 출력"
   ]
  },
  {
   "cell_type": "code",
   "execution_count": 4,
   "id": "d8447a9c",
   "metadata": {},
   "outputs": [
    {
     "data": {
      "text/html": [
       "<div>\n",
       "<style scoped>\n",
       "    .dataframe tbody tr th:only-of-type {\n",
       "        vertical-align: middle;\n",
       "    }\n",
       "\n",
       "    .dataframe tbody tr th {\n",
       "        vertical-align: top;\n",
       "    }\n",
       "\n",
       "    .dataframe thead th {\n",
       "        text-align: right;\n",
       "    }\n",
       "</style>\n",
       "<table border=\"1\" class=\"dataframe\">\n",
       "  <thead>\n",
       "    <tr style=\"text-align: right;\">\n",
       "      <th></th>\n",
       "      <th>eng</th>\n",
       "      <th>fra</th>\n",
       "    </tr>\n",
       "  </thead>\n",
       "  <tbody>\n",
       "    <tr>\n",
       "      <th>15620</th>\n",
       "      <td>She worked hard.</td>\n",
       "      <td>Elle a travaillé dur.</td>\n",
       "    </tr>\n",
       "    <tr>\n",
       "      <th>8690</th>\n",
       "      <td>They're quiet.</td>\n",
       "      <td>Ils sont silencieux.</td>\n",
       "    </tr>\n",
       "    <tr>\n",
       "      <th>23944</th>\n",
       "      <td>I have a bad cold.</td>\n",
       "      <td>J'ai un mauvais rhume.</td>\n",
       "    </tr>\n",
       "    <tr>\n",
       "      <th>5431</th>\n",
       "      <td>Is it broken?</td>\n",
       "      <td>Est-ce brisé ?</td>\n",
       "    </tr>\n",
       "    <tr>\n",
       "      <th>9666</th>\n",
       "      <td>Both are alive.</td>\n",
       "      <td>Ils sont tous deux vivants.</td>\n",
       "    </tr>\n",
       "    <tr>\n",
       "      <th>25127</th>\n",
       "      <td>It's a grim world.</td>\n",
       "      <td>C'est un bien triste monde.</td>\n",
       "    </tr>\n",
       "    <tr>\n",
       "      <th>13620</th>\n",
       "      <td>Go to the store.</td>\n",
       "      <td>Va au magasin !</td>\n",
       "    </tr>\n",
       "    <tr>\n",
       "      <th>11888</th>\n",
       "      <td>They are muddy.</td>\n",
       "      <td>Ils sont boueux.</td>\n",
       "    </tr>\n",
       "    <tr>\n",
       "      <th>28917</th>\n",
       "      <td>Get out of the van.</td>\n",
       "      <td>Sors de la camionnette !</td>\n",
       "    </tr>\n",
       "    <tr>\n",
       "      <th>23789</th>\n",
       "      <td>I didn't order it.</td>\n",
       "      <td>Je ne l'ai pas commandé.</td>\n",
       "    </tr>\n",
       "  </tbody>\n",
       "</table>\n",
       "</div>"
      ],
      "text/plain": [
       "                       eng                          fra\n",
       "15620     She worked hard.        Elle a travaillé dur.\n",
       "8690        They're quiet.         Ils sont silencieux.\n",
       "23944   I have a bad cold.       J'ai un mauvais rhume.\n",
       "5431         Is it broken?               Est-ce brisé ?\n",
       "9666       Both are alive.  Ils sont tous deux vivants.\n",
       "25127   It's a grim world.  C'est un bien triste monde.\n",
       "13620     Go to the store.              Va au magasin !\n",
       "11888      They are muddy.             Ils sont boueux.\n",
       "28917  Get out of the van.     Sors de la camionnette !\n",
       "23789   I didn't order it.     Je ne l'ai pas commandé."
      ]
     },
     "execution_count": 4,
     "metadata": {},
     "output_type": "execute_result"
    }
   ],
   "source": [
    "lines = lines[['eng', 'fra']][:33000] # 33,000개 샘플 사용\n",
    "lines.sample(10)"
   ]
  },
  {
   "cell_type": "code",
   "execution_count": 5,
   "id": "c0ed0d36",
   "metadata": {},
   "outputs": [
    {
     "name": "stdout",
     "output_type": "stream",
     "text": [
      "전체 샘플의 수 : 33000\n"
     ]
    },
    {
     "data": {
      "text/html": [
       "<div>\n",
       "<style scoped>\n",
       "    .dataframe tbody tr th:only-of-type {\n",
       "        vertical-align: middle;\n",
       "    }\n",
       "\n",
       "    .dataframe tbody tr th {\n",
       "        vertical-align: top;\n",
       "    }\n",
       "\n",
       "    .dataframe thead th {\n",
       "        text-align: right;\n",
       "    }\n",
       "</style>\n",
       "<table border=\"1\" class=\"dataframe\">\n",
       "  <thead>\n",
       "    <tr style=\"text-align: right;\">\n",
       "      <th></th>\n",
       "      <th>eng</th>\n",
       "      <th>fra</th>\n",
       "    </tr>\n",
       "  </thead>\n",
       "  <tbody>\n",
       "    <tr>\n",
       "      <th>16861</th>\n",
       "      <td>What drives you?</td>\n",
       "      <td>\\t Qu'est-ce qui vous mène ? \\n</td>\n",
       "    </tr>\n",
       "    <tr>\n",
       "      <th>32693</th>\n",
       "      <td>Tom isn't a doctor.</td>\n",
       "      <td>\\t Tom n'est pas médecin. \\n</td>\n",
       "    </tr>\n",
       "    <tr>\n",
       "      <th>27765</th>\n",
       "      <td>You can come home.</td>\n",
       "      <td>\\t Vous pouvez venir à la maison. \\n</td>\n",
       "    </tr>\n",
       "    <tr>\n",
       "      <th>20312</th>\n",
       "      <td>She rode a camel.</td>\n",
       "      <td>\\t Elle est montée sur un chameau. \\n</td>\n",
       "    </tr>\n",
       "    <tr>\n",
       "      <th>19243</th>\n",
       "      <td>I won't eat this.</td>\n",
       "      <td>\\t Je ne vais pas manger ça. \\n</td>\n",
       "    </tr>\n",
       "  </tbody>\n",
       "</table>\n",
       "</div>"
      ],
      "text/plain": [
       "                       eng                                    fra\n",
       "16861     What drives you?        \\t Qu'est-ce qui vous mène ? \\n\n",
       "32693  Tom isn't a doctor.           \\t Tom n'est pas médecin. \\n\n",
       "27765   You can come home.   \\t Vous pouvez venir à la maison. \\n\n",
       "20312    She rode a camel.  \\t Elle est montée sur un chameau. \\n\n",
       "19243    I won't eat this.        \\t Je ne vais pas manger ça. \\n"
      ]
     },
     "execution_count": 5,
     "metadata": {},
     "output_type": "execute_result"
    }
   ],
   "source": [
    "# 시작 토큰과 종료 토큰 추가\n",
    "sos_token = '\\t'\n",
    "eos_token = '\\n'\n",
    "lines.fra = lines.fra.apply(lambda x : '\\t '+ x + ' \\n')\n",
    "print('전체 샘플의 수 :',len(lines))\n",
    "lines.sample(5)"
   ]
  },
  {
   "cell_type": "markdown",
   "id": "f4365507",
   "metadata": {},
   "source": [
    "정규표현식 먼저 해주고 (?><!@#$%^&*() 분리하고\n",
    "\n",
    "그다음에 토크나이저해주기"
   ]
  },
  {
   "cell_type": "markdown",
   "id": "af92c0d9",
   "metadata": {},
   "source": [
    "## Step 1. 정제, 정규화, 전처리(영어, 프랑스어 모두)\n",
    "\n",
    "#### 1. 구두점을 단어와 분리하기\n",
    "#### 2. 소문자로 바꾸기\n",
    "#### 3. 띄어쓰기 단위로 토큰 수행하기"
   ]
  },
  {
   "cell_type": "markdown",
   "id": "91affbd6",
   "metadata": {},
   "source": [
    "## Step 2. 디코더의 문장에 시작 토큰과 종료 토큰을 넣어주세요.\n"
   ]
  },
  {
   "cell_type": "markdown",
   "id": "2ea6845f",
   "metadata": {},
   "source": [
    "## Step 3. 케라스의 토크나이저로 텍스트를 숫자로 바꿔보세요."
   ]
  },
  {
   "cell_type": "code",
   "execution_count": 6,
   "id": "d6f55c4a",
   "metadata": {},
   "outputs": [],
   "source": [
    "PUNCTUATION_REGEX = r'[\\!\\\"\\#\\$\\%\\&\\(\\)\\*\\+\\,\\-\\.\\/\\:\\;\\<\\=\\>\\?\\@\\[\\\\\\]\\^\\_\\`\\{\\|\\}\\~]'\n",
    "#정규표현식 할때 r은 붙여주자\n",
    "\n",
    "lines[\"eng\"] = lines[\"eng\"].str.replace(PUNCTUATION_REGEX, r' \\g<0> ', regex=True)\n",
    "lines[\"fra\"] = lines[\"fra\"].str.replace(PUNCTUATION_REGEX, r' \\g<0> ', regex=True)"
   ]
  },
  {
   "cell_type": "code",
   "execution_count": 7,
   "id": "6ff15260",
   "metadata": {},
   "outputs": [
    {
     "data": {
      "text/plain": [
       "[[25, 1], [25, 1], [25, 1]]"
      ]
     },
     "execution_count": 7,
     "metadata": {},
     "output_type": "execute_result"
    }
   ],
   "source": [
    "eng_tokenizer = Tokenizer(filters='\\t\\n',\n",
    "                          split= ' ',\n",
    "                          char_level=False,\n",
    "                          lower = True)             # 문자 단위로 Tokenizer를 생성합니다. char_level = False  \n",
    "eng_tokenizer.fit_on_texts(lines.eng)               #\n",
    "input_text = eng_tokenizer.texts_to_sequences(lines.eng)    # 단어를 숫자값 인덱스로 변환하여 저장\n",
    "input_text[:3]"
   ]
  },
  {
   "cell_type": "code",
   "execution_count": 8,
   "id": "10d71642",
   "metadata": {},
   "outputs": [
    {
     "data": {
      "text/plain": [
       "list"
      ]
     },
     "execution_count": 8,
     "metadata": {},
     "output_type": "execute_result"
    }
   ],
   "source": [
    "type(input_text)"
   ]
  },
  {
   "cell_type": "code",
   "execution_count": 9,
   "id": "43354616",
   "metadata": {},
   "outputs": [
    {
     "data": {
      "text/plain": [
       "'Are you the boss ? '"
      ]
     },
     "execution_count": 9,
     "metadata": {},
     "output_type": "execute_result"
    }
   ],
   "source": [
    "lines['eng'][17459]"
   ]
  },
  {
   "cell_type": "code",
   "execution_count": 10,
   "id": "174a5c82",
   "metadata": {},
   "outputs": [
    {
     "data": {
      "text/plain": [
       "[16, 4, 10, 467, 3]"
      ]
     },
     "execution_count": 10,
     "metadata": {},
     "output_type": "execute_result"
    }
   ],
   "source": [
    "input_text[17459]"
   ]
  },
  {
   "cell_type": "code",
   "execution_count": 11,
   "id": "b03e73c7",
   "metadata": {},
   "outputs": [],
   "source": [
    "input_text_1 = eng_tokenizer.sequences_to_texts(input_text)   # 시퀀스를 text로 변환"
   ]
  },
  {
   "cell_type": "code",
   "execution_count": 12,
   "id": "bd2d934d",
   "metadata": {},
   "outputs": [
    {
     "data": {
      "text/plain": [
       "'are you the boss ?'"
      ]
     },
     "execution_count": 12,
     "metadata": {},
     "output_type": "execute_result"
    }
   ],
   "source": [
    "input_text_1[17459]"
   ]
  },
  {
   "cell_type": "code",
   "execution_count": 13,
   "id": "e17f5488",
   "metadata": {},
   "outputs": [],
   "source": [
    "PUNCTUATION_REGEX = r'[\\!\\\"\\#\\$\\%\\&\\(\\)\\*\\+\\,\\-\\.\\/\\:\\;\\<\\=\\>\\?\\@\\[\\\\\\]\\^\\_\\`\\{\\|\\}\\~]'\n",
    "#정규표현식 할때 r은 붙여주자\n",
    "\n",
    "lines[\"fra\"] = lines[\"fra\"].str.replace(PUNCTUATION_REGEX, r' \\g<0> ', regex=True)"
   ]
  },
  {
   "cell_type": "code",
   "execution_count": 14,
   "id": "9ccb3e58",
   "metadata": {},
   "outputs": [
    {
     "data": {
      "text/plain": [
       "[[1, 64, 8, 2], [1, 356, 3, 2], [1, 26, 504, 8, 2]]"
      ]
     },
     "execution_count": 14,
     "metadata": {},
     "output_type": "execute_result"
    }
   ],
   "source": [
    "fra_tokenizer = Tokenizer(filters='',\n",
    "                          split= ' ',\n",
    "                          char_level=False,\n",
    "                          lower = True)              # 문자 단위로 Tokenizer를 생성합니다. \n",
    "fra_tokenizer.fit_on_texts(lines.fra)                \n",
    "target_text = fra_tokenizer.texts_to_sequences(lines.fra)     # 단어를 숫자값 인덱스로 변환하여 저장\n",
    "target_text[:3]"
   ]
  },
  {
   "cell_type": "code",
   "execution_count": 15,
   "id": "c403a0ac",
   "metadata": {},
   "outputs": [
    {
     "data": {
      "text/plain": [
       "'\\t Non  ,   tu ne peux pas  .   \\n'"
      ]
     },
     "execution_count": 15,
     "metadata": {},
     "output_type": "execute_result"
    }
   ],
   "source": [
    "lines['fra'][8303]"
   ]
  },
  {
   "cell_type": "code",
   "execution_count": 16,
   "id": "1f8b13dc",
   "metadata": {},
   "outputs": [
    {
     "data": {
      "text/plain": [
       "[1, 191, 36, 18, 16, 60, 11, 3, 2]"
      ]
     },
     "execution_count": 16,
     "metadata": {},
     "output_type": "execute_result"
    }
   ],
   "source": [
    "target_text[8303]"
   ]
  },
  {
   "cell_type": "code",
   "execution_count": 17,
   "id": "fa7efb01",
   "metadata": {},
   "outputs": [],
   "source": [
    "target_text_1 = fra_tokenizer.sequences_to_texts(target_text)  "
   ]
  },
  {
   "cell_type": "code",
   "execution_count": 18,
   "id": "cb8eb5fa",
   "metadata": {},
   "outputs": [
    {
     "data": {
      "text/plain": [
       "'\\t non , tu ne peux pas . \\n'"
      ]
     },
     "execution_count": 18,
     "metadata": {},
     "output_type": "execute_result"
    }
   ],
   "source": [
    "target_text_1[8303]"
   ]
  },
  {
   "cell_type": "code",
   "execution_count": 19,
   "id": "349412f6",
   "metadata": {},
   "outputs": [
    {
     "data": {
      "text/plain": [
       "'\\t filez ! \\n'"
      ]
     },
     "execution_count": 19,
     "metadata": {},
     "output_type": "execute_result"
    }
   ],
   "source": [
    "target_text_1[10]"
   ]
  },
  {
   "cell_type": "code",
   "execution_count": 20,
   "id": "9b2346da",
   "metadata": {},
   "outputs": [
    {
     "data": {
      "text/plain": [
       "\"\\t comme c'est gentil ! \\n\""
      ]
     },
     "execution_count": 20,
     "metadata": {},
     "output_type": "execute_result"
    }
   ],
   "source": [
    "target_text_1[594]"
   ]
  },
  {
   "cell_type": "code",
   "execution_count": 21,
   "id": "9cc0c6bb",
   "metadata": {},
   "outputs": [
    {
     "data": {
      "text/plain": [
       "'\\t ça alors\\u202f ! \\n'"
      ]
     },
     "execution_count": 21,
     "metadata": {},
     "output_type": "execute_result"
    }
   ],
   "source": [
    "target_text_1[23]"
   ]
  },
  {
   "cell_type": "code",
   "execution_count": 22,
   "id": "8a2de6ce",
   "metadata": {},
   "outputs": [
    {
     "data": {
      "text/plain": [
       "'\\t attendez . \\n'"
      ]
     },
     "execution_count": 22,
     "metadata": {},
     "output_type": "execute_result"
    }
   ],
   "source": [
    "target_text_1[40]"
   ]
  },
  {
   "cell_type": "code",
   "execution_count": 23,
   "id": "40a0ed00",
   "metadata": {},
   "outputs": [
    {
     "name": "stdout",
     "output_type": "stream",
     "text": [
      "영어 단어장의 크기 : 4810\n",
      "프랑스어 단어장의 크기 : 10021\n"
     ]
    }
   ],
   "source": [
    "eng_vocab_size = len(eng_tokenizer.word_index) + 1\n",
    "fra_vocab_size = len(fra_tokenizer.word_index) + 1\n",
    "print('영어 단어장의 크기 :', eng_vocab_size)\n",
    "print('프랑스어 단어장의 크기 :', fra_vocab_size)"
   ]
  },
  {
   "cell_type": "code",
   "execution_count": 24,
   "id": "3ae80406",
   "metadata": {},
   "outputs": [
    {
     "name": "stdout",
     "output_type": "stream",
     "text": [
      "영어 시퀀스의 최대 길이 8\n",
      "프랑스어 시퀀스의 최대 길이 16\n"
     ]
    }
   ],
   "source": [
    "max_eng_seq_len = max([len(line) for line in input_text])\n",
    "max_fra_seq_len = max([len(line) for line in target_text])\n",
    "print('영어 시퀀스의 최대 길이', max_eng_seq_len)\n",
    "print('프랑스어 시퀀스의 최대 길이', max_fra_seq_len)"
   ]
  },
  {
   "cell_type": "code",
   "execution_count": 25,
   "id": "e9967d2a",
   "metadata": {},
   "outputs": [
    {
     "name": "stdout",
     "output_type": "stream",
     "text": [
      "전체 샘플의 수 : 33000\n",
      "영어 단어장의 크기 : 4810\n",
      "프랑스어 단어장의 크기 : 10021\n",
      "영어 시퀀스의 최대 길이 8\n",
      "프랑스어 시퀀스의 최대 길이 16\n"
     ]
    }
   ],
   "source": [
    "print('전체 샘플의 수 :',len(lines))\n",
    "print('영어 단어장의 크기 :', eng_vocab_size)\n",
    "print('프랑스어 단어장의 크기 :', fra_vocab_size)\n",
    "print('영어 시퀀스의 최대 길이', max_eng_seq_len)\n",
    "print('프랑스어 시퀀스의 최대 길이', max_fra_seq_len)"
   ]
  },
  {
   "cell_type": "code",
   "execution_count": 26,
   "id": "d78fb5ef",
   "metadata": {},
   "outputs": [],
   "source": [
    "encoder_input = input_text\n",
    "# 종료 토큰 제거\n",
    "decoder_input = [[ char for char in line if char != fra_tokenizer.word_index[eos_token] ] for line in target_text] \n",
    "# 시작 토큰 제거\n",
    "decoder_target = [[ char for char in line if char != fra_tokenizer.word_index[sos_token] ] for line in target_text]"
   ]
  },
  {
   "cell_type": "code",
   "execution_count": 27,
   "id": "1a18edbd",
   "metadata": {},
   "outputs": [
    {
     "name": "stdout",
     "output_type": "stream",
     "text": [
      "[[1, 64, 8], [1, 356, 3], [1, 26, 504, 8]]\n",
      "[[64, 8, 2], [356, 3, 2], [26, 504, 8, 2]]\n"
     ]
    }
   ],
   "source": [
    "print(decoder_input[:3])\n",
    "print(decoder_target[:3])"
   ]
  },
  {
   "cell_type": "code",
   "execution_count": 28,
   "id": "d0fdc153",
   "metadata": {},
   "outputs": [
    {
     "name": "stdout",
     "output_type": "stream",
     "text": [
      "영어 데이터의 크기(shape) : (33000, 8)\n",
      "프랑스어 입력데이터의 크기(shape) : (33000, 16)\n",
      "프랑스어 출력데이터의 크기(shape) : (33000, 16)\n"
     ]
    }
   ],
   "source": [
    "encoder_input = pad_sequences(encoder_input, maxlen = max_eng_seq_len, padding='post')\n",
    "decoder_input = pad_sequences(decoder_input, maxlen = max_fra_seq_len, padding='post')\n",
    "decoder_target = pad_sequences(decoder_target, maxlen = max_fra_seq_len, padding='post')\n",
    "print('영어 데이터의 크기(shape) :',np.shape(encoder_input))\n",
    "print('프랑스어 입력데이터의 크기(shape) :',np.shape(decoder_input))\n",
    "print('프랑스어 출력데이터의 크기(shape) :',np.shape(decoder_target))"
   ]
  },
  {
   "cell_type": "code",
   "execution_count": 29,
   "id": "4a90b6ff",
   "metadata": {},
   "outputs": [
    {
     "name": "stdout",
     "output_type": "stream",
     "text": [
      "[25  1  0  0  0  0  0  0]\n"
     ]
    }
   ],
   "source": [
    "print(encoder_input[0])"
   ]
  },
  {
   "cell_type": "code",
   "execution_count": 30,
   "id": "160001c7",
   "metadata": {},
   "outputs": [],
   "source": [
    "# # 원핫인코딩 \n",
    "\n",
    "# encoder_input = to_categorical(encoder_input)\n",
    "# decoder_input = to_categorical(decoder_input)\n",
    "# decoder_target = to_categorical(decoder_target)\n",
    "# print('영어 데이터의 크기(shape) :',np.shape(encoder_input))\n",
    "# print('프랑스어 입력데이터의 크기(shape) :',np.shape(decoder_input))\n",
    "# print('프랑스어 출력데이터의 크기(shape) :',np.shape(decoder_target))"
   ]
  },
  {
   "cell_type": "code",
   "execution_count": 31,
   "id": "2aaf953a",
   "metadata": {},
   "outputs": [
    {
     "name": "stdout",
     "output_type": "stream",
     "text": [
      "영어 학습데이터의 크기(shape) : (33000, 8)\n",
      "프랑스어 학습 입력데이터의 크기(shape) : (33000, 16)\n",
      "프랑스어 학습 출력데이터의 크기(shape) : (33000, 16)\n"
     ]
    }
   ],
   "source": [
    "n_of_val = 3000\n",
    "\n",
    "encoder_input_train = encoder_input[:-n_of_val]\n",
    "decoder_input_train = decoder_input[:-n_of_val]\n",
    "decoder_target_train = decoder_target[:-n_of_val]\n",
    "\n",
    "encoder_input_test = encoder_input[-n_of_val:]\n",
    "decoder_input_test = decoder_input[-n_of_val:]\n",
    "decoder_target_test = decoder_target[-n_of_val:]\n",
    "\n",
    "print('영어 학습데이터의 크기(shape) :',np.shape(encoder_input))\n",
    "print('프랑스어 학습 입력데이터의 크기(shape) :',np.shape(decoder_input))\n",
    "print('프랑스어 학습 출력데이터의 크기(shape) :',np.shape(decoder_target))"
   ]
  },
  {
   "cell_type": "markdown",
   "id": "ddd2eacf",
   "metadata": {},
   "source": [
    "## Step 4. 임베딩 층(Embedding layer) 사용하기"
   ]
  },
  {
   "cell_type": "markdown",
   "id": "6f75f3f2",
   "metadata": {},
   "source": [
    "인코더 설계"
   ]
  },
  {
   "cell_type": "code",
   "execution_count": 32,
   "id": "bd794ae4",
   "metadata": {},
   "outputs": [],
   "source": [
    "from tensorflow.keras.layers import Input, LSTM, Embedding, Dense, Masking\n",
    "from tensorflow.keras.models import Model\n",
    "\n",
    "hidden_state = 256\n",
    "encoder_inputs = Input(shape=(None,))\n",
    "enc_emb =  Embedding(eng_vocab_size, 128)(encoder_inputs)  # 단어장의 크기, 임베딩 벡터의 차원\n",
    "enc_masking= Masking(mask_value=0.0)(enc_emb)#######\n",
    "encoder_lstm = LSTM(hidden_state, return_state=True) #hidden state의 크기\n",
    "encoder_outputs, state_h, state_c = encoder_lstm(enc_masking)#### enc_emb\n",
    "\n",
    "encoder_states = [state_h, state_c]"
   ]
  },
  {
   "cell_type": "markdown",
   "id": "4a68eba3",
   "metadata": {},
   "source": [
    "디코더 설계"
   ]
  },
  {
   "cell_type": "code",
   "execution_count": 33,
   "id": "193f8ff8",
   "metadata": {},
   "outputs": [],
   "source": [
    "from keras import regularizers\n",
    "# from keras.regularizers import l2\n",
    "\n",
    "hidden_state = 256\n",
    "\n",
    "decoder_inputs = Input(shape=(None, ))\n",
    "dec_emb =  Embedding(fra_vocab_size, 128)(decoder_inputs) \n",
    "decoder_masking = Masking(mask_value=0.0)(dec_emb)\n",
    "decoder_lstm = LSTM(units = 256, return_sequences = True, return_state=True)\n",
    "#                     kernel_regularizer=l2(0.01), recurrent_regularizer=l2(0.01), bias_regularizer=l2(0.01))\n",
    "# decoder_outputs, _, _= decoder_lstm(dec_emb, initial_state = encoder_states)\n",
    "\n",
    "decoder_outputs, _, _= decoder_lstm(decoder_masking, initial_state = encoder_states)"
   ]
  },
  {
   "cell_type": "code",
   "execution_count": 34,
   "id": "56a6f068",
   "metadata": {},
   "outputs": [],
   "source": [
    "\n",
    "decoder_batchnorm = tf.keras.layers.LayerNormalization()(decoder_outputs)\n",
    "# decoder_dropout = tf.keras.layers.Dropout(0.5)#0.3\n",
    "decoder_softmax_layer = Dense(fra_vocab_size, activation='softmax')\n",
    "# decoder_softmax_layer = Dense(fra_vocab_size, activation='softmax' , \n",
    "#                              kernel_regularizer=regularizers.L1L2(l1=0.001, l2=0.001),\n",
    "#     bias_regularizer=regularizers.L2(0.001),\n",
    "#     activity_regularizer=regularizers.L2(0.001))\n",
    "\n",
    "decoder_outputs = decoder_softmax_layer(decoder_outputs)"
   ]
  },
  {
   "cell_type": "markdown",
   "id": "0ec191b9",
   "metadata": {},
   "source": [
    "## Step 5. 모델 구현하기"
   ]
  },
  {
   "cell_type": "code",
   "execution_count": 35,
   "id": "c8400397",
   "metadata": {},
   "outputs": [],
   "source": [
    "opt = tf.keras.optimizers.Adam(learning_rate = 0.0001 ) # Adam 1.34"
   ]
  },
  {
   "cell_type": "code",
   "execution_count": 36,
   "id": "e7853510",
   "metadata": {},
   "outputs": [],
   "source": [
    "tf.random.set_seed(1)\n",
    "model = Model([encoder_inputs, decoder_inputs], decoder_outputs)"
   ]
  },
  {
   "cell_type": "code",
   "execution_count": 37,
   "id": "03dca361",
   "metadata": {},
   "outputs": [],
   "source": [
    "model.compile(optimizer=opt, \n",
    "              loss=\"sparse_categorical_crossentropy\" , \n",
    "              metrics=['accuracy'])\n",
    "\n",
    "\n",
    "# 원-핫 인코딩 하지 않아서\n",
    "# sparse_categorical_crossentropy를 사용해준다"
   ]
  },
  {
   "cell_type": "code",
   "execution_count": 38,
   "id": "f5e7593a",
   "metadata": {},
   "outputs": [
    {
     "name": "stdout",
     "output_type": "stream",
     "text": [
      "Model: \"model\"\n",
      "__________________________________________________________________________________________________\n",
      "Layer (type)                    Output Shape         Param #     Connected to                     \n",
      "==================================================================================================\n",
      "input_1 (InputLayer)            [(None, None)]       0                                            \n",
      "__________________________________________________________________________________________________\n",
      "input_2 (InputLayer)            [(None, None)]       0                                            \n",
      "__________________________________________________________________________________________________\n",
      "embedding (Embedding)           (None, None, 128)    615680      input_1[0][0]                    \n",
      "__________________________________________________________________________________________________\n",
      "embedding_1 (Embedding)         (None, None, 128)    1282688     input_2[0][0]                    \n",
      "__________________________________________________________________________________________________\n",
      "masking (Masking)               (None, None, 128)    0           embedding[0][0]                  \n",
      "__________________________________________________________________________________________________\n",
      "masking_1 (Masking)             (None, None, 128)    0           embedding_1[0][0]                \n",
      "__________________________________________________________________________________________________\n",
      "lstm (LSTM)                     [(None, 256), (None, 394240      masking[0][0]                    \n",
      "__________________________________________________________________________________________________\n",
      "lstm_1 (LSTM)                   [(None, None, 256),  394240      masking_1[0][0]                  \n",
      "                                                                 lstm[0][1]                       \n",
      "                                                                 lstm[0][2]                       \n",
      "__________________________________________________________________________________________________\n",
      "dense (Dense)                   (None, None, 10021)  2575397     lstm_1[0][0]                     \n",
      "==================================================================================================\n",
      "Total params: 5,262,245\n",
      "Trainable params: 5,262,245\n",
      "Non-trainable params: 0\n",
      "__________________________________________________________________________________________________\n"
     ]
    }
   ],
   "source": [
    "model.summary()"
   ]
  },
  {
   "cell_type": "code",
   "execution_count": 39,
   "id": "1315e11d",
   "metadata": {
    "scrolled": true
   },
   "outputs": [
    {
     "name": "stdout",
     "output_type": "stream",
     "text": [
      "Epoch 1/50\n",
      "235/235 [==============================] - 18s 43ms/step - loss: 4.6395 - accuracy: 0.6162 - val_loss: 2.4740 - val_accuracy: 0.5947\n",
      "Epoch 2/50\n",
      "235/235 [==============================] - 8s 34ms/step - loss: 2.0845 - accuracy: 0.6339 - val_loss: 2.3111 - val_accuracy: 0.6070\n",
      "Epoch 3/50\n",
      "235/235 [==============================] - 8s 34ms/step - loss: 1.9675 - accuracy: 0.6601 - val_loss: 2.2372 - val_accuracy: 0.6258\n",
      "Epoch 4/50\n",
      "235/235 [==============================] - 8s 34ms/step - loss: 1.8811 - accuracy: 0.6868 - val_loss: 2.1368 - val_accuracy: 0.6458\n",
      "Epoch 5/50\n",
      "235/235 [==============================] - 8s 34ms/step - loss: 1.7937 - accuracy: 0.7250 - val_loss: 2.0511 - val_accuracy: 0.7009\n",
      "Epoch 6/50\n",
      "235/235 [==============================] - 8s 34ms/step - loss: 1.7203 - accuracy: 0.7510 - val_loss: 1.9858 - val_accuracy: 0.7249\n",
      "Epoch 7/50\n",
      "235/235 [==============================] - 8s 35ms/step - loss: 1.6603 - accuracy: 0.7572 - val_loss: 1.9314 - val_accuracy: 0.7274\n",
      "Epoch 8/50\n",
      "235/235 [==============================] - 8s 35ms/step - loss: 1.6144 - accuracy: 0.7580 - val_loss: 1.8973 - val_accuracy: 0.7286\n",
      "Epoch 9/50\n",
      "235/235 [==============================] - 8s 35ms/step - loss: 1.5711 - accuracy: 0.7593 - val_loss: 1.8577 - val_accuracy: 0.7300\n",
      "Epoch 10/50\n",
      "235/235 [==============================] - 8s 35ms/step - loss: 1.5304 - accuracy: 0.7686 - val_loss: 1.8246 - val_accuracy: 0.7353\n",
      "Epoch 11/50\n",
      "235/235 [==============================] - 8s 35ms/step - loss: 1.4943 - accuracy: 0.7731 - val_loss: 1.7955 - val_accuracy: 0.7424\n",
      "Epoch 12/50\n",
      "235/235 [==============================] - 8s 35ms/step - loss: 1.4609 - accuracy: 0.7764 - val_loss: 1.7667 - val_accuracy: 0.7472\n",
      "Epoch 13/50\n",
      "235/235 [==============================] - 8s 35ms/step - loss: 1.4282 - accuracy: 0.7795 - val_loss: 1.7406 - val_accuracy: 0.7509\n",
      "Epoch 14/50\n",
      "235/235 [==============================] - 8s 36ms/step - loss: 1.3948 - accuracy: 0.7818 - val_loss: 1.7126 - val_accuracy: 0.7539\n",
      "Epoch 15/50\n",
      "235/235 [==============================] - 8s 36ms/step - loss: 1.3607 - accuracy: 0.7855 - val_loss: 1.6838 - val_accuracy: 0.7576\n",
      "Epoch 16/50\n",
      "235/235 [==============================] - 8s 35ms/step - loss: 1.3272 - accuracy: 0.7899 - val_loss: 1.6577 - val_accuracy: 0.7600\n",
      "Epoch 17/50\n",
      "235/235 [==============================] - 8s 35ms/step - loss: 1.2956 - accuracy: 0.7951 - val_loss: 1.6312 - val_accuracy: 0.7620\n",
      "Epoch 18/50\n",
      "235/235 [==============================] - 8s 35ms/step - loss: 1.2661 - accuracy: 0.7986 - val_loss: 1.6085 - val_accuracy: 0.7653\n",
      "Epoch 19/50\n",
      "235/235 [==============================] - 8s 35ms/step - loss: 1.2390 - accuracy: 0.8021 - val_loss: 1.5893 - val_accuracy: 0.7681\n",
      "Epoch 20/50\n",
      "235/235 [==============================] - 8s 35ms/step - loss: 1.2142 - accuracy: 0.8071 - val_loss: 1.5729 - val_accuracy: 0.7696\n",
      "Epoch 21/50\n",
      "235/235 [==============================] - 8s 35ms/step - loss: 1.1914 - accuracy: 0.8107 - val_loss: 1.5610 - val_accuracy: 0.7704\n",
      "Epoch 22/50\n",
      "235/235 [==============================] - 8s 35ms/step - loss: 1.1702 - accuracy: 0.8132 - val_loss: 1.5472 - val_accuracy: 0.7725\n",
      "Epoch 23/50\n",
      "235/235 [==============================] - 8s 35ms/step - loss: 1.1504 - accuracy: 0.8152 - val_loss: 1.5350 - val_accuracy: 0.7736\n",
      "Epoch 24/50\n",
      "235/235 [==============================] - 8s 35ms/step - loss: 1.1318 - accuracy: 0.8170 - val_loss: 1.5232 - val_accuracy: 0.7745\n",
      "Epoch 25/50\n",
      "235/235 [==============================] - 8s 35ms/step - loss: 1.1138 - accuracy: 0.8188 - val_loss: 1.5115 - val_accuracy: 0.7768\n",
      "Epoch 26/50\n",
      "235/235 [==============================] - 8s 35ms/step - loss: 1.0965 - accuracy: 0.8211 - val_loss: 1.4989 - val_accuracy: 0.7785\n",
      "Epoch 27/50\n",
      "235/235 [==============================] - 8s 35ms/step - loss: 1.0796 - accuracy: 0.8238 - val_loss: 1.4868 - val_accuracy: 0.7799\n",
      "Epoch 28/50\n",
      "235/235 [==============================] - 8s 35ms/step - loss: 1.0630 - accuracy: 0.8260 - val_loss: 1.4786 - val_accuracy: 0.7816\n",
      "Epoch 29/50\n",
      "235/235 [==============================] - 8s 35ms/step - loss: 1.0467 - accuracy: 0.8277 - val_loss: 1.4687 - val_accuracy: 0.7822\n",
      "Epoch 30/50\n",
      "235/235 [==============================] - 8s 35ms/step - loss: 1.0311 - accuracy: 0.8295 - val_loss: 1.4604 - val_accuracy: 0.7840\n",
      "Epoch 31/50\n",
      "235/235 [==============================] - 8s 35ms/step - loss: 1.0162 - accuracy: 0.8313 - val_loss: 1.4516 - val_accuracy: 0.7862\n",
      "Epoch 32/50\n",
      "235/235 [==============================] - 8s 35ms/step - loss: 1.0014 - accuracy: 0.8325 - val_loss: 1.4463 - val_accuracy: 0.7878\n",
      "Epoch 33/50\n",
      "235/235 [==============================] - 8s 35ms/step - loss: 0.9874 - accuracy: 0.8342 - val_loss: 1.4389 - val_accuracy: 0.7877\n",
      "Epoch 34/50\n",
      "235/235 [==============================] - 8s 35ms/step - loss: 0.9736 - accuracy: 0.8359 - val_loss: 1.4324 - val_accuracy: 0.7889\n",
      "Epoch 35/50\n",
      "235/235 [==============================] - 8s 35ms/step - loss: 0.9604 - accuracy: 0.8369 - val_loss: 1.4253 - val_accuracy: 0.7901\n",
      "Epoch 36/50\n",
      "235/235 [==============================] - 8s 35ms/step - loss: 0.9477 - accuracy: 0.8384 - val_loss: 1.4202 - val_accuracy: 0.7911\n",
      "Epoch 37/50\n",
      "235/235 [==============================] - 8s 35ms/step - loss: 0.9355 - accuracy: 0.8395 - val_loss: 1.4147 - val_accuracy: 0.7914\n",
      "Epoch 38/50\n",
      "235/235 [==============================] - 8s 35ms/step - loss: 0.9238 - accuracy: 0.8405 - val_loss: 1.4078 - val_accuracy: 0.7926\n",
      "Epoch 39/50\n",
      "235/235 [==============================] - 8s 35ms/step - loss: 0.9125 - accuracy: 0.8415 - val_loss: 1.4058 - val_accuracy: 0.7932\n",
      "Epoch 40/50\n",
      "235/235 [==============================] - 8s 35ms/step - loss: 0.9013 - accuracy: 0.8426 - val_loss: 1.3979 - val_accuracy: 0.7950\n",
      "Epoch 41/50\n",
      "235/235 [==============================] - 8s 35ms/step - loss: 0.8906 - accuracy: 0.8437 - val_loss: 1.3948 - val_accuracy: 0.7952\n",
      "Epoch 42/50\n",
      "235/235 [==============================] - 8s 35ms/step - loss: 0.8801 - accuracy: 0.8445 - val_loss: 1.3896 - val_accuracy: 0.7963\n",
      "Epoch 43/50\n",
      "235/235 [==============================] - 8s 35ms/step - loss: 0.8695 - accuracy: 0.8458 - val_loss: 1.3880 - val_accuracy: 0.7966\n",
      "Epoch 44/50\n",
      "235/235 [==============================] - 8s 35ms/step - loss: 0.8594 - accuracy: 0.8465 - val_loss: 1.3820 - val_accuracy: 0.7963\n",
      "Epoch 45/50\n",
      "235/235 [==============================] - 8s 35ms/step - loss: 0.8498 - accuracy: 0.8474 - val_loss: 1.3795 - val_accuracy: 0.7970\n",
      "Epoch 46/50\n",
      "235/235 [==============================] - 8s 35ms/step - loss: 0.8402 - accuracy: 0.8482 - val_loss: 1.3768 - val_accuracy: 0.7972\n",
      "Epoch 47/50\n",
      "235/235 [==============================] - 8s 35ms/step - loss: 0.8307 - accuracy: 0.8493 - val_loss: 1.3703 - val_accuracy: 0.7985\n",
      "Epoch 48/50\n",
      "235/235 [==============================] - 8s 35ms/step - loss: 0.8217 - accuracy: 0.8499 - val_loss: 1.3684 - val_accuracy: 0.7986\n",
      "Epoch 49/50\n",
      "235/235 [==============================] - 8s 35ms/step - loss: 0.8126 - accuracy: 0.8507 - val_loss: 1.3668 - val_accuracy: 0.7995\n",
      "Epoch 50/50\n",
      "235/235 [==============================] - 8s 35ms/step - loss: 0.8040 - accuracy: 0.8517 - val_loss: 1.3617 - val_accuracy: 0.8000\n"
     ]
    }
   ],
   "source": [
    "hist= model.fit(x=[encoder_input_train, decoder_input_train], \n",
    "                y=decoder_target_train, \n",
    "                validation_data = ([encoder_input_test, decoder_input_test], decoder_target_test),\n",
    "                batch_size=128, \n",
    "                epochs=50)\n",
    "\n",
    "## learning_rate = 0.0001 \n",
    "## batch 32"
   ]
  },
  {
   "cell_type": "code",
   "execution_count": 41,
   "id": "2269de5e",
   "metadata": {},
   "outputs": [
    {
     "name": "stdout",
     "output_type": "stream",
     "text": [
      "dict_keys(['loss', 'accuracy', 'val_loss', 'val_accuracy'])\n"
     ]
    }
   ],
   "source": [
    "history_dict = hist.history\n",
    "print(history_dict.keys())"
   ]
  },
  {
   "cell_type": "code",
   "execution_count": 42,
   "id": "3380fffe",
   "metadata": {},
   "outputs": [
    {
     "data": {
      "image/png": "[encoded data removed]",
      "text/plain": [
       "<Figure size 432x288 with 1 Axes>"
      ]
     },
     "metadata": {
      "needs_background": "light"
     },
     "output_type": "display_data"
    }
   ],
   "source": [
    "import matplotlib.pyplot as plt\n",
    "\n",
    "acc = history_dict['accuracy']\n",
    "val_acc = history_dict['val_accuracy']\n",
    "loss = history_dict['loss']\n",
    "val_loss = history_dict['val_loss']\n",
    "\n",
    "epochs = range(1, len(acc) + 1)\n",
    "\n",
    "# \"bo\"는 \"파란색 점\"입니다\n",
    "plt.plot(epochs, loss, 'bo', label='Training loss')\n",
    "# b는 \"파란 실선\"입니다\n",
    "plt.plot(epochs, val_loss, 'b', label='Validation loss')\n",
    "plt.title('Training and validation loss')\n",
    "plt.xlabel('Epochs')\n",
    "plt.ylabel('Loss')\n",
    "plt.legend()\n",
    "\n",
    "plt.show()"
   ]
  },
  {
   "cell_type": "code",
   "execution_count": 43,
   "id": "8d4aeb5b",
   "metadata": {},
   "outputs": [
    {
     "data": {
      "image/png": "[encoded data removed]",
      "text/plain": [
       "<Figure size 432x288 with 1 Axes>"
      ]
     },
     "metadata": {
      "needs_background": "light"
     },
     "output_type": "display_data"
    }
   ],
   "source": [
    "plt.clf()   # 그림을 초기화합니다\n",
    "\n",
    "plt.plot(epochs, acc, 'bo', label='Training acc')\n",
    "plt.plot(epochs, val_acc, 'b', label='Validation acc')\n",
    "plt.title('Training and validation accuracy')\n",
    "plt.xlabel('Epochs')\n",
    "plt.ylabel('Accuracy')\n",
    "plt.legend()\n",
    "\n",
    "plt.show()"
   ]
  },
  {
   "cell_type": "markdown",
   "id": "f5c3f741",
   "metadata": {},
   "source": [
    "## Step 6. 모델 평가하기"
   ]
  },
  {
   "cell_type": "code",
   "execution_count": 44,
   "id": "055abed1",
   "metadata": {},
   "outputs": [
    {
     "name": "stdout",
     "output_type": "stream",
     "text": [
      "Model: \"model_1\"\n",
      "_________________________________________________________________\n",
      "Layer (type)                 Output Shape              Param #   \n",
      "=================================================================\n",
      "input_1 (InputLayer)         [(None, None)]            0         \n",
      "_________________________________________________________________\n",
      "embedding (Embedding)        (None, None, 128)         615680    \n",
      "_________________________________________________________________\n",
      "masking (Masking)            (None, None, 128)         0         \n",
      "_________________________________________________________________\n",
      "lstm (LSTM)                  [(None, 256), (None, 256) 394240    \n",
      "=================================================================\n",
      "Total params: 1,009,920\n",
      "Trainable params: 1,009,920\n",
      "Non-trainable params: 0\n",
      "_________________________________________________________________\n"
     ]
    }
   ],
   "source": [
    "encoder_model = Model(inputs = encoder_inputs, outputs = encoder_states)\n",
    "encoder_model.summary()"
   ]
  },
  {
   "cell_type": "code",
   "execution_count": 45,
   "id": "6ff33c82",
   "metadata": {},
   "outputs": [],
   "source": [
    "# 이전 time step의 hidden state를 저장하는 텐서\n",
    "decoder_state_input_h = Input(shape=(256,))\n",
    "# 이전 time step의 cell state를 저장하는 텐서\n",
    "decoder_state_input_c = Input(shape=(256,))\n",
    "# 이전 time step의 hidden state와 cell state를 하나의 변수에 저장\n",
    "decoder_states_inputs = [decoder_state_input_h, decoder_state_input_c]\n",
    "\n",
    "decoder_outputs, state_h, state_c = decoder_lstm(dec_emb, initial_state = decoder_states_inputs)\n",
    "# 현재 time step의 hidden state와 cell state를 하나의 변수에 저장.\n",
    "decoder_states = [state_h, state_c]\n",
    "\n"
   ]
  },
  {
   "cell_type": "code",
   "execution_count": 46,
   "id": "78e2cbb1",
   "metadata": {},
   "outputs": [
    {
     "name": "stdout",
     "output_type": "stream",
     "text": [
      "Model: \"model_2\"\n",
      "__________________________________________________________________________________________________\n",
      "Layer (type)                    Output Shape         Param #     Connected to                     \n",
      "==================================================================================================\n",
      "input_2 (InputLayer)            [(None, None)]       0                                            \n",
      "__________________________________________________________________________________________________\n",
      "embedding_1 (Embedding)         (None, None, 128)    1282688     input_2[0][0]                    \n",
      "__________________________________________________________________________________________________\n",
      "input_3 (InputLayer)            [(None, 256)]        0                                            \n",
      "__________________________________________________________________________________________________\n",
      "input_4 (InputLayer)            [(None, 256)]        0                                            \n",
      "__________________________________________________________________________________________________\n",
      "lstm_1 (LSTM)                   [(None, None, 256),  394240      embedding_1[0][0]                \n",
      "                                                                 input_3[0][0]                    \n",
      "                                                                 input_4[0][0]                    \n",
      "__________________________________________________________________________________________________\n",
      "dense (Dense)                   (None, None, 10021)  2575397     lstm_1[1][0]                     \n",
      "==================================================================================================\n",
      "Total params: 4,252,325\n",
      "Trainable params: 4,252,325\n",
      "Non-trainable params: 0\n",
      "__________________________________________________________________________________________________\n"
     ]
    }
   ],
   "source": [
    "decoder_outputs = decoder_softmax_layer(decoder_outputs)\n",
    "decoder_model = Model(inputs=[decoder_inputs] + decoder_states_inputs, outputs=[decoder_outputs] + decoder_states)\n",
    "decoder_model.summary()\n"
   ]
  },
  {
   "cell_type": "code",
   "execution_count": 47,
   "id": "94580ef8",
   "metadata": {},
   "outputs": [],
   "source": [
    "eng2idx = eng_tokenizer.word_index\n",
    "fra2idx = fra_tokenizer.word_index\n",
    "idx2eng = eng_tokenizer.index_word\n",
    "idx2fra = fra_tokenizer.index_word"
   ]
  },
  {
   "cell_type": "code",
   "execution_count": 48,
   "id": "f8b3c7dc",
   "metadata": {},
   "outputs": [],
   "source": [
    "def decode_sequence(input_seq):\n",
    "    # 입력으로부터 인코더의 상태를 얻음\n",
    "    states_value = encoder_model.predict(input_seq)\n",
    "\n",
    "    # 에 해당하는 원-핫 벡터 생성\n",
    "    target_seq = np.zeros((1,1)) \n",
    "    target_seq[0, 0] = fra2idx['\\t']\n",
    "    \n",
    "    stop_condition = False\n",
    "    decoded_sentence = \"\"\n",
    "\n",
    "    # stop_condition이 True가 될 때까지 루프 반복\n",
    "    while not stop_condition:\n",
    "        # 이점 시점의 상태 states_value를 현 시점의 초기 상태로 사용\n",
    "        output_tokens, h, c = decoder_model.predict([target_seq] + states_value)\n",
    "\n",
    "        # 예측 결과를 문자로 변환\n",
    "        sampled_token_index = np.argmax(output_tokens[0, -1, :])\n",
    "        sampled_char = idx2fra[sampled_token_index]\n",
    "\n",
    "        # 현재 시점의 예측 문자를 예측 문장에 추가\n",
    "        decoded_sentence += ' '+sampled_char\n",
    "\n",
    "        # 에 도달하거나 최대 길이를 넘으면 중단.\n",
    "        if (sampled_char == '\\n' or\n",
    "           len(decoded_sentence) > max_fra_seq_len):\n",
    "            stop_condition = True\n",
    "\n",
    "        # 현재 시점의 예측 결과를 다음 시점의 입력으로 사용하기 위해 저장     \n",
    "        target_seq = np.zeros((1, 1))\n",
    "        target_seq[0, 0] = sampled_token_index\n",
    "\n",
    "        # 현재 시점의 상태를 다음 시점의 상태로 사용하기 위해 저장\n",
    "        states_value = [h, c]\n",
    "\n",
    "    return decoded_sentence"
   ]
  },
  {
   "cell_type": "code",
   "execution_count": 49,
   "id": "8e16dad8",
   "metadata": {},
   "outputs": [
    {
     "name": "stdout",
     "output_type": "stream",
     "text": [
      "-----------------------------------\n",
      "입력 문장: Come over . \n",
      "정답 문장:  Viens chez nous   !   \n",
      "번역기가 번역한 문장:  venez ! \n",
      "-----------------------------------\n",
      "입력 문장: Go ahead . \n",
      "정답 문장:  Allez  -  y   !   \n",
      "번역기가 번역한 문장:  allez - vous . \n",
      "-----------------------------------\n",
      "입력 문장: Talk to Tom . \n",
      "정답 문장:  Parle à Tom   !   \n",
      "번역기가 번역한 문장:  laisse tom . \n",
      "-----------------------------------\n",
      "입력 문장: Begin . \n",
      "정답 문장:  Commencez  .   \n",
      "번역기가 번역한 문장:  commencez . \n",
      "-----------------------------------\n",
      "입력 문장: Relax . \n",
      "정답 문장:  Détends  -  toi   !   \n",
      "번역기가 번역한 문장:  va ! \n",
      "-----------------------------------\n",
      "입력 문장: Get out ! \n",
      "정답 문장:  Dégage   !   \n",
      "번역기가 번역한 문장:  va à toi ! \n"
     ]
    }
   ],
   "source": [
    "import numpy as np\n",
    "for seq_index in [894,563,3856,45,60,234]: # 입력 문장의 인덱스 (자유롭게 선택해 보세요)\n",
    "    input_seq = encoder_input[seq_index: seq_index + 1]\n",
    "    decoded_sentence = decode_sequence(input_seq)\n",
    "    print(35 * \"-\")\n",
    "    print('입력 문장:', lines.eng[seq_index])\n",
    "    print('정답 문장:', lines.fra[seq_index][1:len(lines.fra[seq_index])-1]) # '\\t'와 '\\n'을 빼고 출력\n",
    "    print('번역기가 번역한 문장:', decoded_sentence[:len(decoded_sentence)-1]) # '\\n'을 빼고 출력"
   ]
  },
  {
   "cell_type": "markdown",
   "id": "9efc13b5",
   "metadata": {},
   "source": [
    "###### 번역기 결과"
   ]
  },
  {
   "attachments": {
    "image-10.png": {
     "image/png": "[encoded data removed]"
    },
    "image-11.png": {
     "image/png": "[encoded data removed]"
    },
    "image-3.png": {
     "image/png": "[encoded data removed]"
    },
    "image-7.png": {
     "image/png": "[encoded data removed]"
    },
    "image-8.png": {
     "image/png": "[encoded data removed]"
    },
    "image-9.png": {
     "image/png": "[encoded data removed]"
    }
   },
   "cell_type": "markdown",
   "id": "431c0127",
   "metadata": {},
   "source": [
    "![image-7.png](attachment:image-7.png)\n",
    "\n",
    "![image-8.png](attachment:image-8.png)\n",
    "\n",
    "![image-3.png](attachment:image-3.png)\n",
    "\n",
    "![image-9.png](attachment:image-9.png)\n",
    "\n",
    "![image-10.png](attachment:image-10.png)\n",
    "\n",
    "![image-11.png](attachment:image-11.png)"
   ]
  },
  {
   "cell_type": "markdown",
   "id": "c182d38a",
   "metadata": {},
   "source": [
    "정답문장과 완벽하게 일치하는 문장은 없었지만,\n",
    "\n",
    "구글 번역기를 사용해보니 대충 비슷한 의미를 가지게 번역된것들이있었다."
   ]
  },
  {
   "cell_type": "markdown",
   "id": "a544da9d",
   "metadata": {},
   "source": [
    "# 회고"
   ]
  },
  {
   "cell_type": "markdown",
   "id": "cceb50f7",
   "metadata": {},
   "source": [
    "- 이번 프로젝트에서 **어려웠던 점,**\n",
    "\n",
    "전처리하는 과정과 정규화하는 과정이 어려웠다."
   ]
  },
  {
   "cell_type": "markdown",
   "id": "5ea99c40",
   "metadata": {},
   "source": [
    "- 프로젝트를 진행하면서 **알아낸 점** 혹은 **아직 모호한 점**.\n",
    "\n",
    "char_level= True가 알파벳단위로 하는 문자수준이라는것\n",
    "\n",
    "Tokenizer 파라미터 값들을 더 자세히 알았다\n",
    "\n",
    "LayerNormalization도 사용해보고 Dropout도 적용해보았다\n",
    "\n",
    "오버피팅 방지하기위해 다양한 방법을 더 찾아서 적용해보고싶다\n",
    "\n",
    "\n",
    "시도를 하면서 꽤나 괜찮은 값이 나왔다고 생각했는데,\n",
    "\n",
    "번역기를 돌려서 확인해보니 결과가 좋지않아서 마음이 불편하다."
   ]
  },
  {
   "cell_type": "markdown",
   "id": "c1c0a505",
   "metadata": {},
   "source": [
    "- 루브릭 평가 지표를 맞추기 위해 **시도한 것들**.\n",
    "\n",
    "전처리 과정과 정규화과정을 신경썼고 \n",
    "\n",
    "모델이 잘 돌아가고 그래프가 우하향 하는 경향을 보이도록 신경썼다\n",
    "\n"
   ]
  },
  {
   "cell_type": "markdown",
   "id": "1b6970ed",
   "metadata": {},
   "source": [
    "- 만약에 루브릭 평가 관련 지표를 **달성 하지 못했을 때, 이유에 관한 추정**.낌\n",
    "\n",
    "val_loss 그래프가 우하향하지만 loss값이 꽤나 큰것이 아쉽다\n"
   ]
  },
  {
   "cell_type": "markdown",
   "id": "50766145",
   "metadata": {},
   "source": [
    "- **자기 다짐**\n",
    "\n",
    "오버피팅을 방지하기위해 다양한 방법을 적용해보는 시도를 하면 좋을 것 같다\n",
    "\n",
    "옵티마이저도 다양하게 적용해보고 하이퍼파라미터값을 바꾸면서 \n",
    "\n",
    "loss값을 줄일 수 있는 방법을 찾아 보고싶다\n",
    "\n",
    "https://machinelearningmastery.com/how-to-reduce-overfitting-in-deep-learning-with-weight-regularization/\n",
    "\n",
    "https://keras.io/api/layers/regularizers/"
   ]
  }
 ],
 "metadata": {
  "kernelspec": {
   "display_name": "Python 3 (ipykernel)",
   "language": "python",
   "name": "python3"
  },
  "language_info": {
   "codemirror_mode": {
    "name": "ipython",
    "version": 3
   },
   "file_extension": ".py",
   "mimetype": "text/x-python",
   "name": "python",
   "nbconvert_exporter": "python",
   "pygments_lexer": "ipython3",
   "version": "3.9.7"
  }
 },
 "nbformat": 4,
 "nbformat_minor": 5
}
